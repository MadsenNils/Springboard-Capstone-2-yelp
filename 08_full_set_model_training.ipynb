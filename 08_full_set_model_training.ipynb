{
 "cells": [
  {
   "cell_type": "code",
   "execution_count": 1,
   "metadata": {},
   "outputs": [
    {
     "name": "stderr",
     "output_type": "stream",
     "text": [
      "Using TensorFlow backend.\n"
     ]
    },
    {
     "data": {
      "text/plain": [
       "<module 'cap2tools' from 'C:\\\\Users\\\\Nils\\\\Documents\\\\GitHub\\\\Springboard-Capstone-2-local-yelp\\\\cap2tools.py'>"
      ]
     },
     "execution_count": 1,
     "metadata": {},
     "output_type": "execute_result"
    }
   ],
   "source": [
    "import pandas as pd\n",
    "import numpy as np\n",
    "import matplotlib.pyplot as plt\n",
    "import tensorflow as tf\n",
    "import keras.backend as K\n",
    "from keras.preprocessing.image import ImageDataGenerator\n",
    "from keras.callbacks import ModelCheckpoint, EarlyStopping\n",
    "from keras.optimizers import Adam\n",
    "from keras.models import load_model\n",
    "import importlib as imp\n",
    "import gc\n",
    "from datetime import datetime\n",
    "\n",
    "# custom module for capstone 2\n",
    "import cap2tools as c2t\n",
    "imp.reload(c2t)"
   ]
  },
  {
   "cell_type": "code",
   "execution_count": 2,
   "metadata": {},
   "outputs": [],
   "source": [
    "# configure GPU memory usage by tensorflow\n",
    "config = K.tf.ConfigProto()\n",
    "config.gpu_options.allow_growth = True\n",
    "config.gpu_options.per_process_gpu_memory_fraction = 0.90\n",
    "K.tensorflow_backend.set_session(K.tf.Session(config=config))"
   ]
  },
  {
   "cell_type": "code",
   "execution_count": 3,
   "metadata": {},
   "outputs": [
    {
     "name": "stdout",
     "output_type": "stream",
     "text": [
      "Found 230992 images belonging to 5 classes.\n",
      "Found 20000 images belonging to 5 classes.\n"
     ]
    }
   ],
   "source": [
    "# define paths to image directories\n",
    "photos_path = 'H:/springboard/other_data/yelp/Photos/final_photos/'\n",
    "train_path = photos_path + 'train'\n",
    "valid_path = photos_path + 'val'\n",
    "\n",
    "# create data generators\n",
    "train_batches, valid_batches = c2t.build_datagens(train_path, valid_path, augment=True)"
   ]
  },
  {
   "cell_type": "code",
   "execution_count": 4,
   "metadata": {},
   "outputs": [],
   "source": [
    "# set balanced class weights\n",
    "images_df = pd.read_csv('photo_labels_all.csv')\n",
    "train_df = images_df[images_df.set == 'train']\n",
    "counts = train_df.label.value_counts()\n",
    "weights = counts.food/counts\n",
    "weights_df = pd.DataFrame(counts)\n",
    "weights_df.columns = ['count']\n",
    "weights_df['weight'] = weights\n",
    "weights_df['i'] = [1, 2, 4, 0, 3]\n",
    "weights_df.set_index('i', inplace=True)\n",
    "weights_dict = weights_df.weight.to_dict()"
   ]
  },
  {
   "cell_type": "code",
   "execution_count": 5,
   "metadata": {
    "scrolled": true
   },
   "outputs": [
    {
     "name": "stdout",
     "output_type": "stream",
     "text": [
      "2018-09-25 00:58:12 - Started training models/full_set_model.h5\n",
      "Epoch 1/5\n",
      "28874/28874 [==============================] - 6511s 226ms/step - loss: 0.2789 - acc: 0.9027 - val_loss: 0.2130 - val_acc: 0.9241\n",
      "\n",
      "Epoch 00001: val_loss improved from inf to 0.21304, saving model to models/full_set_model.h5\n",
      "Epoch 2/5\n",
      "28874/28874 [==============================] - 6506s 225ms/step - loss: 0.2429 - acc: 0.9145 - val_loss: 0.2041 - val_acc: 0.9271\n",
      "\n",
      "Epoch 00002: val_loss improved from 0.21304 to 0.20411, saving model to models/full_set_model.h5\n",
      "Epoch 3/5\n",
      "28874/28874 [==============================] - 6505s 225ms/step - loss: 0.2342 - acc: 0.9182 - val_loss: 0.1984 - val_acc: 0.9297\n",
      "\n",
      "Epoch 00003: val_loss improved from 0.20411 to 0.19836, saving model to models/full_set_model.h5\n",
      "Epoch 4/5\n",
      "28874/28874 [==============================] - 6507s 225ms/step - loss: 0.2288 - acc: 0.9203 - val_loss: 0.1970 - val_acc: 0.9294\n",
      "\n",
      "Epoch 00004: val_loss improved from 0.19836 to 0.19702, saving model to models/full_set_model.h5\n",
      "Epoch 5/5\n",
      "28874/28874 [==============================] - 6505s 225ms/step - loss: 0.2257 - acc: 0.9209 - val_loss: 0.1931 - val_acc: 0.9310\n",
      "\n",
      "Epoch 00005: val_loss improved from 0.19702 to 0.19311, saving model to models/full_set_model.h5\n"
     ]
    },
    {
     "data": {
      "text/plain": [
       "21582"
      ]
     },
     "execution_count": 5,
     "metadata": {},
     "output_type": "execute_result"
    }
   ],
   "source": [
    "# test model without class weight balancing\n",
    "n_epochs = 5\n",
    "\n",
    "# build model\n",
    "model = c2t.build_VGG16(widths=(1000, 1250), \n",
    "                        new_weights=False, \n",
    "                        trainable=True, \n",
    "                        dropout1=0, \n",
    "                        dropout2=0.2)\n",
    "\n",
    "model.compile(optimizer=Adam(lr=0.0001, decay=0.1), \n",
    "              loss='categorical_crossentropy', \n",
    "              metrics=['accuracy'])\n",
    "\n",
    "# define callbacks\n",
    "filepath = 'models/full_set_model.h5'\n",
    "saver = ModelCheckpoint(filepath,\n",
    "                        monitor='val_loss',\n",
    "                        verbose=1,\n",
    "                        save_best_only=True)\n",
    "\n",
    "stopper = EarlyStopping(monitor='val_loss', \n",
    "                        patience=2, \n",
    "                        verbose=1)\n",
    "\n",
    "datetime_now = datetime.now().strftime('%Y-%m-%d %H:%M:%S')\n",
    "print('{} - Started training {}'.format(datetime_now, filepath))\n",
    "\n",
    "# train model without balanced class weights\n",
    "history = model.fit_generator(train_batches, \n",
    "                              validation_data=valid_batches,\n",
    "                              epochs=n_epochs,\n",
    "                              verbose=1, \n",
    "                              callbacks=[saver, stopper])\n",
    "\n",
    "# clear memory\n",
    "K.clear_session()\n",
    "del model\n",
    "gc.collect()"
   ]
  },
  {
   "cell_type": "code",
   "execution_count": 5,
   "metadata": {},
   "outputs": [
    {
     "name": "stdout",
     "output_type": "stream",
     "text": [
      "Building image generator...\n",
      "Found 20000 images belonging to 5 classes.\n",
      "Loading models/full_set_model.h5\n",
      "Evaluating models/full_set_model.h5\n",
      "Evaluation complete.\n",
      "\n",
      "accuracy:  93.1%\n",
      "loss:  0.1931\n",
      "pcr:  [0.4727 0.9859 0.9024 0.2095 0.8182]\n",
      "mean pcr:  67.77%\n",
      "confusion matrix: \n"
     ]
    },
    {
     "data": {
      "text/plain": [
       "[[355, 168, 199, 0, 29],\n",
       " [40, 13055, 110, 0, 37],\n",
       " [19, 83, 3847, 0, 314],\n",
       " [3, 4, 39, 22, 37],\n",
       " [1, 6, 291, 0, 1341]]"
      ]
     },
     "execution_count": 5,
     "metadata": {},
     "output_type": "execute_result"
    }
   ],
   "source": [
    "model_paths = {'model': 'models/full_set_model.h5'}\n",
    "model_metrics = c2t.eval_models(model_paths, valid_path)\n",
    "c2t.print_eval(model_metrics['model'])"
   ]
  },
  {
   "cell_type": "code",
   "execution_count": 5,
   "metadata": {
    "scrolled": true
   },
   "outputs": [
    {
     "name": "stdout",
     "output_type": "stream",
     "text": [
      "2018-09-26 02:01:51 - Started training models/full_set_model_balanced.h5\n",
      "Epoch 1/5\n",
      "28874/28874 [==============================] - 6494s 225ms/step - loss: 2.4697 - acc: 0.7744 - val_loss: 0.4182 - val_acc: 0.8430\n",
      "\n",
      "Epoch 00001: val_loss improved from inf to 0.41823, saving model to models/full_set_model_balanced.h5\n",
      "Epoch 2/5\n",
      "28874/28874 [==============================] - 6490s 225ms/step - loss: 2.0095 - acc: 0.8002 - val_loss: 0.4099 - val_acc: 0.8465\n",
      "\n",
      "Epoch 00002: val_loss improved from 0.41823 to 0.40988, saving model to models/full_set_model_balanced.h5\n",
      "Epoch 3/5\n",
      "28874/28874 [==============================] - 6490s 225ms/step - loss: 1.9088 - acc: 0.8072 - val_loss: 0.3891 - val_acc: 0.8567\n",
      "\n",
      "Epoch 00003: val_loss improved from 0.40988 to 0.38910, saving model to models/full_set_model_balanced.h5\n",
      "Epoch 4/5\n",
      "28874/28874 [==============================] - 6490s 225ms/step - loss: 1.8461 - acc: 0.8128 - val_loss: 0.3911 - val_acc: 0.8565\n",
      "\n",
      "Epoch 00004: val_loss did not improve from 0.38910\n",
      "Epoch 5/5\n",
      "28874/28874 [==============================] - 6490s 225ms/step - loss: 1.8203 - acc: 0.8151 - val_loss: 0.3826 - val_acc: 0.8598\n",
      "\n",
      "Epoch 00005: val_loss improved from 0.38910 to 0.38255, saving model to models/full_set_model_balanced.h5\n"
     ]
    },
    {
     "data": {
      "text/plain": [
       "21582"
      ]
     },
     "execution_count": 5,
     "metadata": {},
     "output_type": "execute_result"
    }
   ],
   "source": [
    "# test model with class weight balancing\n",
    "n_epochs = 5\n",
    "\n",
    "# build model\n",
    "model = c2t.build_VGG16(widths=(1000, 1250), \n",
    "                        new_weights=False, \n",
    "                        trainable=True, \n",
    "                        dropout1=0, \n",
    "                        dropout2=0.2)\n",
    "\n",
    "model.compile(optimizer=Adam(lr=0.0001, decay=0.1), \n",
    "              loss='categorical_crossentropy', \n",
    "              metrics=['accuracy'])\n",
    "\n",
    "# define callbacks\n",
    "filepath = 'models/full_set_model_balanced.h5'\n",
    "saver = ModelCheckpoint(filepath,\n",
    "                        monitor='val_loss',\n",
    "                        verbose=1,\n",
    "                        save_best_only=True)\n",
    "\n",
    "stopper = EarlyStopping(monitor='val_loss', \n",
    "                        patience=2, \n",
    "                        verbose=1)\n",
    "\n",
    "datetime_now = datetime.now().strftime('%Y-%m-%d %H:%M:%S')\n",
    "print('{} - Started training {}'.format(datetime_now, filepath))\n",
    "\n",
    "# train model with balanced class weights\n",
    "history_2 = model.fit_generator(train_batches, \n",
    "                                validation_data=valid_batches,\n",
    "                                epochs=n_epochs,\n",
    "                                class_weight=weights_dict,\n",
    "                                verbose=1, \n",
    "                                callbacks=[saver, stopper])\n",
    "\n",
    "# clear memory\n",
    "K.clear_session()\n",
    "del model\n",
    "gc.collect()"
   ]
  },
  {
   "cell_type": "code",
   "execution_count": 8,
   "metadata": {},
   "outputs": [
    {
     "name": "stdout",
     "output_type": "stream",
     "text": [
      "Building image generator...\n",
      "Found 20000 images belonging to 5 classes.\n",
      "Loading models/full_set_model_balanced.h5\n",
      "Evaluating models/full_set_model_balanced.h5\n",
      "Evaluation complete.\n",
      "\n",
      "accuracy:  85.98%\n",
      "loss:  0.3826\n",
      "pcr:  [0.7909 0.8954 0.7983 0.9619 0.7566]\n",
      "mean pcr:  84.06%\n",
      "confusion matrix: \n"
     ]
    },
    {
     "data": {
      "text/plain": [
       "[[594, 26, 69, 24, 38],\n",
       " [1065, 11857, 174, 66, 80],\n",
       " [121, 43, 3403, 58, 638],\n",
       " [0, 0, 1, 101, 3],\n",
       " [10, 3, 354, 32, 1240]]"
      ]
     },
     "execution_count": 8,
     "metadata": {},
     "output_type": "execute_result"
    }
   ],
   "source": [
    "model_paths = {'model': 'models/full_set_model_balanced.h5'}\n",
    "model_metrics = c2t.eval_models(model_paths, valid_path)\n",
    "c2t.print_eval(model_metrics['model'])"
   ]
  },
  {
   "cell_type": "code",
   "execution_count": null,
   "metadata": {},
   "outputs": [],
   "source": []
  }
 ],
 "metadata": {
  "kernelspec": {
   "display_name": "Python 3",
   "language": "python",
   "name": "python3"
  },
  "language_info": {
   "codemirror_mode": {
    "name": "ipython",
    "version": 3
   },
   "file_extension": ".py",
   "mimetype": "text/x-python",
   "name": "python",
   "nbconvert_exporter": "python",
   "pygments_lexer": "ipython3",
   "version": "3.6.6"
  }
 },
 "nbformat": 4,
 "nbformat_minor": 2
}
