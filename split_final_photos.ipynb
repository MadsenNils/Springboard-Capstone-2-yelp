{
 "cells": [
  {
   "cell_type": "markdown",
   "metadata": {},
   "source": [
    "### Moving image files\n",
    "\n",
    "Keras models expect image files to be separated into different directories based on their classification. Since all the Yelp dataset images start in one directory when downloaded, a script is needed to automatically sort them into the appropriate directories."
   ]
  },
  {
   "cell_type": "code",
   "execution_count": 1,
   "metadata": {},
   "outputs": [],
   "source": [
    "import shutil\n",
    "import pandas as pd"
   ]
  },
  {
   "cell_type": "code",
   "execution_count": 2,
   "metadata": {},
   "outputs": [],
   "source": [
    "# load photos label dataframe\n",
    "final_photos = pd.read_csv('photo_labels_final.csv', index_col=0)"
   ]
  },
  {
   "cell_type": "code",
   "execution_count": 3,
   "metadata": {},
   "outputs": [
    {
     "name": "stdout",
     "output_type": "stream",
     "text": [
      "<class 'pandas.core.frame.DataFrame'>\n",
      "Index: 270992 entries, vhnZ58_1shy9HNVdZgtMLw to P0xoI9CTvMVj3sQ-J7v6ZA\n",
      "Data columns (total 2 columns):\n",
      "label    270992 non-null object\n",
      "set      270992 non-null object\n",
      "dtypes: object(2)\n",
      "memory usage: 6.2+ MB\n"
     ]
    }
   ],
   "source": [
    "final_photos.info()"
   ]
  },
  {
   "cell_type": "code",
   "execution_count": 4,
   "metadata": {},
   "outputs": [],
   "source": [
    "# copy photos into new directories for training the model\n",
    "orig_dir = 'H:/springboard/other_data/yelp/Photos/yelp_academic_dataset_photos/'\n",
    "dest_dir = 'H:/springboard/other_data/yelp/Photos/final_photos/'\n",
    "\n",
    "for index, row in final_photos.iterrows():\n",
    "    filepath = orig_dir + index + '.jpg'\n",
    "    filedest = dest_dir + row['set'] + '/' + row['label']\n",
    "    _ = shutil.copy(filepath, filedest)"
   ]
  },
  {
   "cell_type": "code",
   "execution_count": null,
   "metadata": {},
   "outputs": [],
   "source": []
  }
 ],
 "metadata": {
  "kernelspec": {
   "display_name": "Python 3",
   "language": "python",
   "name": "python3"
  },
  "language_info": {
   "codemirror_mode": {
    "name": "ipython",
    "version": 3
   },
   "file_extension": ".py",
   "mimetype": "text/x-python",
   "name": "python",
   "nbconvert_exporter": "python",
   "pygments_lexer": "ipython3",
   "version": "3.6.6"
  }
 },
 "nbformat": 4,
 "nbformat_minor": 2
}
