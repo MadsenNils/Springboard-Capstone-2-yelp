{
 "cells": [
  {
   "cell_type": "code",
   "execution_count": 1,
   "metadata": {},
   "outputs": [
    {
     "name": "stderr",
     "output_type": "stream",
     "text": [
      "Using TensorFlow backend.\n"
     ]
    },
    {
     "data": {
      "text/plain": [
       "<module 'cap2tools' from 'C:\\\\Users\\\\Nils\\\\Documents\\\\GitHub\\\\Springboard-Capstone-2-local-yelp\\\\cap2tools.py'>"
      ]
     },
     "execution_count": 1,
     "metadata": {},
     "output_type": "execute_result"
    }
   ],
   "source": [
    "import pandas as pd\n",
    "import numpy as np\n",
    "import matplotlib.pyplot as plt\n",
    "import tensorflow as tf\n",
    "import keras.backend as K\n",
    "from keras.models import load_model\n",
    "from keras.callbacks import ModelCheckpoint, EarlyStopping\n",
    "from keras.preprocessing.image import ImageDataGenerator\n",
    "import importlib as imp\n",
    "\n",
    "# custom module for capstone 2\n",
    "import cap2tools as c2t\n",
    "imp.reload(c2t)"
   ]
  },
  {
   "cell_type": "code",
   "execution_count": 2,
   "metadata": {},
   "outputs": [],
   "source": [
    "# configure GPU memory usage by tensorflow\n",
    "config = K.tf.ConfigProto()\n",
    "config.gpu_options.allow_growth = True\n",
    "config.gpu_options.per_process_gpu_memory_fraction = 0.80\n",
    "K.tensorflow_backend.set_session(K.tf.Session(config=config))"
   ]
  },
  {
   "cell_type": "code",
   "execution_count": 3,
   "metadata": {},
   "outputs": [],
   "source": [
    "# define paths to image directories\n",
    "photos_path = 'H:/springboard/other_data/yelp/Photos/final_photos/'\n",
    "train_path = photos_path + 'train'\n",
    "valid_path = photos_path + 'val'\n",
    "\n",
    "# build image generators to feed CNN\n",
    "#train_batches, valid_batches = c2t.build_data_gens([train_path, valid_path])"
   ]
  },
  {
   "cell_type": "code",
   "execution_count": 9,
   "metadata": {},
   "outputs": [],
   "source": [
    "# load model\n",
    "model = load_model('models/downsample_model2.h5')"
   ]
  },
  {
   "cell_type": "code",
   "execution_count": 10,
   "metadata": {},
   "outputs": [
    {
     "name": "stdout",
     "output_type": "stream",
     "text": [
      "Epoch 1/10\n",
      "27624/27624 [==============================] - 6051s 219ms/step - loss: 0.1596 - acc: 0.9444 - val_loss: 0.1541 - val_acc: 0.9454\n",
      "\n",
      "Epoch 00001: val_loss improved from inf to 0.15412, saving model to models/hybrid_training_model.h5\n",
      "Epoch 2/10\n",
      "27624/27624 [==============================] - 6045s 219ms/step - loss: 0.1456 - acc: 0.9491 - val_loss: 0.1484 - val_acc: 0.9473\n",
      "\n",
      "Epoch 00002: val_loss improved from 0.15412 to 0.14844, saving model to models/hybrid_training_model.h5\n",
      "Epoch 3/10\n",
      "27624/27624 [==============================] - 6043s 219ms/step - loss: 0.1405 - acc: 0.9509 - val_loss: 0.1452 - val_acc: 0.9485\n",
      "\n",
      "Epoch 00003: val_loss improved from 0.14844 to 0.14518, saving model to models/hybrid_training_model.h5\n",
      "Epoch 4/10\n",
      "27624/27624 [==============================] - 6043s 219ms/step - loss: 0.1374 - acc: 0.9522 - val_loss: 0.1430 - val_acc: 0.9492\n",
      "\n",
      "Epoch 00004: val_loss improved from 0.14518 to 0.14298, saving model to models/hybrid_training_model.h5\n",
      "Epoch 5/10\n",
      "27624/27624 [==============================] - 6047s 219ms/step - loss: 0.1352 - acc: 0.9528 - val_loss: 0.1415 - val_acc: 0.9499\n",
      "\n",
      "Epoch 00005: val_loss improved from 0.14298 to 0.14150, saving model to models/hybrid_training_model.h5\n",
      "Epoch 6/10\n",
      "  538/27624 [..............................] - ETA: 1:36:14 - loss: 0.1298 - acc: 0.9572"
     ]
    },
    {
     "ename": "KeyboardInterrupt",
     "evalue": "",
     "output_type": "error",
     "traceback": [
      "\u001b[1;31m---------------------------------------------------------------------------\u001b[0m",
      "\u001b[1;31mKeyboardInterrupt\u001b[0m                         Traceback (most recent call last)",
      "\u001b[1;32m<ipython-input-10-364860d599b8>\u001b[0m in \u001b[0;36m<module>\u001b[1;34m()\u001b[0m\n\u001b[0;32m     17\u001b[0m                               \u001b[0mepochs\u001b[0m\u001b[1;33m=\u001b[0m\u001b[0mn_epochs\u001b[0m\u001b[1;33m,\u001b[0m\u001b[1;33m\u001b[0m\u001b[0m\n\u001b[0;32m     18\u001b[0m                               \u001b[0mverbose\u001b[0m\u001b[1;33m=\u001b[0m\u001b[1;36m1\u001b[0m\u001b[1;33m,\u001b[0m\u001b[1;33m\u001b[0m\u001b[0m\n\u001b[1;32m---> 19\u001b[1;33m                               callbacks=[saver, stopper])\n\u001b[0m\u001b[0;32m     20\u001b[0m \u001b[1;33m\u001b[0m\u001b[0m\n\u001b[0;32m     21\u001b[0m \u001b[1;31m# clear clutter from memory\u001b[0m\u001b[1;33m\u001b[0m\u001b[1;33m\u001b[0m\u001b[0m\n",
      "\u001b[1;32m~\\Anaconda3\\envs\\tensorflow\\lib\\site-packages\\keras\\legacy\\interfaces.py\u001b[0m in \u001b[0;36mwrapper\u001b[1;34m(*args, **kwargs)\u001b[0m\n\u001b[0;32m     89\u001b[0m                 warnings.warn('Update your `' + object_name +\n\u001b[0;32m     90\u001b[0m                               '` call to the Keras 2 API: ' + signature, stacklevel=2)\n\u001b[1;32m---> 91\u001b[1;33m             \u001b[1;32mreturn\u001b[0m \u001b[0mfunc\u001b[0m\u001b[1;33m(\u001b[0m\u001b[1;33m*\u001b[0m\u001b[0margs\u001b[0m\u001b[1;33m,\u001b[0m \u001b[1;33m**\u001b[0m\u001b[0mkwargs\u001b[0m\u001b[1;33m)\u001b[0m\u001b[1;33m\u001b[0m\u001b[0m\n\u001b[0m\u001b[0;32m     92\u001b[0m         \u001b[0mwrapper\u001b[0m\u001b[1;33m.\u001b[0m\u001b[0m_original_function\u001b[0m \u001b[1;33m=\u001b[0m \u001b[0mfunc\u001b[0m\u001b[1;33m\u001b[0m\u001b[0m\n\u001b[0;32m     93\u001b[0m         \u001b[1;32mreturn\u001b[0m \u001b[0mwrapper\u001b[0m\u001b[1;33m\u001b[0m\u001b[0m\n",
      "\u001b[1;32m~\\Anaconda3\\envs\\tensorflow\\lib\\site-packages\\keras\\engine\\training.py\u001b[0m in \u001b[0;36mfit_generator\u001b[1;34m(self, generator, steps_per_epoch, epochs, verbose, callbacks, validation_data, validation_steps, class_weight, max_queue_size, workers, use_multiprocessing, shuffle, initial_epoch)\u001b[0m\n\u001b[0;32m   1413\u001b[0m             \u001b[0muse_multiprocessing\u001b[0m\u001b[1;33m=\u001b[0m\u001b[0muse_multiprocessing\u001b[0m\u001b[1;33m,\u001b[0m\u001b[1;33m\u001b[0m\u001b[0m\n\u001b[0;32m   1414\u001b[0m             \u001b[0mshuffle\u001b[0m\u001b[1;33m=\u001b[0m\u001b[0mshuffle\u001b[0m\u001b[1;33m,\u001b[0m\u001b[1;33m\u001b[0m\u001b[0m\n\u001b[1;32m-> 1415\u001b[1;33m             initial_epoch=initial_epoch)\n\u001b[0m\u001b[0;32m   1416\u001b[0m \u001b[1;33m\u001b[0m\u001b[0m\n\u001b[0;32m   1417\u001b[0m     \u001b[1;33m@\u001b[0m\u001b[0minterfaces\u001b[0m\u001b[1;33m.\u001b[0m\u001b[0mlegacy_generator_methods_support\u001b[0m\u001b[1;33m\u001b[0m\u001b[0m\n",
      "\u001b[1;32m~\\Anaconda3\\envs\\tensorflow\\lib\\site-packages\\keras\\engine\\training_generator.py\u001b[0m in \u001b[0;36mfit_generator\u001b[1;34m(model, generator, steps_per_epoch, epochs, verbose, callbacks, validation_data, validation_steps, class_weight, max_queue_size, workers, use_multiprocessing, shuffle, initial_epoch)\u001b[0m\n\u001b[0;32m    211\u001b[0m                 outs = model.train_on_batch(x, y,\n\u001b[0;32m    212\u001b[0m                                             \u001b[0msample_weight\u001b[0m\u001b[1;33m=\u001b[0m\u001b[0msample_weight\u001b[0m\u001b[1;33m,\u001b[0m\u001b[1;33m\u001b[0m\u001b[0m\n\u001b[1;32m--> 213\u001b[1;33m                                             class_weight=class_weight)\n\u001b[0m\u001b[0;32m    214\u001b[0m \u001b[1;33m\u001b[0m\u001b[0m\n\u001b[0;32m    215\u001b[0m                 \u001b[0mouts\u001b[0m \u001b[1;33m=\u001b[0m \u001b[0mto_list\u001b[0m\u001b[1;33m(\u001b[0m\u001b[0mouts\u001b[0m\u001b[1;33m)\u001b[0m\u001b[1;33m\u001b[0m\u001b[0m\n",
      "\u001b[1;32m~\\Anaconda3\\envs\\tensorflow\\lib\\site-packages\\keras\\engine\\training.py\u001b[0m in \u001b[0;36mtrain_on_batch\u001b[1;34m(self, x, y, sample_weight, class_weight)\u001b[0m\n\u001b[0;32m   1213\u001b[0m             \u001b[0mins\u001b[0m \u001b[1;33m=\u001b[0m \u001b[0mx\u001b[0m \u001b[1;33m+\u001b[0m \u001b[0my\u001b[0m \u001b[1;33m+\u001b[0m \u001b[0msample_weights\u001b[0m\u001b[1;33m\u001b[0m\u001b[0m\n\u001b[0;32m   1214\u001b[0m         \u001b[0mself\u001b[0m\u001b[1;33m.\u001b[0m\u001b[0m_make_train_function\u001b[0m\u001b[1;33m(\u001b[0m\u001b[1;33m)\u001b[0m\u001b[1;33m\u001b[0m\u001b[0m\n\u001b[1;32m-> 1215\u001b[1;33m         \u001b[0moutputs\u001b[0m \u001b[1;33m=\u001b[0m \u001b[0mself\u001b[0m\u001b[1;33m.\u001b[0m\u001b[0mtrain_function\u001b[0m\u001b[1;33m(\u001b[0m\u001b[0mins\u001b[0m\u001b[1;33m)\u001b[0m\u001b[1;33m\u001b[0m\u001b[0m\n\u001b[0m\u001b[0;32m   1216\u001b[0m         \u001b[1;32mreturn\u001b[0m \u001b[0munpack_singleton\u001b[0m\u001b[1;33m(\u001b[0m\u001b[0moutputs\u001b[0m\u001b[1;33m)\u001b[0m\u001b[1;33m\u001b[0m\u001b[0m\n\u001b[0;32m   1217\u001b[0m \u001b[1;33m\u001b[0m\u001b[0m\n",
      "\u001b[1;32m~\\Anaconda3\\envs\\tensorflow\\lib\\site-packages\\keras\\backend\\tensorflow_backend.py\u001b[0m in \u001b[0;36m__call__\u001b[1;34m(self, inputs)\u001b[0m\n\u001b[0;32m   2664\u001b[0m                 \u001b[1;32mreturn\u001b[0m \u001b[0mself\u001b[0m\u001b[1;33m.\u001b[0m\u001b[0m_legacy_call\u001b[0m\u001b[1;33m(\u001b[0m\u001b[0minputs\u001b[0m\u001b[1;33m)\u001b[0m\u001b[1;33m\u001b[0m\u001b[0m\n\u001b[0;32m   2665\u001b[0m \u001b[1;33m\u001b[0m\u001b[0m\n\u001b[1;32m-> 2666\u001b[1;33m             \u001b[1;32mreturn\u001b[0m \u001b[0mself\u001b[0m\u001b[1;33m.\u001b[0m\u001b[0m_call\u001b[0m\u001b[1;33m(\u001b[0m\u001b[0minputs\u001b[0m\u001b[1;33m)\u001b[0m\u001b[1;33m\u001b[0m\u001b[0m\n\u001b[0m\u001b[0;32m   2667\u001b[0m         \u001b[1;32melse\u001b[0m\u001b[1;33m:\u001b[0m\u001b[1;33m\u001b[0m\u001b[0m\n\u001b[0;32m   2668\u001b[0m             \u001b[1;32mif\u001b[0m \u001b[0mpy_any\u001b[0m\u001b[1;33m(\u001b[0m\u001b[0mis_tensor\u001b[0m\u001b[1;33m(\u001b[0m\u001b[0mx\u001b[0m\u001b[1;33m)\u001b[0m \u001b[1;32mfor\u001b[0m \u001b[0mx\u001b[0m \u001b[1;32min\u001b[0m \u001b[0minputs\u001b[0m\u001b[1;33m)\u001b[0m\u001b[1;33m:\u001b[0m\u001b[1;33m\u001b[0m\u001b[0m\n",
      "\u001b[1;32m~\\Anaconda3\\envs\\tensorflow\\lib\\site-packages\\keras\\backend\\tensorflow_backend.py\u001b[0m in \u001b[0;36m_call\u001b[1;34m(self, inputs)\u001b[0m\n\u001b[0;32m   2634\u001b[0m                                 \u001b[0msymbol_vals\u001b[0m\u001b[1;33m,\u001b[0m\u001b[1;33m\u001b[0m\u001b[0m\n\u001b[0;32m   2635\u001b[0m                                 session)\n\u001b[1;32m-> 2636\u001b[1;33m         \u001b[0mfetched\u001b[0m \u001b[1;33m=\u001b[0m \u001b[0mself\u001b[0m\u001b[1;33m.\u001b[0m\u001b[0m_callable_fn\u001b[0m\u001b[1;33m(\u001b[0m\u001b[1;33m*\u001b[0m\u001b[0marray_vals\u001b[0m\u001b[1;33m)\u001b[0m\u001b[1;33m\u001b[0m\u001b[0m\n\u001b[0m\u001b[0;32m   2637\u001b[0m         \u001b[1;32mreturn\u001b[0m \u001b[0mfetched\u001b[0m\u001b[1;33m[\u001b[0m\u001b[1;33m:\u001b[0m\u001b[0mlen\u001b[0m\u001b[1;33m(\u001b[0m\u001b[0mself\u001b[0m\u001b[1;33m.\u001b[0m\u001b[0moutputs\u001b[0m\u001b[1;33m)\u001b[0m\u001b[1;33m]\u001b[0m\u001b[1;33m\u001b[0m\u001b[0m\n\u001b[0;32m   2638\u001b[0m \u001b[1;33m\u001b[0m\u001b[0m\n",
      "\u001b[1;32m~\\Anaconda3\\envs\\tensorflow\\lib\\site-packages\\tensorflow\\python\\client\\session.py\u001b[0m in \u001b[0;36m__call__\u001b[1;34m(self, *args, **kwargs)\u001b[0m\n\u001b[0;32m   1380\u001b[0m           ret = tf_session.TF_SessionRunCallable(\n\u001b[0;32m   1381\u001b[0m               \u001b[0mself\u001b[0m\u001b[1;33m.\u001b[0m\u001b[0m_session\u001b[0m\u001b[1;33m.\u001b[0m\u001b[0m_session\u001b[0m\u001b[1;33m,\u001b[0m \u001b[0mself\u001b[0m\u001b[1;33m.\u001b[0m\u001b[0m_handle\u001b[0m\u001b[1;33m,\u001b[0m \u001b[0margs\u001b[0m\u001b[1;33m,\u001b[0m \u001b[0mstatus\u001b[0m\u001b[1;33m,\u001b[0m\u001b[1;33m\u001b[0m\u001b[0m\n\u001b[1;32m-> 1382\u001b[1;33m               run_metadata_ptr)\n\u001b[0m\u001b[0;32m   1383\u001b[0m         \u001b[1;32mif\u001b[0m \u001b[0mrun_metadata\u001b[0m\u001b[1;33m:\u001b[0m\u001b[1;33m\u001b[0m\u001b[0m\n\u001b[0;32m   1384\u001b[0m           \u001b[0mproto_data\u001b[0m \u001b[1;33m=\u001b[0m \u001b[0mtf_session\u001b[0m\u001b[1;33m.\u001b[0m\u001b[0mTF_GetBuffer\u001b[0m\u001b[1;33m(\u001b[0m\u001b[0mrun_metadata_ptr\u001b[0m\u001b[1;33m)\u001b[0m\u001b[1;33m\u001b[0m\u001b[0m\n",
      "\u001b[1;31mKeyboardInterrupt\u001b[0m: "
     ]
    }
   ],
   "source": [
    "# define callbacks\n",
    "filepath = 'models/hybrid_training_model.h5'\n",
    "saver = ModelCheckpoint(filepath,\n",
    "                        monitor='val_loss',\n",
    "                        verbose=1,\n",
    "                        save_best_only=True)\n",
    "\n",
    "stopper = EarlyStopping(monitor='val_loss', \n",
    "                        patience=2, \n",
    "                        verbose=1)\n",
    "\n",
    "# train model\n",
    "n_epochs = 10\n",
    "\n",
    "history = model.fit_generator(train_batches, \n",
    "                              validation_data=valid_batches,\n",
    "                              epochs=n_epochs, \n",
    "                              verbose=1, \n",
    "                              callbacks=[saver, stopper])\n",
    "\n",
    "# clear clutter from memory\n",
    "del model\n",
    "K.clear_session()"
   ]
  },
  {
   "cell_type": "code",
   "execution_count": null,
   "metadata": {},
   "outputs": [],
   "source": [
    "# plot model training history\n",
    "c2t.plot_history(history)"
   ]
  },
  {
   "cell_type": "code",
   "execution_count": 11,
   "metadata": {},
   "outputs": [
    {
     "name": "stdout",
     "output_type": "stream",
     "text": [
      "Building image generator...\n",
      "Found 20000 images belonging to 5 classes.\n",
      "Loading model models/hybrid_training_model.h5\n",
      "Evaluating model models/hybrid_training_model.h5\n",
      "Evaluation complete.\n",
      "\n"
     ]
    }
   ],
   "source": [
    "# evaluate model on validation set\n",
    "model_paths = {'model': filepath}\n",
    "model_metrics = c2t.eval_models(model_paths, valid_path)['model']"
   ]
  },
  {
   "cell_type": "code",
   "execution_count": 12,
   "metadata": {},
   "outputs": [
    {
     "name": "stdout",
     "output_type": "stream",
     "text": [
      "accuracy: 0.94995\n",
      "loss: 0.14149615950695443\n",
      "pcr: [0.81465517 0.98851711 0.92828054 0.9010989  0.75958612]\n",
      "mean pcr: 0.8784275699422219\n",
      "confusion matrix:\n"
     ]
    },
    {
     "data": {
      "text/plain": [
       "[[567, 97, 31, 0, 1],\n",
       " [55, 12999, 88, 3, 5],\n",
       " [25, 135, 4103, 1, 156],\n",
       " [1, 4, 3, 82, 1],\n",
       " [2, 24, 368, 1, 1248]]"
      ]
     },
     "execution_count": 12,
     "metadata": {},
     "output_type": "execute_result"
    }
   ],
   "source": [
    "c2t.print_eval(model_metrics)"
   ]
  },
  {
   "cell_type": "code",
   "execution_count": 13,
   "metadata": {},
   "outputs": [],
   "source": [
    "K.clear_session()\n",
    "del model"
   ]
  },
  {
   "cell_type": "code",
   "execution_count": 5,
   "metadata": {},
   "outputs": [
    {
     "name": "stdout",
     "output_type": "stream",
     "text": [
      "Found 5435 images belonging to 5 classes.\n",
      "Found 455 images belonging to 5 classes.\n"
     ]
    }
   ],
   "source": [
    "# define paths to image directories\n",
    "photos_path_down = 'C:/Users/Nils/Documents/GitHub/Springboard-Capstone-2-local-yelp/downsampled/'\n",
    "train_path_down = photos_path_down + 'train'\n",
    "valid_path_down = photos_path_down + 'val'\n",
    "\n",
    "# build image generators to feed CNN\n",
    "batch_size = 8\n",
    "target_size = (224, 224)\n",
    "shuffle = True\n",
    "shift = 0.2\n",
    "\n",
    "# training datagen includes real-time image augmentation\n",
    "train_datagen = ImageDataGenerator(horizontal_flip=True, \n",
    "                                   width_shift_range=shift, \n",
    "                                   height_shift_range=shift, \n",
    "                                   zoom_range=0.2, \n",
    "                                   fill_mode='reflect')\n",
    "\n",
    "train_batches_down = train_datagen.flow_from_directory(train_path_down, \n",
    "                                                  target_size=target_size, \n",
    "                                                  batch_size=batch_size, \n",
    "                                                  shuffle=shuffle)\n",
    "\n",
    "# validation set datagen\n",
    "valid_datagen = ImageDataGenerator()\n",
    "\n",
    "valid_batches_down = valid_datagen.flow_from_directory(valid_path_down, \n",
    "                                                  target_size=target_size, \n",
    "                                                  batch_size=batch_size, \n",
    "                                                  shuffle=shuffle)\n"
   ]
  },
  {
   "cell_type": "code",
   "execution_count": 6,
   "metadata": {},
   "outputs": [],
   "source": [
    "# load hybrid model\n",
    "model = load_model('models/hybrid_training_model.h5')"
   ]
  },
  {
   "cell_type": "code",
   "execution_count": 7,
   "metadata": {},
   "outputs": [
    {
     "name": "stdout",
     "output_type": "stream",
     "text": [
      "Epoch 1/10\n",
      "680/680 [==============================] - 153s 224ms/step - loss: 0.3859 - acc: 0.8577 - val_loss: 0.3331 - val_acc: 0.8791\n",
      "\n",
      "Epoch 00001: val_loss improved from inf to 0.33312, saving model to models/hybrid_training_model_2.h5\n",
      "Epoch 2/10\n",
      "680/680 [==============================] - 149s 219ms/step - loss: 0.3513 - acc: 0.8733 - val_loss: 0.3017 - val_acc: 0.8901\n",
      "\n",
      "Epoch 00002: val_loss improved from 0.33312 to 0.30168, saving model to models/hybrid_training_model_2.h5\n",
      "Epoch 3/10\n",
      "680/680 [==============================] - 149s 219ms/step - loss: 0.3184 - acc: 0.8846 - val_loss: 0.2828 - val_acc: 0.8945\n",
      "\n",
      "Epoch 00003: val_loss improved from 0.30168 to 0.28277, saving model to models/hybrid_training_model_2.h5\n",
      "Epoch 4/10\n",
      "680/680 [==============================] - 149s 219ms/step - loss: 0.3030 - acc: 0.8906 - val_loss: 0.2708 - val_acc: 0.8989\n",
      "\n",
      "Epoch 00004: val_loss improved from 0.28277 to 0.27082, saving model to models/hybrid_training_model_2.h5\n",
      "Epoch 5/10\n",
      "680/680 [==============================] - 149s 219ms/step - loss: 0.2864 - acc: 0.8934 - val_loss: 0.2624 - val_acc: 0.9077\n",
      "\n",
      "Epoch 00005: val_loss improved from 0.27082 to 0.26242, saving model to models/hybrid_training_model_2.h5\n",
      "Epoch 6/10\n",
      "680/680 [==============================] - 149s 219ms/step - loss: 0.2738 - acc: 0.8937 - val_loss: 0.2568 - val_acc: 0.9099\n",
      "\n",
      "Epoch 00006: val_loss improved from 0.26242 to 0.25681, saving model to models/hybrid_training_model_2.h5\n",
      "Epoch 7/10\n",
      "680/680 [==============================] - 149s 219ms/step - loss: 0.2627 - acc: 0.9006 - val_loss: 0.2536 - val_acc: 0.9121\n",
      "\n",
      "Epoch 00007: val_loss improved from 0.25681 to 0.25357, saving model to models/hybrid_training_model_2.h5\n",
      "Epoch 8/10\n",
      "680/680 [==============================] - 149s 219ms/step - loss: 0.2613 - acc: 0.9026 - val_loss: 0.2514 - val_acc: 0.9143\n",
      "\n",
      "Epoch 00008: val_loss improved from 0.25357 to 0.25138, saving model to models/hybrid_training_model_2.h5\n",
      "Epoch 9/10\n",
      "680/680 [==============================] - 149s 219ms/step - loss: 0.2666 - acc: 0.8990 - val_loss: 0.2502 - val_acc: 0.9143\n",
      "\n",
      "Epoch 00009: val_loss improved from 0.25138 to 0.25019, saving model to models/hybrid_training_model_2.h5\n",
      "Epoch 10/10\n",
      "680/680 [==============================] - 149s 219ms/step - loss: 0.2591 - acc: 0.9033 - val_loss: 0.2498 - val_acc: 0.9121\n",
      "\n",
      "Epoch 00010: val_loss improved from 0.25019 to 0.24980, saving model to models/hybrid_training_model_2.h5\n"
     ]
    }
   ],
   "source": [
    "# define callbacks\n",
    "filepath = 'models/hybrid_training_model_2.h5'\n",
    "saver = ModelCheckpoint(filepath,\n",
    "                        monitor='val_loss',\n",
    "                        verbose=1,\n",
    "                        save_best_only=True)\n",
    "stopper = EarlyStopping(monitor='val_loss', \n",
    "                        patience=2, \n",
    "                        verbose=1)\n",
    "\n",
    "# train model\n",
    "n_epochs = 10\n",
    "\n",
    "history = model.fit_generator(train_batches_down, \n",
    "                              validation_data=valid_batches_down,\n",
    "                              epochs=n_epochs, \n",
    "                              verbose=1, \n",
    "                              callbacks=[saver, stopper])\n",
    "\n",
    "# clear clutter from memory\n",
    "del model\n",
    "K.clear_session()"
   ]
  },
  {
   "cell_type": "code",
   "execution_count": 8,
   "metadata": {},
   "outputs": [
    {
     "name": "stdout",
     "output_type": "stream",
     "text": [
      "Building image generator...\n",
      "Found 20000 images belonging to 5 classes.\n",
      "Loading model models/hybrid_training_model_2.h5\n",
      "Evaluating model models/hybrid_training_model_2.h5\n",
      "Evaluation complete.\n",
      "\n"
     ]
    }
   ],
   "source": [
    "# evaluate model on validation set\n",
    "model_paths = {'model': filepath}\n",
    "model_metrics = c2t.eval_models(model_paths, valid_path)['model']"
   ]
  },
  {
   "cell_type": "code",
   "execution_count": 9,
   "metadata": {},
   "outputs": [
    {
     "name": "stdout",
     "output_type": "stream",
     "text": [
      "accuracy: 0.92345\n",
      "loss: 0.20680653596568963\n",
      "pcr: [0.90804598 0.95467681 0.85045249 0.98901099 0.87279367]\n",
      "mean pcr: 0.9149959861819117\n",
      "confusion matrix:\n"
     ]
    },
    {
     "data": {
      "text/plain": [
       "[[632, 41, 21, 0, 2],\n",
       " [318, 12554, 155, 29, 94],\n",
       " [60, 61, 3759, 12, 528],\n",
       " [1, 0, 0, 90, 0],\n",
       " [3, 9, 189, 8, 1434]]"
      ]
     },
     "execution_count": 9,
     "metadata": {},
     "output_type": "execute_result"
    }
   ],
   "source": [
    "c2t.print_eval(model_metrics)"
   ]
  },
  {
   "cell_type": "code",
   "execution_count": 10,
   "metadata": {},
   "outputs": [],
   "source": [
    "# load model\n",
    "model = load_model(filepath)"
   ]
  },
  {
   "cell_type": "code",
   "execution_count": 11,
   "metadata": {},
   "outputs": [
    {
     "name": "stdout",
     "output_type": "stream",
     "text": [
      "Epoch 1/20\n",
      "680/680 [==============================] - 149s 219ms/step - loss: 0.2531 - acc: 0.9072 - val_loss: 0.2494 - val_acc: 0.9121\n",
      "\n",
      "Epoch 00001: val_loss improved from 0.24980 to 0.24936, saving model to models/hybrid_training_model_2.h5\n",
      "Epoch 2/20\n",
      "680/680 [==============================] - 149s 220ms/step - loss: 0.2606 - acc: 0.9013 - val_loss: 0.2492 - val_acc: 0.9121\n",
      "\n",
      "Epoch 00002: val_loss improved from 0.24936 to 0.24916, saving model to models/hybrid_training_model_2.h5\n",
      "Epoch 3/20\n",
      "680/680 [==============================] - 149s 219ms/step - loss: 0.2592 - acc: 0.9017 - val_loss: 0.2490 - val_acc: 0.9121\n",
      "\n",
      "Epoch 00003: val_loss improved from 0.24916 to 0.24903, saving model to models/hybrid_training_model_2.h5\n",
      "Epoch 4/20\n",
      "680/680 [==============================] - 149s 219ms/step - loss: 0.2549 - acc: 0.9010 - val_loss: 0.2490 - val_acc: 0.9121\n",
      "\n",
      "Epoch 00004: val_loss improved from 0.24903 to 0.24897, saving model to models/hybrid_training_model_2.h5\n",
      "Epoch 5/20\n",
      "680/680 [==============================] - 149s 219ms/step - loss: 0.2639 - acc: 0.9026 - val_loss: 0.2488 - val_acc: 0.9165\n",
      "\n",
      "Epoch 00005: val_loss improved from 0.24897 to 0.24885, saving model to models/hybrid_training_model_2.h5\n",
      "Epoch 6/20\n",
      "680/680 [==============================] - 149s 219ms/step - loss: 0.2445 - acc: 0.9078 - val_loss: 0.2489 - val_acc: 0.9165\n",
      "\n",
      "Epoch 00006: val_loss did not improve from 0.24885\n",
      "Epoch 7/20\n",
      "680/680 [==============================] - 149s 219ms/step - loss: 0.2494 - acc: 0.9048 - val_loss: 0.2487 - val_acc: 0.9165\n",
      "\n",
      "Epoch 00007: val_loss improved from 0.24885 to 0.24869, saving model to models/hybrid_training_model_2.h5\n",
      "Epoch 8/20\n",
      "680/680 [==============================] - 149s 219ms/step - loss: 0.2594 - acc: 0.9006 - val_loss: 0.2487 - val_acc: 0.9165\n",
      "\n",
      "Epoch 00008: val_loss did not improve from 0.24869\n",
      "Epoch 9/20\n",
      "680/680 [==============================] - 149s 219ms/step - loss: 0.2512 - acc: 0.9035 - val_loss: 0.2486 - val_acc: 0.9165\n",
      "\n",
      "Epoch 00009: val_loss improved from 0.24869 to 0.24857, saving model to models/hybrid_training_model_2.h5\n",
      "Epoch 10/20\n",
      "125/680 [====>.........................] - ETA: 1:59 - loss: 0.2567 - acc: 0.9000"
     ]
    },
    {
     "ename": "KeyboardInterrupt",
     "evalue": "",
     "output_type": "error",
     "traceback": [
      "\u001b[1;31m---------------------------------------------------------------------------\u001b[0m",
      "\u001b[1;31mKeyboardInterrupt\u001b[0m                         Traceback (most recent call last)",
      "\u001b[1;32m<ipython-input-11-b1c7da0eeb31>\u001b[0m in \u001b[0;36m<module>\u001b[1;34m()\u001b[0m\n\u001b[0;32m      6\u001b[0m                               \u001b[0mepochs\u001b[0m\u001b[1;33m=\u001b[0m\u001b[0mn_epochs\u001b[0m\u001b[1;33m,\u001b[0m\u001b[1;33m\u001b[0m\u001b[0m\n\u001b[0;32m      7\u001b[0m                               \u001b[0mverbose\u001b[0m\u001b[1;33m=\u001b[0m\u001b[1;36m1\u001b[0m\u001b[1;33m,\u001b[0m\u001b[1;33m\u001b[0m\u001b[0m\n\u001b[1;32m----> 8\u001b[1;33m                               callbacks=[saver, stopper])\n\u001b[0m",
      "\u001b[1;32m~\\Anaconda3\\envs\\tensorflow\\lib\\site-packages\\keras\\legacy\\interfaces.py\u001b[0m in \u001b[0;36mwrapper\u001b[1;34m(*args, **kwargs)\u001b[0m\n\u001b[0;32m     89\u001b[0m                 warnings.warn('Update your `' + object_name +\n\u001b[0;32m     90\u001b[0m                               '` call to the Keras 2 API: ' + signature, stacklevel=2)\n\u001b[1;32m---> 91\u001b[1;33m             \u001b[1;32mreturn\u001b[0m \u001b[0mfunc\u001b[0m\u001b[1;33m(\u001b[0m\u001b[1;33m*\u001b[0m\u001b[0margs\u001b[0m\u001b[1;33m,\u001b[0m \u001b[1;33m**\u001b[0m\u001b[0mkwargs\u001b[0m\u001b[1;33m)\u001b[0m\u001b[1;33m\u001b[0m\u001b[0m\n\u001b[0m\u001b[0;32m     92\u001b[0m         \u001b[0mwrapper\u001b[0m\u001b[1;33m.\u001b[0m\u001b[0m_original_function\u001b[0m \u001b[1;33m=\u001b[0m \u001b[0mfunc\u001b[0m\u001b[1;33m\u001b[0m\u001b[0m\n\u001b[0;32m     93\u001b[0m         \u001b[1;32mreturn\u001b[0m \u001b[0mwrapper\u001b[0m\u001b[1;33m\u001b[0m\u001b[0m\n",
      "\u001b[1;32m~\\Anaconda3\\envs\\tensorflow\\lib\\site-packages\\keras\\engine\\training.py\u001b[0m in \u001b[0;36mfit_generator\u001b[1;34m(self, generator, steps_per_epoch, epochs, verbose, callbacks, validation_data, validation_steps, class_weight, max_queue_size, workers, use_multiprocessing, shuffle, initial_epoch)\u001b[0m\n\u001b[0;32m   1413\u001b[0m             \u001b[0muse_multiprocessing\u001b[0m\u001b[1;33m=\u001b[0m\u001b[0muse_multiprocessing\u001b[0m\u001b[1;33m,\u001b[0m\u001b[1;33m\u001b[0m\u001b[0m\n\u001b[0;32m   1414\u001b[0m             \u001b[0mshuffle\u001b[0m\u001b[1;33m=\u001b[0m\u001b[0mshuffle\u001b[0m\u001b[1;33m,\u001b[0m\u001b[1;33m\u001b[0m\u001b[0m\n\u001b[1;32m-> 1415\u001b[1;33m             initial_epoch=initial_epoch)\n\u001b[0m\u001b[0;32m   1416\u001b[0m \u001b[1;33m\u001b[0m\u001b[0m\n\u001b[0;32m   1417\u001b[0m     \u001b[1;33m@\u001b[0m\u001b[0minterfaces\u001b[0m\u001b[1;33m.\u001b[0m\u001b[0mlegacy_generator_methods_support\u001b[0m\u001b[1;33m\u001b[0m\u001b[0m\n",
      "\u001b[1;32m~\\Anaconda3\\envs\\tensorflow\\lib\\site-packages\\keras\\engine\\training_generator.py\u001b[0m in \u001b[0;36mfit_generator\u001b[1;34m(model, generator, steps_per_epoch, epochs, verbose, callbacks, validation_data, validation_steps, class_weight, max_queue_size, workers, use_multiprocessing, shuffle, initial_epoch)\u001b[0m\n\u001b[0;32m    211\u001b[0m                 outs = model.train_on_batch(x, y,\n\u001b[0;32m    212\u001b[0m                                             \u001b[0msample_weight\u001b[0m\u001b[1;33m=\u001b[0m\u001b[0msample_weight\u001b[0m\u001b[1;33m,\u001b[0m\u001b[1;33m\u001b[0m\u001b[0m\n\u001b[1;32m--> 213\u001b[1;33m                                             class_weight=class_weight)\n\u001b[0m\u001b[0;32m    214\u001b[0m \u001b[1;33m\u001b[0m\u001b[0m\n\u001b[0;32m    215\u001b[0m                 \u001b[0mouts\u001b[0m \u001b[1;33m=\u001b[0m \u001b[0mto_list\u001b[0m\u001b[1;33m(\u001b[0m\u001b[0mouts\u001b[0m\u001b[1;33m)\u001b[0m\u001b[1;33m\u001b[0m\u001b[0m\n",
      "\u001b[1;32m~\\Anaconda3\\envs\\tensorflow\\lib\\site-packages\\keras\\engine\\training.py\u001b[0m in \u001b[0;36mtrain_on_batch\u001b[1;34m(self, x, y, sample_weight, class_weight)\u001b[0m\n\u001b[0;32m   1213\u001b[0m             \u001b[0mins\u001b[0m \u001b[1;33m=\u001b[0m \u001b[0mx\u001b[0m \u001b[1;33m+\u001b[0m \u001b[0my\u001b[0m \u001b[1;33m+\u001b[0m \u001b[0msample_weights\u001b[0m\u001b[1;33m\u001b[0m\u001b[0m\n\u001b[0;32m   1214\u001b[0m         \u001b[0mself\u001b[0m\u001b[1;33m.\u001b[0m\u001b[0m_make_train_function\u001b[0m\u001b[1;33m(\u001b[0m\u001b[1;33m)\u001b[0m\u001b[1;33m\u001b[0m\u001b[0m\n\u001b[1;32m-> 1215\u001b[1;33m         \u001b[0moutputs\u001b[0m \u001b[1;33m=\u001b[0m \u001b[0mself\u001b[0m\u001b[1;33m.\u001b[0m\u001b[0mtrain_function\u001b[0m\u001b[1;33m(\u001b[0m\u001b[0mins\u001b[0m\u001b[1;33m)\u001b[0m\u001b[1;33m\u001b[0m\u001b[0m\n\u001b[0m\u001b[0;32m   1216\u001b[0m         \u001b[1;32mreturn\u001b[0m \u001b[0munpack_singleton\u001b[0m\u001b[1;33m(\u001b[0m\u001b[0moutputs\u001b[0m\u001b[1;33m)\u001b[0m\u001b[1;33m\u001b[0m\u001b[0m\n\u001b[0;32m   1217\u001b[0m \u001b[1;33m\u001b[0m\u001b[0m\n",
      "\u001b[1;32m~\\Anaconda3\\envs\\tensorflow\\lib\\site-packages\\keras\\backend\\tensorflow_backend.py\u001b[0m in \u001b[0;36m__call__\u001b[1;34m(self, inputs)\u001b[0m\n\u001b[0;32m   2664\u001b[0m                 \u001b[1;32mreturn\u001b[0m \u001b[0mself\u001b[0m\u001b[1;33m.\u001b[0m\u001b[0m_legacy_call\u001b[0m\u001b[1;33m(\u001b[0m\u001b[0minputs\u001b[0m\u001b[1;33m)\u001b[0m\u001b[1;33m\u001b[0m\u001b[0m\n\u001b[0;32m   2665\u001b[0m \u001b[1;33m\u001b[0m\u001b[0m\n\u001b[1;32m-> 2666\u001b[1;33m             \u001b[1;32mreturn\u001b[0m \u001b[0mself\u001b[0m\u001b[1;33m.\u001b[0m\u001b[0m_call\u001b[0m\u001b[1;33m(\u001b[0m\u001b[0minputs\u001b[0m\u001b[1;33m)\u001b[0m\u001b[1;33m\u001b[0m\u001b[0m\n\u001b[0m\u001b[0;32m   2667\u001b[0m         \u001b[1;32melse\u001b[0m\u001b[1;33m:\u001b[0m\u001b[1;33m\u001b[0m\u001b[0m\n\u001b[0;32m   2668\u001b[0m             \u001b[1;32mif\u001b[0m \u001b[0mpy_any\u001b[0m\u001b[1;33m(\u001b[0m\u001b[0mis_tensor\u001b[0m\u001b[1;33m(\u001b[0m\u001b[0mx\u001b[0m\u001b[1;33m)\u001b[0m \u001b[1;32mfor\u001b[0m \u001b[0mx\u001b[0m \u001b[1;32min\u001b[0m \u001b[0minputs\u001b[0m\u001b[1;33m)\u001b[0m\u001b[1;33m:\u001b[0m\u001b[1;33m\u001b[0m\u001b[0m\n",
      "\u001b[1;32m~\\Anaconda3\\envs\\tensorflow\\lib\\site-packages\\keras\\backend\\tensorflow_backend.py\u001b[0m in \u001b[0;36m_call\u001b[1;34m(self, inputs)\u001b[0m\n\u001b[0;32m   2634\u001b[0m                                 \u001b[0msymbol_vals\u001b[0m\u001b[1;33m,\u001b[0m\u001b[1;33m\u001b[0m\u001b[0m\n\u001b[0;32m   2635\u001b[0m                                 session)\n\u001b[1;32m-> 2636\u001b[1;33m         \u001b[0mfetched\u001b[0m \u001b[1;33m=\u001b[0m \u001b[0mself\u001b[0m\u001b[1;33m.\u001b[0m\u001b[0m_callable_fn\u001b[0m\u001b[1;33m(\u001b[0m\u001b[1;33m*\u001b[0m\u001b[0marray_vals\u001b[0m\u001b[1;33m)\u001b[0m\u001b[1;33m\u001b[0m\u001b[0m\n\u001b[0m\u001b[0;32m   2637\u001b[0m         \u001b[1;32mreturn\u001b[0m \u001b[0mfetched\u001b[0m\u001b[1;33m[\u001b[0m\u001b[1;33m:\u001b[0m\u001b[0mlen\u001b[0m\u001b[1;33m(\u001b[0m\u001b[0mself\u001b[0m\u001b[1;33m.\u001b[0m\u001b[0moutputs\u001b[0m\u001b[1;33m)\u001b[0m\u001b[1;33m]\u001b[0m\u001b[1;33m\u001b[0m\u001b[0m\n\u001b[0;32m   2638\u001b[0m \u001b[1;33m\u001b[0m\u001b[0m\n",
      "\u001b[1;32m~\\Anaconda3\\envs\\tensorflow\\lib\\site-packages\\tensorflow\\python\\client\\session.py\u001b[0m in \u001b[0;36m__call__\u001b[1;34m(self, *args, **kwargs)\u001b[0m\n\u001b[0;32m   1380\u001b[0m           ret = tf_session.TF_SessionRunCallable(\n\u001b[0;32m   1381\u001b[0m               \u001b[0mself\u001b[0m\u001b[1;33m.\u001b[0m\u001b[0m_session\u001b[0m\u001b[1;33m.\u001b[0m\u001b[0m_session\u001b[0m\u001b[1;33m,\u001b[0m \u001b[0mself\u001b[0m\u001b[1;33m.\u001b[0m\u001b[0m_handle\u001b[0m\u001b[1;33m,\u001b[0m \u001b[0margs\u001b[0m\u001b[1;33m,\u001b[0m \u001b[0mstatus\u001b[0m\u001b[1;33m,\u001b[0m\u001b[1;33m\u001b[0m\u001b[0m\n\u001b[1;32m-> 1382\u001b[1;33m               run_metadata_ptr)\n\u001b[0m\u001b[0;32m   1383\u001b[0m         \u001b[1;32mif\u001b[0m \u001b[0mrun_metadata\u001b[0m\u001b[1;33m:\u001b[0m\u001b[1;33m\u001b[0m\u001b[0m\n\u001b[0;32m   1384\u001b[0m           \u001b[0mproto_data\u001b[0m \u001b[1;33m=\u001b[0m \u001b[0mtf_session\u001b[0m\u001b[1;33m.\u001b[0m\u001b[0mTF_GetBuffer\u001b[0m\u001b[1;33m(\u001b[0m\u001b[0mrun_metadata_ptr\u001b[0m\u001b[1;33m)\u001b[0m\u001b[1;33m\u001b[0m\u001b[0m\n",
      "\u001b[1;31mKeyboardInterrupt\u001b[0m: "
     ]
    }
   ],
   "source": [
    "# train model further\n",
    "n_epochs = 20\n",
    "\n",
    "history = model.fit_generator(train_batches_down, \n",
    "                              validation_data=valid_batches_down,\n",
    "                              epochs=n_epochs, \n",
    "                              verbose=1, \n",
    "                              callbacks=[saver, stopper])"
   ]
  },
  {
   "cell_type": "code",
   "execution_count": 12,
   "metadata": {},
   "outputs": [
    {
     "name": "stdout",
     "output_type": "stream",
     "text": [
      "Building image generator...\n",
      "Found 20000 images belonging to 5 classes.\n",
      "Loading model models/hybrid_training_model_2.h5\n",
      "Evaluating model models/hybrid_training_model_2.h5\n",
      "Evaluation complete.\n",
      "\n"
     ]
    }
   ],
   "source": [
    "# evaluate model on validation set\n",
    "model_paths = {'model': filepath}\n",
    "model_metrics = c2t.eval_models(model_paths, valid_path)['model']"
   ]
  },
  {
   "cell_type": "code",
   "execution_count": 13,
   "metadata": {},
   "outputs": [
    {
     "name": "stdout",
     "output_type": "stream",
     "text": [
      "accuracy: 0.9192\n",
      "loss: 0.22225559099114267\n",
      "pcr: [0.91954023 0.94851711 0.84705882 0.98901099 0.8746196 ]\n",
      "mean pcr: 0.9157493501974837\n",
      "confusion matrix:\n"
     ]
    },
    {
     "data": {
      "text/plain": [
       "[[640, 32, 22, 0, 2],\n",
       " [379, 12473, 162, 37, 99],\n",
       " [63, 56, 3744, 20, 537],\n",
       " [1, 0, 0, 90, 0],\n",
       " [6, 5, 182, 13, 1437]]"
      ]
     },
     "execution_count": 13,
     "metadata": {},
     "output_type": "execute_result"
    }
   ],
   "source": [
    "c2t.print_eval(model_metrics)"
   ]
  },
  {
   "cell_type": "code",
   "execution_count": 4,
   "metadata": {},
   "outputs": [
    {
     "name": "stdout",
     "output_type": "stream",
     "text": [
      "Found 220992 images belonging to 5 classes.\n",
      "Found 20000 images belonging to 5 classes.\n"
     ]
    }
   ],
   "source": [
    "# build image generators to feed CNN\n",
    "batch_size = 8\n",
    "target_size = (224, 224)\n",
    "shuffle = True\n",
    "shift = 0.2\n",
    "\n",
    "# training datagen includes real-time image augmentation\n",
    "train_datagen = ImageDataGenerator(horizontal_flip=True, \n",
    "                                   width_shift_range=shift, \n",
    "                                   height_shift_range=shift, \n",
    "                                   zoom_range=0.2, \n",
    "                                   fill_mode='reflect')\n",
    "\n",
    "train_batches = train_datagen.flow_from_directory(train_path, \n",
    "                                                  target_size=target_size, \n",
    "                                                  batch_size=batch_size, \n",
    "                                                  shuffle=shuffle)\n",
    "\n",
    "# validation set datagen\n",
    "valid_datagen = ImageDataGenerator()\n",
    "\n",
    "valid_batches = valid_datagen.flow_from_directory(valid_path, \n",
    "                                                  target_size=target_size, \n",
    "                                                  batch_size=batch_size, \n",
    "                                                  shuffle=shuffle)"
   ]
  },
  {
   "cell_type": "code",
   "execution_count": 5,
   "metadata": {},
   "outputs": [],
   "source": [
    "# load model\n",
    "model = load_model('models/hybrid_training_model_2.h5')"
   ]
  },
  {
   "cell_type": "code",
   "execution_count": 7,
   "metadata": {},
   "outputs": [
    {
     "name": "stdout",
     "output_type": "stream",
     "text": [
      "Epoch 1/5\n",
      "27624/27624 [==============================] - 6134s 222ms/step - loss: 0.1857 - acc: 0.9335 - val_loss: 0.1442 - val_acc: 0.9489\n",
      "\n",
      "Epoch 00001: val_loss improved from inf to 0.14420, saving model to models/hybrid_training_model_3.h5\n",
      "Epoch 2/5\n",
      "27624/27624 [==============================] - 6077s 220ms/step - loss: 0.1771 - acc: 0.9375 - val_loss: 0.1428 - val_acc: 0.9494\n",
      "\n",
      "Epoch 00002: val_loss improved from 0.14420 to 0.14279, saving model to models/hybrid_training_model_3.h5\n",
      "Epoch 3/5\n",
      "27624/27624 [==============================] - 6053s 219ms/step - loss: 0.1748 - acc: 0.9386 - val_loss: 0.1417 - val_acc: 0.9498\n",
      "\n",
      "Epoch 00003: val_loss improved from 0.14279 to 0.14174, saving model to models/hybrid_training_model_3.h5\n",
      "Epoch 4/5\n",
      "27624/27624 [==============================] - 6048s 219ms/step - loss: 0.1752 - acc: 0.9383 - val_loss: 0.1413 - val_acc: 0.9496\n",
      "\n",
      "Epoch 00004: val_loss improved from 0.14174 to 0.14127, saving model to models/hybrid_training_model_3.h5\n",
      "Epoch 5/5\n",
      "27624/27624 [==============================] - 6045s 219ms/step - loss: 0.1737 - acc: 0.9389 - val_loss: 0.1404 - val_acc: 0.9499\n",
      "\n",
      "Epoch 00005: val_loss improved from 0.14127 to 0.14041, saving model to models/hybrid_training_model_3.h5\n"
     ]
    }
   ],
   "source": [
    "# define callbacks\n",
    "filepath = 'models/hybrid_training_model_3.h5'\n",
    "saver = ModelCheckpoint(filepath,\n",
    "                        monitor='val_loss',\n",
    "                        verbose=1,\n",
    "                        save_best_only=True)\n",
    "\n",
    "stopper = EarlyStopping(monitor='val_loss', \n",
    "                        patience=2, \n",
    "                        verbose=1)\n",
    "\n",
    "# train model on full dataset for second time\n",
    "n_epochs = 5\n",
    "\n",
    "history = model.fit_generator(train_batches, \n",
    "                              validation_data=valid_batches,\n",
    "                              epochs=n_epochs, \n",
    "                              verbose=1, \n",
    "                              callbacks=[saver, stopper])"
   ]
  },
  {
   "cell_type": "code",
   "execution_count": 8,
   "metadata": {},
   "outputs": [
    {
     "name": "stdout",
     "output_type": "stream",
     "text": [
      "Building image generator...\n",
      "Found 20000 images belonging to 5 classes.\n",
      "Loading model models/hybrid_training_model_3.h5\n",
      "Evaluating model models/hybrid_training_model_3.h5\n",
      "Evaluation complete.\n",
      "\n",
      "accuracy: 0.94995\n",
      "loss: 0.14040999032860654\n",
      "pcr: [0.79310345 0.98669202 0.92488688 0.92307692 0.79123554]\n",
      "mean pcr: 0.8837989618250411\n",
      "confusion matrix:\n"
     ]
    },
    {
     "data": {
      "text/plain": [
       "[[552, 100, 42, 0, 2],\n",
       " [50, 12975, 102, 7, 16],\n",
       " [15, 107, 4088, 4, 206],\n",
       " [1, 1, 4, 84, 1],\n",
       " [2, 15, 324, 2, 1300]]"
      ]
     },
     "execution_count": 8,
     "metadata": {},
     "output_type": "execute_result"
    }
   ],
   "source": [
    "# evaluate model on validation set\n",
    "model_paths = {'model': filepath}\n",
    "model_metrics = c2t.eval_models(model_paths, valid_path)['model']\n",
    "c2t.print_eval(model_metrics)"
   ]
  },
  {
   "cell_type": "code",
   "execution_count": null,
   "metadata": {},
   "outputs": [],
   "source": []
  }
 ],
 "metadata": {
  "kernelspec": {
   "display_name": "Python 3",
   "language": "python",
   "name": "python3"
  },
  "language_info": {
   "codemirror_mode": {
    "name": "ipython",
    "version": 3
   },
   "file_extension": ".py",
   "mimetype": "text/x-python",
   "name": "python",
   "nbconvert_exporter": "python",
   "pygments_lexer": "ipython3",
   "version": "3.6.6"
  }
 },
 "nbformat": 4,
 "nbformat_minor": 2
}
