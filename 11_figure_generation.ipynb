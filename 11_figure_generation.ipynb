{
 "cells": [
  {
   "cell_type": "markdown",
   "metadata": {},
   "source": [
    "# Springboard Capstone Project 2\n",
    "## Table and figure generation for final report\n",
    "___"
   ]
  },
  {
   "cell_type": "code",
   "execution_count": 1,
   "metadata": {},
   "outputs": [
    {
     "name": "stderr",
     "output_type": "stream",
     "text": [
      "Using TensorFlow backend.\n"
     ]
    },
    {
     "data": {
      "text/plain": [
       "<module 'cap2tools' from 'C:\\\\Users\\\\Nils\\\\Documents\\\\GitHub\\\\Springboard-Capstone-2-local-yelp\\\\cap2tools.py'>"
      ]
     },
     "execution_count": 1,
     "metadata": {},
     "output_type": "execute_result"
    }
   ],
   "source": [
    "import pandas as pd\n",
    "import numpy as np\n",
    "import matplotlib.pyplot as plt\n",
    "import tensorflow as tf\n",
    "import keras.backend as K\n",
    "from keras.optimizers import Adam\n",
    "from keras.callbacks import EarlyStopping, ModelCheckpoint\n",
    "from keras.utils import plot_model\n",
    "from importlib import reload\n",
    "import json\n",
    "import seaborn as sns\n",
    "import gc\n",
    "\n",
    "# custom module for capstone 2\n",
    "import cap2tools as c2t\n",
    "reload(c2t)"
   ]
  },
  {
   "cell_type": "code",
   "execution_count": 2,
   "metadata": {},
   "outputs": [],
   "source": [
    "# workaround for graphviz PATH issue in Anaconda\n",
    "import os\n",
    "os.environ[\"PATH\"] += os.pathsep + 'C:/Program Files (x86)/Graphviz2.38/bin/'"
   ]
  },
  {
   "cell_type": "code",
   "execution_count": 31,
   "metadata": {},
   "outputs": [],
   "source": [
    "# configure GPU memory usage by tensorflow\n",
    "config = K.tf.ConfigProto()\n",
    "config.gpu_options.allow_growth = True\n",
    "config.gpu_options.per_process_gpu_memory_fraction = 0.80\n",
    "K.tensorflow_backend.set_session(K.tf.Session(config=config))"
   ]
  },
  {
   "cell_type": "code",
   "execution_count": 4,
   "metadata": {},
   "outputs": [],
   "source": [
    "# load image information\n",
    "data = pd.read_csv('photo_labels_all.csv')"
   ]
  },
  {
   "cell_type": "code",
   "execution_count": 5,
   "metadata": {},
   "outputs": [
    {
     "data": {
      "text/html": [
       "<div>\n",
       "<style scoped>\n",
       "    .dataframe tbody tr th:only-of-type {\n",
       "        vertical-align: middle;\n",
       "    }\n",
       "\n",
       "    .dataframe tbody tr th {\n",
       "        vertical-align: top;\n",
       "    }\n",
       "\n",
       "    .dataframe thead th {\n",
       "        text-align: right;\n",
       "    }\n",
       "</style>\n",
       "<table border=\"1\" class=\"dataframe\">\n",
       "  <thead>\n",
       "    <tr style=\"text-align: right;\">\n",
       "      <th></th>\n",
       "      <th>Image Count</th>\n",
       "      <th>Abundance (%)</th>\n",
       "    </tr>\n",
       "    <tr>\n",
       "      <th>Class</th>\n",
       "      <th></th>\n",
       "      <th></th>\n",
       "    </tr>\n",
       "  </thead>\n",
       "  <tbody>\n",
       "    <tr>\n",
       "      <th>food</th>\n",
       "      <td>184456</td>\n",
       "      <td>65.644574</td>\n",
       "    </tr>\n",
       "    <tr>\n",
       "      <th>inside</th>\n",
       "      <td>61620</td>\n",
       "      <td>21.929450</td>\n",
       "    </tr>\n",
       "    <tr>\n",
       "      <th>outside</th>\n",
       "      <td>23214</td>\n",
       "      <td>8.261445</td>\n",
       "    </tr>\n",
       "    <tr>\n",
       "      <th>drink</th>\n",
       "      <td>10350</td>\n",
       "      <td>3.683379</td>\n",
       "    </tr>\n",
       "    <tr>\n",
       "      <th>menu</th>\n",
       "      <td>1352</td>\n",
       "      <td>0.481152</td>\n",
       "    </tr>\n",
       "  </tbody>\n",
       "</table>\n",
       "</div>"
      ],
      "text/plain": [
       "         Image Count  Abundance (%)\n",
       "Class                              \n",
       "food          184456      65.644574\n",
       "inside         61620      21.929450\n",
       "outside        23214       8.261445\n",
       "drink          10350       3.683379\n",
       "menu            1352       0.481152"
      ]
     },
     "execution_count": 5,
     "metadata": {},
     "output_type": "execute_result"
    }
   ],
   "source": [
    "# make class imbalance table\n",
    "table = pd.DataFrame(data.label.value_counts())\n",
    "table.columns = ['Image Count']\n",
    "table.index.name = 'Class'\n",
    "table['Abundance (%)'] = table['Image Count']/table['Image Count'].sum() * 100\n",
    "table.to_csv('figures/class_imba_table.csv')\n",
    "table"
   ]
  },
  {
   "cell_type": "code",
   "execution_count": 6,
   "metadata": {},
   "outputs": [
    {
     "data": {
      "text/html": [
       "<div>\n",
       "<style scoped>\n",
       "    .dataframe tbody tr th:only-of-type {\n",
       "        vertical-align: middle;\n",
       "    }\n",
       "\n",
       "    .dataframe tbody tr th {\n",
       "        vertical-align: top;\n",
       "    }\n",
       "\n",
       "    .dataframe thead th {\n",
       "        text-align: right;\n",
       "    }\n",
       "</style>\n",
       "<table border=\"1\" class=\"dataframe\">\n",
       "  <thead>\n",
       "    <tr style=\"text-align: right;\">\n",
       "      <th></th>\n",
       "      <th>Train</th>\n",
       "      <th>Validation</th>\n",
       "      <th>Test</th>\n",
       "    </tr>\n",
       "    <tr>\n",
       "      <th>Class</th>\n",
       "      <th></th>\n",
       "      <th></th>\n",
       "      <th></th>\n",
       "    </tr>\n",
       "  </thead>\n",
       "  <tbody>\n",
       "    <tr>\n",
       "      <th>food</th>\n",
       "      <td>65.624784</td>\n",
       "      <td>66.210</td>\n",
       "      <td>65.420000</td>\n",
       "    </tr>\n",
       "    <tr>\n",
       "      <th>inside</th>\n",
       "      <td>21.941885</td>\n",
       "      <td>21.315</td>\n",
       "      <td>22.243333</td>\n",
       "    </tr>\n",
       "    <tr>\n",
       "      <th>outside</th>\n",
       "      <td>8.285135</td>\n",
       "      <td>8.195</td>\n",
       "      <td>8.123333</td>\n",
       "    </tr>\n",
       "    <tr>\n",
       "      <th>drink</th>\n",
       "      <td>3.673720</td>\n",
       "      <td>3.755</td>\n",
       "      <td>3.710000</td>\n",
       "    </tr>\n",
       "    <tr>\n",
       "      <th>menu</th>\n",
       "      <td>0.474475</td>\n",
       "      <td>0.525</td>\n",
       "      <td>0.503333</td>\n",
       "    </tr>\n",
       "  </tbody>\n",
       "</table>\n",
       "</div>"
      ],
      "text/plain": [
       "             Train  Validation       Test\n",
       "Class                                    \n",
       "food     65.624784      66.210  65.420000\n",
       "inside   21.941885      21.315  22.243333\n",
       "outside   8.285135       8.195   8.123333\n",
       "drink     3.673720       3.755   3.710000\n",
       "menu      0.474475       0.525   0.503333"
      ]
     },
     "execution_count": 6,
     "metadata": {},
     "output_type": "execute_result"
    }
   ],
   "source": [
    "# make table of class abundance in each set\n",
    "train = data[data.set=='train']\n",
    "val = data[data.set=='val']\n",
    "test = data[data.set=='test']\n",
    "\n",
    "abundances = pd.DataFrame()\n",
    "abundances['Train'] = train.label.value_counts()\n",
    "abundances.Train = abundances.Train / abundances.Train.sum()\n",
    "\n",
    "abundances['Validation'] = val.label.value_counts()\n",
    "abundances.Validation = abundances.Validation / abundances.Validation.sum()\n",
    "\n",
    "abundances['Test'] = test.label.value_counts()\n",
    "abundances.Test = abundances.Test / abundances.Test.sum()\n",
    "\n",
    "abundances = abundances * 100\n",
    "\n",
    "abundances.index.name = 'Class'\n",
    "abundances.to_csv('figures/class_abundances_table.csv')\n",
    "abundances"
   ]
  },
  {
   "cell_type": "code",
   "execution_count": 7,
   "metadata": {},
   "outputs": [
    {
     "data": {
      "text/html": [
       "<div>\n",
       "<style scoped>\n",
       "    .dataframe tbody tr th:only-of-type {\n",
       "        vertical-align: middle;\n",
       "    }\n",
       "\n",
       "    .dataframe tbody tr th {\n",
       "        vertical-align: top;\n",
       "    }\n",
       "\n",
       "    .dataframe thead th {\n",
       "        text-align: right;\n",
       "    }\n",
       "</style>\n",
       "<table border=\"1\" class=\"dataframe\">\n",
       "  <thead>\n",
       "    <tr style=\"text-align: right;\">\n",
       "      <th></th>\n",
       "      <th>Image Count</th>\n",
       "      <th>Weight</th>\n",
       "    </tr>\n",
       "    <tr>\n",
       "      <th>Class</th>\n",
       "      <th></th>\n",
       "      <th></th>\n",
       "    </tr>\n",
       "  </thead>\n",
       "  <tbody>\n",
       "    <tr>\n",
       "      <th>food</th>\n",
       "      <td>151588</td>\n",
       "      <td>1.00</td>\n",
       "    </tr>\n",
       "    <tr>\n",
       "      <th>inside</th>\n",
       "      <td>50684</td>\n",
       "      <td>2.99</td>\n",
       "    </tr>\n",
       "    <tr>\n",
       "      <th>outside</th>\n",
       "      <td>19138</td>\n",
       "      <td>7.92</td>\n",
       "    </tr>\n",
       "    <tr>\n",
       "      <th>drink</th>\n",
       "      <td>8486</td>\n",
       "      <td>17.86</td>\n",
       "    </tr>\n",
       "    <tr>\n",
       "      <th>menu</th>\n",
       "      <td>1096</td>\n",
       "      <td>138.31</td>\n",
       "    </tr>\n",
       "  </tbody>\n",
       "</table>\n",
       "</div>"
      ],
      "text/plain": [
       "         Image Count  Weight\n",
       "Class                       \n",
       "food          151588    1.00\n",
       "inside         50684    2.99\n",
       "outside        19138    7.92\n",
       "drink           8486   17.86\n",
       "menu            1096  138.31"
      ]
     },
     "execution_count": 7,
     "metadata": {},
     "output_type": "execute_result"
    }
   ],
   "source": [
    "# make class weights table\n",
    "train_df = data[data.set == 'train']\n",
    "counts = train_df.label.value_counts()\n",
    "weights = counts.food/counts\n",
    "weights_df = pd.DataFrame(counts)\n",
    "weights_df.columns = ['Image Count']\n",
    "weights_df['Weight'] = round(weights, 2)\n",
    "weights_df.index.name = 'Class'\n",
    "weights_df.to_csv('figures/class_weights_table.csv')\n",
    "weights_df"
   ]
  },
  {
   "cell_type": "code",
   "execution_count": 8,
   "metadata": {
    "scrolled": true
   },
   "outputs": [
    {
     "name": "stdout",
     "output_type": "stream",
     "text": [
      "_________________________________________________________________\n",
      "Layer (type)                 Output Shape              Param #   \n",
      "=================================================================\n",
      "input_1 (InputLayer)         (None, 224, 224, 3)       0         \n",
      "_________________________________________________________________\n",
      "block1_conv1 (Conv2D)        (None, 224, 224, 64)      1792      \n",
      "_________________________________________________________________\n",
      "block1_conv2 (Conv2D)        (None, 224, 224, 64)      36928     \n",
      "_________________________________________________________________\n",
      "block1_pool (MaxPooling2D)   (None, 112, 112, 64)      0         \n",
      "_________________________________________________________________\n",
      "block2_conv1 (Conv2D)        (None, 112, 112, 128)     73856     \n",
      "_________________________________________________________________\n",
      "block2_conv2 (Conv2D)        (None, 112, 112, 128)     147584    \n",
      "_________________________________________________________________\n",
      "block2_pool (MaxPooling2D)   (None, 56, 56, 128)       0         \n",
      "_________________________________________________________________\n",
      "block3_conv1 (Conv2D)        (None, 56, 56, 256)       295168    \n",
      "_________________________________________________________________\n",
      "block3_conv2 (Conv2D)        (None, 56, 56, 256)       590080    \n",
      "_________________________________________________________________\n",
      "block3_conv3 (Conv2D)        (None, 56, 56, 256)       590080    \n",
      "_________________________________________________________________\n",
      "block3_pool (MaxPooling2D)   (None, 28, 28, 256)       0         \n",
      "_________________________________________________________________\n",
      "block4_conv1 (Conv2D)        (None, 28, 28, 512)       1180160   \n",
      "_________________________________________________________________\n",
      "block4_conv2 (Conv2D)        (None, 28, 28, 512)       2359808   \n",
      "_________________________________________________________________\n",
      "block4_conv3 (Conv2D)        (None, 28, 28, 512)       2359808   \n",
      "_________________________________________________________________\n",
      "block4_pool (MaxPooling2D)   (None, 14, 14, 512)       0         \n",
      "_________________________________________________________________\n",
      "block5_conv1 (Conv2D)        (None, 14, 14, 512)       2359808   \n",
      "_________________________________________________________________\n",
      "block5_conv2 (Conv2D)        (None, 14, 14, 512)       2359808   \n",
      "_________________________________________________________________\n",
      "block5_conv3 (Conv2D)        (None, 14, 14, 512)       2359808   \n",
      "_________________________________________________________________\n",
      "block5_pool (MaxPooling2D)   (None, 7, 7, 512)         0         \n",
      "_________________________________________________________________\n",
      "flatten_1 (Flatten)          (None, 25088)             0         \n",
      "_________________________________________________________________\n",
      "dense_1 (Dense)              (None, 500)               12544500  \n",
      "_________________________________________________________________\n",
      "dropout_1 (Dropout)          (None, 500)               0         \n",
      "_________________________________________________________________\n",
      "dense_2 (Dense)              (None, 500)               250500    \n",
      "_________________________________________________________________\n",
      "dropout_2 (Dropout)          (None, 500)               0         \n",
      "_________________________________________________________________\n",
      "dense_3 (Dense)              (None, 5)                 2505      \n",
      "=================================================================\n",
      "Total params: 27,512,193\n",
      "Trainable params: 27,512,193\n",
      "Non-trainable params: 0\n",
      "_________________________________________________________________\n"
     ]
    }
   ],
   "source": [
    "# model graph\n",
    "model = c2t.build_VGG16(widths=(500, 500), trainable=True)\n",
    "plot_model(model, to_file='figures/VGG16_graph.png')\n",
    "model.summary()"
   ]
  },
  {
   "cell_type": "code",
   "execution_count": 9,
   "metadata": {
    "scrolled": true
   },
   "outputs": [
    {
     "name": "stdout",
     "output_type": "stream",
     "text": [
      "Building image generator...\n",
      "Found 525 images belonging to 5 classes.\n",
      "Loading models/vgg16_imagenet_baseline_1.h5\n",
      "Evaluating models/vgg16_imagenet_baseline_1.h5\n",
      "Loading models/vgg16_imagenet_baseline_2.h5\n",
      "Evaluating models/vgg16_imagenet_baseline_2.h5\n",
      "Loading models/vgg16_imagenet_baseline_3.h5\n",
      "Evaluating models/vgg16_imagenet_baseline_3.h5\n",
      "Loading models/vgg16_imagenet_trainable_1.h5\n",
      "Evaluating models/vgg16_imagenet_trainable_1.h5\n",
      "Loading models/vgg16_imagenet_trainable_2.h5\n",
      "Evaluating models/vgg16_imagenet_trainable_2.h5\n",
      "Loading models/vgg16_imagenet_trainable_3.h5\n",
      "Evaluating models/vgg16_imagenet_trainable_3.h5\n",
      "Loading models/vgg16_new_weights_1.h5\n",
      "Evaluating models/vgg16_new_weights_1.h5\n",
      "Loading models/vgg16_new_weights_2.h5\n",
      "Evaluating models/vgg16_new_weights_2.h5\n",
      "Loading models/vgg16_new_weights_3.h5\n",
      "Evaluating models/vgg16_new_weights_3.h5\n",
      "Loading models/vgg16_imagenet_trainable_augment_1.h5\n",
      "Evaluating models/vgg16_imagenet_trainable_augment_1.h5\n",
      "Loading models/vgg16_imagenet_trainable_augment_2.h5\n",
      "Evaluating models/vgg16_imagenet_trainable_augment_2.h5\n",
      "Loading models/vgg16_imagenet_trainable_augment_3.h5\n",
      "Evaluating models/vgg16_imagenet_trainable_augment_3.h5\n"
     ]
    },
    {
     "name": "stderr",
     "output_type": "stream",
     "text": [
      "C:\\Users\\Nils\\Anaconda3\\envs\\tensorflow\\lib\\site-packages\\sklearn\\metrics\\classification.py:1135: UndefinedMetricWarning: F-score is ill-defined and being set to 0.0 in labels with no predicted samples.\n",
      "  'precision', 'predicted', average, warn_for)\n",
      "C:\\Users\\Nils\\Anaconda3\\envs\\tensorflow\\lib\\site-packages\\sklearn\\metrics\\classification.py:1135: UndefinedMetricWarning: F-score is ill-defined and being set to 0.0 in labels with no predicted samples.\n",
      "  'precision', 'predicted', average, warn_for)\n"
     ]
    },
    {
     "name": "stdout",
     "output_type": "stream",
     "text": [
      "Saving evaluation to evals/conv_weight_comparison.json\n",
      "Evaluation complete.\n",
      "\n"
     ]
    },
    {
     "data": {
      "text/plain": [
       "35"
      ]
     },
     "execution_count": 9,
     "metadata": {},
     "output_type": "execute_result"
    }
   ],
   "source": [
    "# evaluate convolutional weight conditions\n",
    "model_paths = {'ImageNet_baseline_1 - 1': 'models/vgg16_imagenet_baseline_1.h5', \n",
    "               'ImageNet_baseline_1 - 2': 'models/vgg16_imagenet_baseline_2.h5', \n",
    "               'ImageNet_baseline_1 - 3': 'models/vgg16_imagenet_baseline_3.h5', \n",
    "               'ImageNet_trainable_2 - 1': 'models/vgg16_imagenet_trainable_1.h5', \n",
    "               'ImageNet_trainable_2 - 2': 'models/vgg16_imagenet_trainable_2.h5', \n",
    "               'ImageNet_trainable_2 - 3': 'models/vgg16_imagenet_trainable_3.h5',\n",
    "               'New_weights_3 - 1': 'models/vgg16_new_weights_1.h5', \n",
    "               'New_weights_3 - 2': 'models/vgg16_new_weights_2.h5', \n",
    "               'New_weights_3 - 3': 'models/vgg16_new_weights_3.h5', \n",
    "               'ImageNet_augmented_4 - 1': 'models/vgg16_imagenet_trainable_augment_1.h5', \n",
    "               'ImageNet_augmented_4 - 2': 'models/vgg16_imagenet_trainable_augment_2.h5', \n",
    "               'ImageNet_augmente_4 - 3': 'models/vgg16_imagenet_trainable_augment_3.h5'}\n",
    "\n",
    "valid_path = 'downsampled/val'\n",
    "save_path = 'evals/conv_weight_comparison.json'\n",
    "\n",
    "model_metrics = c2t.eval_models(model_paths, valid_path, save_path=save_path)\n",
    "\n",
    "gc.collect()"
   ]
  },
  {
   "cell_type": "code",
   "execution_count": 29,
   "metadata": {},
   "outputs": [
    {
     "data": {
      "text/html": [
       "<div>\n",
       "<style scoped>\n",
       "    .dataframe tbody tr th:only-of-type {\n",
       "        vertical-align: middle;\n",
       "    }\n",
       "\n",
       "    .dataframe tbody tr th {\n",
       "        vertical-align: top;\n",
       "    }\n",
       "\n",
       "    .dataframe thead th {\n",
       "        text-align: right;\n",
       "    }\n",
       "</style>\n",
       "<table border=\"1\" class=\"dataframe\">\n",
       "  <thead>\n",
       "    <tr style=\"text-align: right;\">\n",
       "      <th></th>\n",
       "      <th>acc</th>\n",
       "      <th>loss</th>\n",
       "      <th>mpcr</th>\n",
       "      <th>macro_f1</th>\n",
       "      <th>macro_auc</th>\n",
       "      <th>replicate</th>\n",
       "    </tr>\n",
       "    <tr>\n",
       "      <th>Condition</th>\n",
       "      <th></th>\n",
       "      <th></th>\n",
       "      <th></th>\n",
       "      <th></th>\n",
       "      <th></th>\n",
       "      <th></th>\n",
       "    </tr>\n",
       "  </thead>\n",
       "  <tbody>\n",
       "    <tr>\n",
       "      <th>1.0</th>\n",
       "      <td>0.877</td>\n",
       "      <td>0.904</td>\n",
       "      <td>0.877</td>\n",
       "      <td>0.878</td>\n",
       "      <td>0.979</td>\n",
       "      <td>2.0</td>\n",
       "    </tr>\n",
       "    <tr>\n",
       "      <th>2.0</th>\n",
       "      <td>0.872</td>\n",
       "      <td>0.375</td>\n",
       "      <td>0.872</td>\n",
       "      <td>0.872</td>\n",
       "      <td>0.981</td>\n",
       "      <td>2.0</td>\n",
       "    </tr>\n",
       "    <tr>\n",
       "      <th>3.0</th>\n",
       "      <td>0.707</td>\n",
       "      <td>0.763</td>\n",
       "      <td>0.707</td>\n",
       "      <td>0.708</td>\n",
       "      <td>0.924</td>\n",
       "      <td>2.0</td>\n",
       "    </tr>\n",
       "    <tr>\n",
       "      <th>4.0</th>\n",
       "      <td>0.854</td>\n",
       "      <td>0.381</td>\n",
       "      <td>0.854</td>\n",
       "      <td>0.853</td>\n",
       "      <td>0.980</td>\n",
       "      <td>1.5</td>\n",
       "    </tr>\n",
       "  </tbody>\n",
       "</table>\n",
       "</div>"
      ],
      "text/plain": [
       "             acc   loss   mpcr  macro_f1  macro_auc  replicate\n",
       "Condition                                                     \n",
       "1.0        0.877  0.904  0.877     0.878      0.979        2.0\n",
       "2.0        0.872  0.375  0.872     0.872      0.981        2.0\n",
       "3.0        0.707  0.763  0.707     0.708      0.924        2.0\n",
       "4.0        0.854  0.381  0.854     0.853      0.980        1.5"
      ]
     },
     "execution_count": 29,
     "metadata": {},
     "output_type": "execute_result"
    }
   ],
   "source": [
    "# save comparison table\n",
    "with open('evals/conv_weight_comparison.json', 'r') as f:\n",
    "    model_metrics = json.load(f)\n",
    "\n",
    "table = c2t.eval_table(model_metrics, 'Condition')\n",
    "table.to_csv('figures/pretraining_comp_table.csv')\n",
    "table"
   ]
  },
  {
   "cell_type": "code",
   "execution_count": 10,
   "metadata": {
    "scrolled": true
   },
   "outputs": [
    {
     "name": "stdout",
     "output_type": "stream",
     "text": [
      "Building image generator...\n",
      "Found 525 images belonging to 5 classes.\n",
      "Loading H:/springboard/other_data/yelp/models/vgg16_width_400_1.h5\n",
      "Evaluating H:/springboard/other_data/yelp/models/vgg16_width_400_1.h5\n",
      "Loading H:/springboard/other_data/yelp/models/vgg16_width_400_2.h5\n",
      "Evaluating H:/springboard/other_data/yelp/models/vgg16_width_400_2.h5\n",
      "Loading H:/springboard/other_data/yelp/models/vgg16_width_400_3.h5\n",
      "Evaluating H:/springboard/other_data/yelp/models/vgg16_width_400_3.h5\n",
      "Loading H:/springboard/other_data/yelp/models/vgg16_width_600_1.h5\n",
      "Evaluating H:/springboard/other_data/yelp/models/vgg16_width_600_1.h5\n",
      "Loading H:/springboard/other_data/yelp/models/vgg16_width_600_2.h5\n",
      "Evaluating H:/springboard/other_data/yelp/models/vgg16_width_600_2.h5\n",
      "Loading H:/springboard/other_data/yelp/models/vgg16_width_600_3.h5\n",
      "Evaluating H:/springboard/other_data/yelp/models/vgg16_width_600_3.h5\n",
      "Loading H:/springboard/other_data/yelp/models/vgg16_width_800_1.h5\n",
      "Evaluating H:/springboard/other_data/yelp/models/vgg16_width_800_1.h5\n",
      "Loading H:/springboard/other_data/yelp/models/vgg16_width_800_2.h5\n",
      "Evaluating H:/springboard/other_data/yelp/models/vgg16_width_800_2.h5\n"
     ]
    },
    {
     "name": "stderr",
     "output_type": "stream",
     "text": [
      "C:\\Users\\Nils\\Anaconda3\\envs\\tensorflow\\lib\\site-packages\\sklearn\\metrics\\classification.py:1135: UndefinedMetricWarning: F-score is ill-defined and being set to 0.0 in labels with no predicted samples.\n",
      "  'precision', 'predicted', average, warn_for)\n",
      "C:\\Users\\Nils\\Anaconda3\\envs\\tensorflow\\lib\\site-packages\\sklearn\\metrics\\classification.py:1135: UndefinedMetricWarning: F-score is ill-defined and being set to 0.0 in labels with no predicted samples.\n",
      "  'precision', 'predicted', average, warn_for)\n"
     ]
    },
    {
     "name": "stdout",
     "output_type": "stream",
     "text": [
      "Loading H:/springboard/other_data/yelp/models/vgg16_width_800_3.h5\n",
      "Evaluating H:/springboard/other_data/yelp/models/vgg16_width_800_3.h5\n",
      "Loading H:/springboard/other_data/yelp/models/vgg16_width_1000_1.h5\n",
      "Evaluating H:/springboard/other_data/yelp/models/vgg16_width_1000_1.h5\n",
      "Loading H:/springboard/other_data/yelp/models/vgg16_width_1000_2.h5\n",
      "Evaluating H:/springboard/other_data/yelp/models/vgg16_width_1000_2.h5\n",
      "Loading H:/springboard/other_data/yelp/models/vgg16_width_1000_3.h5\n",
      "Evaluating H:/springboard/other_data/yelp/models/vgg16_width_1000_3.h5\n",
      "Loading H:/springboard/other_data/yelp/models/vgg16_width_1200_1.h5\n",
      "Evaluating H:/springboard/other_data/yelp/models/vgg16_width_1200_1.h5\n",
      "Loading H:/springboard/other_data/yelp/models/vgg16_width_1200_2.h5\n",
      "Evaluating H:/springboard/other_data/yelp/models/vgg16_width_1200_2.h5\n",
      "Loading H:/springboard/other_data/yelp/models/vgg16_width_1200_3.h5\n",
      "Evaluating H:/springboard/other_data/yelp/models/vgg16_width_1200_3.h5\n",
      "Loading H:/springboard/other_data/yelp/models/vgg16_width_1400_1.h5\n",
      "Evaluating H:/springboard/other_data/yelp/models/vgg16_width_1400_1.h5\n",
      "Loading H:/springboard/other_data/yelp/models/vgg16_width_1400_2.h5\n",
      "Evaluating H:/springboard/other_data/yelp/models/vgg16_width_1400_2.h5\n",
      "Loading H:/springboard/other_data/yelp/models/vgg16_width_1400_3.h5\n",
      "Evaluating H:/springboard/other_data/yelp/models/vgg16_width_1400_3.h5\n",
      "Loading H:/springboard/other_data/yelp/models/vgg16_width_1600_1.h5\n",
      "Evaluating H:/springboard/other_data/yelp/models/vgg16_width_1600_1.h5\n"
     ]
    },
    {
     "name": "stderr",
     "output_type": "stream",
     "text": [
      "C:\\Users\\Nils\\Anaconda3\\envs\\tensorflow\\lib\\site-packages\\sklearn\\metrics\\classification.py:1135: UndefinedMetricWarning: F-score is ill-defined and being set to 0.0 in labels with no predicted samples.\n",
      "  'precision', 'predicted', average, warn_for)\n",
      "C:\\Users\\Nils\\Anaconda3\\envs\\tensorflow\\lib\\site-packages\\sklearn\\metrics\\classification.py:1135: UndefinedMetricWarning: F-score is ill-defined and being set to 0.0 in labels with no predicted samples.\n",
      "  'precision', 'predicted', average, warn_for)\n"
     ]
    },
    {
     "name": "stdout",
     "output_type": "stream",
     "text": [
      "Loading H:/springboard/other_data/yelp/models/vgg16_width_1600_2.h5\n",
      "Evaluating H:/springboard/other_data/yelp/models/vgg16_width_1600_2.h5\n",
      "Loading H:/springboard/other_data/yelp/models/vgg16_width_1600_3.h5\n",
      "Evaluating H:/springboard/other_data/yelp/models/vgg16_width_1600_3.h5\n",
      "Saving evaluation to evals/width_comparison.json\n",
      "Evaluation complete.\n",
      "\n"
     ]
    },
    {
     "data": {
      "text/plain": [
       "132"
      ]
     },
     "execution_count": 10,
     "metadata": {},
     "output_type": "execute_result"
    }
   ],
   "source": [
    "# evaluate width conditions\n",
    "widths = [400, 600, 800, 1000, 1200, 1400, 1600]\n",
    "replicates = 3\n",
    "\n",
    "model_paths = dict()\n",
    "dir_path = 'H:/springboard/other_data/yelp/models'\n",
    "\n",
    "for width in widths:\n",
    "    condition = 'width_{}'.format(str(width))\n",
    "    \n",
    "    # add key-value pairs to model_paths\n",
    "    for i in range(1, replicates+1):\n",
    "        key = condition + ' - ' + str(i)\n",
    "        value = '{}/vgg16_{}_{}.h5'.format(dir_path, condition, str(i))\n",
    "        model_paths[key] = value\n",
    "\n",
    "valid_path = 'downsampled/val'\n",
    "save_path = 'evals/width_comparison.json'\n",
    "\n",
    "model_metrics = c2t.eval_models(model_paths, valid_path, save_path=save_path)\n",
    "\n",
    "gc.collect()"
   ]
  },
  {
   "cell_type": "code",
   "execution_count": 2,
   "metadata": {},
   "outputs": [
    {
     "data": {
      "text/html": [
       "<div>\n",
       "<style scoped>\n",
       "    .dataframe tbody tr th:only-of-type {\n",
       "        vertical-align: middle;\n",
       "    }\n",
       "\n",
       "    .dataframe tbody tr th {\n",
       "        vertical-align: top;\n",
       "    }\n",
       "\n",
       "    .dataframe thead th {\n",
       "        text-align: right;\n",
       "    }\n",
       "</style>\n",
       "<table border=\"1\" class=\"dataframe\">\n",
       "  <thead>\n",
       "    <tr style=\"text-align: right;\">\n",
       "      <th></th>\n",
       "      <th>acc</th>\n",
       "      <th>loss</th>\n",
       "      <th>mpcr</th>\n",
       "      <th>macro_f1</th>\n",
       "      <th>macro_auc</th>\n",
       "      <th>replicate</th>\n",
       "    </tr>\n",
       "    <tr>\n",
       "      <th>Width</th>\n",
       "      <th></th>\n",
       "      <th></th>\n",
       "      <th></th>\n",
       "      <th></th>\n",
       "      <th></th>\n",
       "      <th></th>\n",
       "    </tr>\n",
       "  </thead>\n",
       "  <tbody>\n",
       "    <tr>\n",
       "      <th>400.0</th>\n",
       "      <td>0.857</td>\n",
       "      <td>0.403</td>\n",
       "      <td>0.857</td>\n",
       "      <td>0.857</td>\n",
       "      <td>0.977</td>\n",
       "      <td>2.0</td>\n",
       "    </tr>\n",
       "    <tr>\n",
       "      <th>600.0</th>\n",
       "      <td>0.878</td>\n",
       "      <td>0.327</td>\n",
       "      <td>0.878</td>\n",
       "      <td>0.879</td>\n",
       "      <td>0.984</td>\n",
       "      <td>2.0</td>\n",
       "    </tr>\n",
       "    <tr>\n",
       "      <th>800.0</th>\n",
       "      <td>0.884</td>\n",
       "      <td>0.306</td>\n",
       "      <td>0.884</td>\n",
       "      <td>0.884</td>\n",
       "      <td>0.985</td>\n",
       "      <td>2.0</td>\n",
       "    </tr>\n",
       "    <tr>\n",
       "      <th>1000.0</th>\n",
       "      <td>0.886</td>\n",
       "      <td>0.305</td>\n",
       "      <td>0.886</td>\n",
       "      <td>0.885</td>\n",
       "      <td>0.985</td>\n",
       "      <td>2.0</td>\n",
       "    </tr>\n",
       "    <tr>\n",
       "      <th>1200.0</th>\n",
       "      <td>0.888</td>\n",
       "      <td>0.311</td>\n",
       "      <td>0.888</td>\n",
       "      <td>0.888</td>\n",
       "      <td>0.983</td>\n",
       "      <td>2.0</td>\n",
       "    </tr>\n",
       "    <tr>\n",
       "      <th>1400.0</th>\n",
       "      <td>0.882</td>\n",
       "      <td>0.330</td>\n",
       "      <td>0.882</td>\n",
       "      <td>0.882</td>\n",
       "      <td>0.983</td>\n",
       "      <td>2.0</td>\n",
       "    </tr>\n",
       "    <tr>\n",
       "      <th>1600.0</th>\n",
       "      <td>0.887</td>\n",
       "      <td>0.284</td>\n",
       "      <td>0.887</td>\n",
       "      <td>0.887</td>\n",
       "      <td>0.987</td>\n",
       "      <td>2.5</td>\n",
       "    </tr>\n",
       "  </tbody>\n",
       "</table>\n",
       "</div>"
      ],
      "text/plain": [
       "          acc   loss   mpcr  macro_f1  macro_auc  replicate\n",
       "Width                                                      \n",
       "400.0   0.857  0.403  0.857     0.857      0.977        2.0\n",
       "600.0   0.878  0.327  0.878     0.879      0.984        2.0\n",
       "800.0   0.884  0.306  0.884     0.884      0.985        2.0\n",
       "1000.0  0.886  0.305  0.886     0.885      0.985        2.0\n",
       "1200.0  0.888  0.311  0.888     0.888      0.983        2.0\n",
       "1400.0  0.882  0.330  0.882     0.882      0.983        2.0\n",
       "1600.0  0.887  0.284  0.887     0.887      0.987        2.5"
      ]
     },
     "execution_count": 2,
     "metadata": {},
     "output_type": "execute_result"
    }
   ],
   "source": [
    "# save width comparison table\n",
    "with open('evals/width_comparison.json', 'r') as f:\n",
    "    model_metrics = json.load(f)\n",
    "\n",
    "table = c2t.eval_table(model_metrics, 'Width')\n",
    "table.to_csv('figures/width_comparison_table.csv')\n",
    "table"
   ]
  },
  {
   "cell_type": "code",
   "execution_count": 11,
   "metadata": {
    "scrolled": true
   },
   "outputs": [
    {
     "name": "stdout",
     "output_type": "stream",
     "text": [
      "Building image generator...\n",
      "Found 525 images belonging to 5 classes.\n",
      "Loading H:/springboard/other_data/yelp/models/vgg16_learning_rate_0-0005_1.h5\n",
      "Evaluating H:/springboard/other_data/yelp/models/vgg16_learning_rate_0-0005_1.h5\n"
     ]
    },
    {
     "name": "stderr",
     "output_type": "stream",
     "text": [
      "C:\\Users\\Nils\\Anaconda3\\envs\\tensorflow\\lib\\site-packages\\sklearn\\metrics\\classification.py:1135: UndefinedMetricWarning: F-score is ill-defined and being set to 0.0 in labels with no predicted samples.\n",
      "  'precision', 'predicted', average, warn_for)\n",
      "C:\\Users\\Nils\\Anaconda3\\envs\\tensorflow\\lib\\site-packages\\sklearn\\metrics\\classification.py:1135: UndefinedMetricWarning: F-score is ill-defined and being set to 0.0 in labels with no predicted samples.\n",
      "  'precision', 'predicted', average, warn_for)\n"
     ]
    },
    {
     "name": "stdout",
     "output_type": "stream",
     "text": [
      "Loading H:/springboard/other_data/yelp/models/vgg16_learning_rate_0-0005_2.h5\n",
      "Evaluating H:/springboard/other_data/yelp/models/vgg16_learning_rate_0-0005_2.h5\n"
     ]
    },
    {
     "name": "stderr",
     "output_type": "stream",
     "text": [
      "C:\\Users\\Nils\\Anaconda3\\envs\\tensorflow\\lib\\site-packages\\sklearn\\metrics\\classification.py:1135: UndefinedMetricWarning: F-score is ill-defined and being set to 0.0 in labels with no predicted samples.\n",
      "  'precision', 'predicted', average, warn_for)\n",
      "C:\\Users\\Nils\\Anaconda3\\envs\\tensorflow\\lib\\site-packages\\sklearn\\metrics\\classification.py:1135: UndefinedMetricWarning: F-score is ill-defined and being set to 0.0 in labels with no predicted samples.\n",
      "  'precision', 'predicted', average, warn_for)\n"
     ]
    },
    {
     "name": "stdout",
     "output_type": "stream",
     "text": [
      "Loading H:/springboard/other_data/yelp/models/vgg16_learning_rate_0-0005_3.h5\n",
      "Evaluating H:/springboard/other_data/yelp/models/vgg16_learning_rate_0-0005_3.h5\n"
     ]
    },
    {
     "name": "stderr",
     "output_type": "stream",
     "text": [
      "C:\\Users\\Nils\\Anaconda3\\envs\\tensorflow\\lib\\site-packages\\sklearn\\metrics\\classification.py:1135: UndefinedMetricWarning: F-score is ill-defined and being set to 0.0 in labels with no predicted samples.\n",
      "  'precision', 'predicted', average, warn_for)\n",
      "C:\\Users\\Nils\\Anaconda3\\envs\\tensorflow\\lib\\site-packages\\sklearn\\metrics\\classification.py:1135: UndefinedMetricWarning: F-score is ill-defined and being set to 0.0 in labels with no predicted samples.\n",
      "  'precision', 'predicted', average, warn_for)\n"
     ]
    },
    {
     "name": "stdout",
     "output_type": "stream",
     "text": [
      "Loading H:/springboard/other_data/yelp/models/vgg16_learning_rate_0-0002_1.h5\n",
      "Evaluating H:/springboard/other_data/yelp/models/vgg16_learning_rate_0-0002_1.h5\n"
     ]
    },
    {
     "name": "stderr",
     "output_type": "stream",
     "text": [
      "C:\\Users\\Nils\\Anaconda3\\envs\\tensorflow\\lib\\site-packages\\sklearn\\metrics\\classification.py:1135: UndefinedMetricWarning: F-score is ill-defined and being set to 0.0 in labels with no predicted samples.\n",
      "  'precision', 'predicted', average, warn_for)\n",
      "C:\\Users\\Nils\\Anaconda3\\envs\\tensorflow\\lib\\site-packages\\sklearn\\metrics\\classification.py:1135: UndefinedMetricWarning: F-score is ill-defined and being set to 0.0 in labels with no predicted samples.\n",
      "  'precision', 'predicted', average, warn_for)\n"
     ]
    },
    {
     "name": "stdout",
     "output_type": "stream",
     "text": [
      "Loading H:/springboard/other_data/yelp/models/vgg16_learning_rate_0-0002_2.h5\n",
      "Evaluating H:/springboard/other_data/yelp/models/vgg16_learning_rate_0-0002_2.h5\n",
      "Loading H:/springboard/other_data/yelp/models/vgg16_learning_rate_0-0002_3.h5\n",
      "Evaluating H:/springboard/other_data/yelp/models/vgg16_learning_rate_0-0002_3.h5\n"
     ]
    },
    {
     "name": "stderr",
     "output_type": "stream",
     "text": [
      "C:\\Users\\Nils\\Anaconda3\\envs\\tensorflow\\lib\\site-packages\\sklearn\\metrics\\classification.py:1135: UndefinedMetricWarning: F-score is ill-defined and being set to 0.0 in labels with no predicted samples.\n",
      "  'precision', 'predicted', average, warn_for)\n",
      "C:\\Users\\Nils\\Anaconda3\\envs\\tensorflow\\lib\\site-packages\\sklearn\\metrics\\classification.py:1135: UndefinedMetricWarning: F-score is ill-defined and being set to 0.0 in labels with no predicted samples.\n",
      "  'precision', 'predicted', average, warn_for)\n"
     ]
    },
    {
     "name": "stdout",
     "output_type": "stream",
     "text": [
      "Loading H:/springboard/other_data/yelp/models/vgg16_learning_rate_0-0001_1.h5\n",
      "Evaluating H:/springboard/other_data/yelp/models/vgg16_learning_rate_0-0001_1.h5\n",
      "Loading H:/springboard/other_data/yelp/models/vgg16_learning_rate_0-0001_2.h5\n",
      "Evaluating H:/springboard/other_data/yelp/models/vgg16_learning_rate_0-0001_2.h5\n",
      "Loading H:/springboard/other_data/yelp/models/vgg16_learning_rate_0-0001_3.h5\n",
      "Evaluating H:/springboard/other_data/yelp/models/vgg16_learning_rate_0-0001_3.h5\n",
      "Loading H:/springboard/other_data/yelp/models/vgg16_learning_rate_5e-05_1.h5\n",
      "Evaluating H:/springboard/other_data/yelp/models/vgg16_learning_rate_5e-05_1.h5\n",
      "Loading H:/springboard/other_data/yelp/models/vgg16_learning_rate_5e-05_2.h5\n",
      "Evaluating H:/springboard/other_data/yelp/models/vgg16_learning_rate_5e-05_2.h5\n",
      "Loading H:/springboard/other_data/yelp/models/vgg16_learning_rate_5e-05_3.h5\n",
      "Evaluating H:/springboard/other_data/yelp/models/vgg16_learning_rate_5e-05_3.h5\n",
      "Loading H:/springboard/other_data/yelp/models/vgg16_learning_rate_2e-05_1.h5\n",
      "Evaluating H:/springboard/other_data/yelp/models/vgg16_learning_rate_2e-05_1.h5\n",
      "Loading H:/springboard/other_data/yelp/models/vgg16_learning_rate_2e-05_2.h5\n",
      "Evaluating H:/springboard/other_data/yelp/models/vgg16_learning_rate_2e-05_2.h5\n",
      "Loading H:/springboard/other_data/yelp/models/vgg16_learning_rate_2e-05_3.h5\n",
      "Evaluating H:/springboard/other_data/yelp/models/vgg16_learning_rate_2e-05_3.h5\n",
      "Saving evaluation to evals/lr_comparison.json\n",
      "Evaluation complete.\n",
      "\n"
     ]
    },
    {
     "data": {
      "text/plain": [
       "132"
      ]
     },
     "execution_count": 11,
     "metadata": {},
     "output_type": "execute_result"
    }
   ],
   "source": [
    "# evaluate learning rate conditions\n",
    "rates = [0.0005, 0.0002, 0.0001, 0.00005, 0.00002]\n",
    "replicates = 3\n",
    "\n",
    "model_paths = dict()\n",
    "dir_path = 'H:/springboard/other_data/yelp/models'\n",
    "\n",
    "for rate in rates:\n",
    "    condition = 'learning_rate_{}'.format(str(rate).replace('.', '-'))\n",
    "    \n",
    "    # add key-value pairs to model_paths\n",
    "    for i in range(1, replicates+1):\n",
    "        key = condition + ' - ' + str(i)\n",
    "        value = '{}/vgg16_{}_{}.h5'.format(dir_path, condition, str(i))\n",
    "        model_paths[key] = value\n",
    "\n",
    "valid_path = 'downsampled/val'\n",
    "save_path = 'evals/lr_comparison.json'\n",
    "        \n",
    "model_metrics = c2t.eval_models(model_paths, valid_path, save_path=save_path)\n",
    "\n",
    "gc.collect()"
   ]
  },
  {
   "cell_type": "code",
   "execution_count": 3,
   "metadata": {},
   "outputs": [
    {
     "data": {
      "text/html": [
       "<div>\n",
       "<style scoped>\n",
       "    .dataframe tbody tr th:only-of-type {\n",
       "        vertical-align: middle;\n",
       "    }\n",
       "\n",
       "    .dataframe tbody tr th {\n",
       "        vertical-align: top;\n",
       "    }\n",
       "\n",
       "    .dataframe thead th {\n",
       "        text-align: right;\n",
       "    }\n",
       "</style>\n",
       "<table border=\"1\" class=\"dataframe\">\n",
       "  <thead>\n",
       "    <tr style=\"text-align: right;\">\n",
       "      <th></th>\n",
       "      <th>acc</th>\n",
       "      <th>loss</th>\n",
       "      <th>mpcr</th>\n",
       "      <th>macro_f1</th>\n",
       "      <th>macro_auc</th>\n",
       "      <th>replicate</th>\n",
       "    </tr>\n",
       "    <tr>\n",
       "      <th>Learning Rate</th>\n",
       "      <th></th>\n",
       "      <th></th>\n",
       "      <th></th>\n",
       "      <th></th>\n",
       "      <th></th>\n",
       "      <th></th>\n",
       "    </tr>\n",
       "  </thead>\n",
       "  <tbody>\n",
       "    <tr>\n",
       "      <th>0.00002</th>\n",
       "      <td>0.815</td>\n",
       "      <td>0.608</td>\n",
       "      <td>0.815</td>\n",
       "      <td>0.814</td>\n",
       "      <td>0.959</td>\n",
       "      <td>2.0</td>\n",
       "    </tr>\n",
       "    <tr>\n",
       "      <th>0.00005</th>\n",
       "      <td>0.876</td>\n",
       "      <td>0.325</td>\n",
       "      <td>0.876</td>\n",
       "      <td>0.875</td>\n",
       "      <td>0.984</td>\n",
       "      <td>2.0</td>\n",
       "    </tr>\n",
       "    <tr>\n",
       "      <th>0.00010</th>\n",
       "      <td>0.879</td>\n",
       "      <td>0.330</td>\n",
       "      <td>0.879</td>\n",
       "      <td>0.880</td>\n",
       "      <td>0.984</td>\n",
       "      <td>2.0</td>\n",
       "    </tr>\n",
       "    <tr>\n",
       "      <th>0.00020</th>\n",
       "      <td>0.863</td>\n",
       "      <td>0.370</td>\n",
       "      <td>0.863</td>\n",
       "      <td>0.861</td>\n",
       "      <td>0.982</td>\n",
       "      <td>2.0</td>\n",
       "    </tr>\n",
       "  </tbody>\n",
       "</table>\n",
       "</div>"
      ],
      "text/plain": [
       "                 acc   loss   mpcr  macro_f1  macro_auc  replicate\n",
       "Learning Rate                                                     \n",
       "0.00002        0.815  0.608  0.815     0.814      0.959        2.0\n",
       "0.00005        0.876  0.325  0.876     0.875      0.984        2.0\n",
       "0.00010        0.879  0.330  0.879     0.880      0.984        2.0\n",
       "0.00020        0.863  0.370  0.863     0.861      0.982        2.0"
      ]
     },
     "execution_count": 3,
     "metadata": {},
     "output_type": "execute_result"
    }
   ],
   "source": [
    "# save learn rate comparison table\n",
    "with open('evals/lr_comparison.json', 'r') as f:\n",
    "    model_metrics = json.load(f)\n",
    "\n",
    "table = c2t.eval_table(model_metrics, 'Learning Rate')\n",
    "table.to_csv('figures/lr_comparison_table.csv')\n",
    "table"
   ]
  },
  {
   "cell_type": "code",
   "execution_count": 12,
   "metadata": {
    "scrolled": true
   },
   "outputs": [
    {
     "name": "stdout",
     "output_type": "stream",
     "text": [
      "Building image generator...\n",
      "Found 525 images belonging to 5 classes.\n",
      "Loading H:/springboard/other_data/yelp/models/vgg16_dropout1_0-0_1.h5\n",
      "Evaluating H:/springboard/other_data/yelp/models/vgg16_dropout1_0-0_1.h5\n",
      "Loading H:/springboard/other_data/yelp/models/vgg16_dropout1_0-0_2.h5\n",
      "Evaluating H:/springboard/other_data/yelp/models/vgg16_dropout1_0-0_2.h5\n",
      "Loading H:/springboard/other_data/yelp/models/vgg16_dropout1_0-0_3.h5\n",
      "Evaluating H:/springboard/other_data/yelp/models/vgg16_dropout1_0-0_3.h5\n",
      "Loading H:/springboard/other_data/yelp/models/vgg16_dropout1_0-1_1.h5\n",
      "Evaluating H:/springboard/other_data/yelp/models/vgg16_dropout1_0-1_1.h5\n",
      "Loading H:/springboard/other_data/yelp/models/vgg16_dropout1_0-1_2.h5\n",
      "Evaluating H:/springboard/other_data/yelp/models/vgg16_dropout1_0-1_2.h5\n",
      "Loading H:/springboard/other_data/yelp/models/vgg16_dropout1_0-1_3.h5\n",
      "Evaluating H:/springboard/other_data/yelp/models/vgg16_dropout1_0-1_3.h5\n",
      "Loading H:/springboard/other_data/yelp/models/vgg16_dropout1_0-2_1.h5\n",
      "Evaluating H:/springboard/other_data/yelp/models/vgg16_dropout1_0-2_1.h5\n",
      "Loading H:/springboard/other_data/yelp/models/vgg16_dropout1_0-2_2.h5\n",
      "Evaluating H:/springboard/other_data/yelp/models/vgg16_dropout1_0-2_2.h5\n",
      "Loading H:/springboard/other_data/yelp/models/vgg16_dropout1_0-2_3.h5\n",
      "Evaluating H:/springboard/other_data/yelp/models/vgg16_dropout1_0-2_3.h5\n",
      "Loading H:/springboard/other_data/yelp/models/vgg16_dropout1_0-3_1.h5\n",
      "Evaluating H:/springboard/other_data/yelp/models/vgg16_dropout1_0-3_1.h5\n",
      "Loading H:/springboard/other_data/yelp/models/vgg16_dropout1_0-3_2.h5\n",
      "Evaluating H:/springboard/other_data/yelp/models/vgg16_dropout1_0-3_2.h5\n",
      "Loading H:/springboard/other_data/yelp/models/vgg16_dropout1_0-3_3.h5\n",
      "Evaluating H:/springboard/other_data/yelp/models/vgg16_dropout1_0-3_3.h5\n",
      "Loading H:/springboard/other_data/yelp/models/vgg16_dropout1_0-4_1.h5\n",
      "Evaluating H:/springboard/other_data/yelp/models/vgg16_dropout1_0-4_1.h5\n",
      "Loading H:/springboard/other_data/yelp/models/vgg16_dropout1_0-4_2.h5\n",
      "Evaluating H:/springboard/other_data/yelp/models/vgg16_dropout1_0-4_2.h5\n",
      "Loading H:/springboard/other_data/yelp/models/vgg16_dropout1_0-4_3.h5\n",
      "Evaluating H:/springboard/other_data/yelp/models/vgg16_dropout1_0-4_3.h5\n",
      "Saving evaluation to evals/d1_comparison.json\n",
      "Evaluation complete.\n",
      "\n"
     ]
    },
    {
     "data": {
      "text/plain": [
       "179"
      ]
     },
     "execution_count": 12,
     "metadata": {},
     "output_type": "execute_result"
    }
   ],
   "source": [
    "# evaluate dropout1 conditions\n",
    "d1s = np.array([0, 0.1, 0.2, 0.3, 0.4])\n",
    "replicates = 3\n",
    "\n",
    "model_paths = dict()\n",
    "dir_path = 'H:/springboard/other_data/yelp/models'\n",
    "\n",
    "for d1 in d1s:\n",
    "    condition = 'dropout1_{}'.format(str(d1).replace('.', '-'))\n",
    "    \n",
    "    # add key-value pairs to model_paths\n",
    "    for i in range(1, replicates+1):\n",
    "        key = condition + ' - ' + str(i)\n",
    "        value = '{}/vgg16_{}_{}.h5'.format(dir_path, condition, str(i))\n",
    "        model_paths[key] = value\n",
    "        \n",
    "valid_path = 'downsampled/val'\n",
    "save_path = 'evals/d1_comparison.json'\n",
    "model_metrics = c2t.eval_models(model_paths, valid_path, save_path=save_path)\n",
    "\n",
    "gc.collect()"
   ]
  },
  {
   "cell_type": "code",
   "execution_count": 4,
   "metadata": {},
   "outputs": [
    {
     "data": {
      "text/html": [
       "<div>\n",
       "<style scoped>\n",
       "    .dataframe tbody tr th:only-of-type {\n",
       "        vertical-align: middle;\n",
       "    }\n",
       "\n",
       "    .dataframe tbody tr th {\n",
       "        vertical-align: top;\n",
       "    }\n",
       "\n",
       "    .dataframe thead th {\n",
       "        text-align: right;\n",
       "    }\n",
       "</style>\n",
       "<table border=\"1\" class=\"dataframe\">\n",
       "  <thead>\n",
       "    <tr style=\"text-align: right;\">\n",
       "      <th></th>\n",
       "      <th>acc</th>\n",
       "      <th>loss</th>\n",
       "      <th>mpcr</th>\n",
       "      <th>macro_f1</th>\n",
       "      <th>macro_auc</th>\n",
       "      <th>replicate</th>\n",
       "    </tr>\n",
       "    <tr>\n",
       "      <th>Dropout 1</th>\n",
       "      <th></th>\n",
       "      <th></th>\n",
       "      <th></th>\n",
       "      <th></th>\n",
       "      <th></th>\n",
       "      <th></th>\n",
       "    </tr>\n",
       "  </thead>\n",
       "  <tbody>\n",
       "    <tr>\n",
       "      <th>0.0</th>\n",
       "      <td>0.887</td>\n",
       "      <td>0.302</td>\n",
       "      <td>0.887</td>\n",
       "      <td>0.886</td>\n",
       "      <td>0.986</td>\n",
       "      <td>2.0</td>\n",
       "    </tr>\n",
       "    <tr>\n",
       "      <th>0.1</th>\n",
       "      <td>0.885</td>\n",
       "      <td>0.320</td>\n",
       "      <td>0.885</td>\n",
       "      <td>0.885</td>\n",
       "      <td>0.985</td>\n",
       "      <td>2.0</td>\n",
       "    </tr>\n",
       "    <tr>\n",
       "      <th>0.2</th>\n",
       "      <td>0.868</td>\n",
       "      <td>0.349</td>\n",
       "      <td>0.868</td>\n",
       "      <td>0.867</td>\n",
       "      <td>0.982</td>\n",
       "      <td>2.0</td>\n",
       "    </tr>\n",
       "    <tr>\n",
       "      <th>0.3</th>\n",
       "      <td>0.848</td>\n",
       "      <td>0.382</td>\n",
       "      <td>0.848</td>\n",
       "      <td>0.847</td>\n",
       "      <td>0.979</td>\n",
       "      <td>2.0</td>\n",
       "    </tr>\n",
       "    <tr>\n",
       "      <th>0.4</th>\n",
       "      <td>0.863</td>\n",
       "      <td>0.372</td>\n",
       "      <td>0.863</td>\n",
       "      <td>0.862</td>\n",
       "      <td>0.979</td>\n",
       "      <td>2.0</td>\n",
       "    </tr>\n",
       "  </tbody>\n",
       "</table>\n",
       "</div>"
      ],
      "text/plain": [
       "             acc   loss   mpcr  macro_f1  macro_auc  replicate\n",
       "Dropout 1                                                     \n",
       "0.0        0.887  0.302  0.887     0.886      0.986        2.0\n",
       "0.1        0.885  0.320  0.885     0.885      0.985        2.0\n",
       "0.2        0.868  0.349  0.868     0.867      0.982        2.0\n",
       "0.3        0.848  0.382  0.848     0.847      0.979        2.0\n",
       "0.4        0.863  0.372  0.863     0.862      0.979        2.0"
      ]
     },
     "execution_count": 4,
     "metadata": {},
     "output_type": "execute_result"
    }
   ],
   "source": [
    "# save dropout1 comparison table\n",
    "with open('evals/d1_comparison.json', 'r') as f:\n",
    "    model_metrics = json.load(f)\n",
    "\n",
    "table = c2t.eval_table(model_metrics, 'Dropout 1')\n",
    "table.to_csv('figures/d1_comparison_table.csv')\n",
    "table"
   ]
  },
  {
   "cell_type": "code",
   "execution_count": 13,
   "metadata": {
    "scrolled": true
   },
   "outputs": [
    {
     "name": "stdout",
     "output_type": "stream",
     "text": [
      "Building image generator...\n",
      "Found 525 images belonging to 5 classes.\n",
      "Loading H:/springboard/other_data/yelp/models/vgg16_dropout2_0-0_1.h5\n",
      "Evaluating H:/springboard/other_data/yelp/models/vgg16_dropout2_0-0_1.h5\n",
      "Loading H:/springboard/other_data/yelp/models/vgg16_dropout2_0-0_2.h5\n",
      "Evaluating H:/springboard/other_data/yelp/models/vgg16_dropout2_0-0_2.h5\n",
      "Loading H:/springboard/other_data/yelp/models/vgg16_dropout2_0-0_3.h5\n",
      "Evaluating H:/springboard/other_data/yelp/models/vgg16_dropout2_0-0_3.h5\n",
      "Loading H:/springboard/other_data/yelp/models/vgg16_dropout2_0-1_1.h5\n",
      "Evaluating H:/springboard/other_data/yelp/models/vgg16_dropout2_0-1_1.h5\n",
      "Loading H:/springboard/other_data/yelp/models/vgg16_dropout2_0-1_2.h5\n",
      "Evaluating H:/springboard/other_data/yelp/models/vgg16_dropout2_0-1_2.h5\n",
      "Loading H:/springboard/other_data/yelp/models/vgg16_dropout2_0-1_3.h5\n",
      "Evaluating H:/springboard/other_data/yelp/models/vgg16_dropout2_0-1_3.h5\n",
      "Loading H:/springboard/other_data/yelp/models/vgg16_dropout2_0-2_1.h5\n",
      "Evaluating H:/springboard/other_data/yelp/models/vgg16_dropout2_0-2_1.h5\n",
      "Loading H:/springboard/other_data/yelp/models/vgg16_dropout2_0-2_2.h5\n",
      "Evaluating H:/springboard/other_data/yelp/models/vgg16_dropout2_0-2_2.h5\n",
      "Loading H:/springboard/other_data/yelp/models/vgg16_dropout2_0-2_3.h5\n",
      "Evaluating H:/springboard/other_data/yelp/models/vgg16_dropout2_0-2_3.h5\n",
      "Loading H:/springboard/other_data/yelp/models/vgg16_dropout2_0-3_1.h5\n",
      "Evaluating H:/springboard/other_data/yelp/models/vgg16_dropout2_0-3_1.h5\n",
      "Loading H:/springboard/other_data/yelp/models/vgg16_dropout2_0-3_2.h5\n",
      "Evaluating H:/springboard/other_data/yelp/models/vgg16_dropout2_0-3_2.h5\n",
      "Loading H:/springboard/other_data/yelp/models/vgg16_dropout2_0-3_3.h5\n",
      "Evaluating H:/springboard/other_data/yelp/models/vgg16_dropout2_0-3_3.h5\n",
      "Loading H:/springboard/other_data/yelp/models/vgg16_dropout2_0-4_1.h5\n",
      "Evaluating H:/springboard/other_data/yelp/models/vgg16_dropout2_0-4_1.h5\n",
      "Loading H:/springboard/other_data/yelp/models/vgg16_dropout2_0-4_2.h5\n",
      "Evaluating H:/springboard/other_data/yelp/models/vgg16_dropout2_0-4_2.h5\n",
      "Loading H:/springboard/other_data/yelp/models/vgg16_dropout2_0-4_3.h5\n",
      "Evaluating H:/springboard/other_data/yelp/models/vgg16_dropout2_0-4_3.h5\n",
      "Saving evaluation to evals/d2_comparison.json\n",
      "Evaluation complete.\n",
      "\n"
     ]
    },
    {
     "data": {
      "text/plain": [
       "179"
      ]
     },
     "execution_count": 13,
     "metadata": {},
     "output_type": "execute_result"
    }
   ],
   "source": [
    "# evaluate dropout2 conditions\n",
    "d2s = np.array([0, 0.1, 0.2, 0.3, 0.4])\n",
    "replicates = 3\n",
    "\n",
    "model_paths = dict()\n",
    "dir_path = 'H:/springboard/other_data/yelp/models'\n",
    "\n",
    "for d2 in d2s:\n",
    "    condition = 'dropout2_{}'.format(str(d2).replace('.', '-'))\n",
    "    \n",
    "    # add key-value pairs to model_paths\n",
    "    for i in range(1, replicates+1):\n",
    "        key = condition + ' - ' + str(i)\n",
    "        value = '{}/vgg16_{}_{}.h5'.format(dir_path, condition, str(i))\n",
    "        model_paths[key] = value\n",
    "        \n",
    "valid_path = 'downsampled/val'\n",
    "save_path = 'evals/d2_comparison.json'\n",
    "model_metrics = c2t.eval_models(model_paths, valid_path, save_path=save_path)\n",
    "\n",
    "gc.collect()"
   ]
  },
  {
   "cell_type": "code",
   "execution_count": 7,
   "metadata": {},
   "outputs": [
    {
     "data": {
      "text/html": [
       "<div>\n",
       "<style scoped>\n",
       "    .dataframe tbody tr th:only-of-type {\n",
       "        vertical-align: middle;\n",
       "    }\n",
       "\n",
       "    .dataframe tbody tr th {\n",
       "        vertical-align: top;\n",
       "    }\n",
       "\n",
       "    .dataframe thead th {\n",
       "        text-align: right;\n",
       "    }\n",
       "</style>\n",
       "<table border=\"1\" class=\"dataframe\">\n",
       "  <thead>\n",
       "    <tr style=\"text-align: right;\">\n",
       "      <th></th>\n",
       "      <th>acc</th>\n",
       "      <th>loss</th>\n",
       "      <th>mpcr</th>\n",
       "      <th>macro_f1</th>\n",
       "      <th>macro_auc</th>\n",
       "      <th>replicate</th>\n",
       "    </tr>\n",
       "    <tr>\n",
       "      <th>Dropout 2</th>\n",
       "      <th></th>\n",
       "      <th></th>\n",
       "      <th></th>\n",
       "      <th></th>\n",
       "      <th></th>\n",
       "      <th></th>\n",
       "    </tr>\n",
       "  </thead>\n",
       "  <tbody>\n",
       "    <tr>\n",
       "      <th>0.0</th>\n",
       "      <td>0.872</td>\n",
       "      <td>0.353</td>\n",
       "      <td>0.872</td>\n",
       "      <td>0.872</td>\n",
       "      <td>0.982</td>\n",
       "      <td>2.0</td>\n",
       "    </tr>\n",
       "    <tr>\n",
       "      <th>0.1</th>\n",
       "      <td>0.874</td>\n",
       "      <td>0.330</td>\n",
       "      <td>0.874</td>\n",
       "      <td>0.874</td>\n",
       "      <td>0.982</td>\n",
       "      <td>2.0</td>\n",
       "    </tr>\n",
       "    <tr>\n",
       "      <th>0.2</th>\n",
       "      <td>0.896</td>\n",
       "      <td>0.294</td>\n",
       "      <td>0.896</td>\n",
       "      <td>0.896</td>\n",
       "      <td>0.986</td>\n",
       "      <td>2.0</td>\n",
       "    </tr>\n",
       "    <tr>\n",
       "      <th>0.3</th>\n",
       "      <td>0.865</td>\n",
       "      <td>0.343</td>\n",
       "      <td>0.865</td>\n",
       "      <td>0.865</td>\n",
       "      <td>0.982</td>\n",
       "      <td>2.0</td>\n",
       "    </tr>\n",
       "    <tr>\n",
       "      <th>0.4</th>\n",
       "      <td>0.872</td>\n",
       "      <td>0.353</td>\n",
       "      <td>0.872</td>\n",
       "      <td>0.872</td>\n",
       "      <td>0.982</td>\n",
       "      <td>2.0</td>\n",
       "    </tr>\n",
       "  </tbody>\n",
       "</table>\n",
       "</div>"
      ],
      "text/plain": [
       "             acc   loss   mpcr  macro_f1  macro_auc  replicate\n",
       "Dropout 2                                                     \n",
       "0.0        0.872  0.353  0.872     0.872      0.982        2.0\n",
       "0.1        0.874  0.330  0.874     0.874      0.982        2.0\n",
       "0.2        0.896  0.294  0.896     0.896      0.986        2.0\n",
       "0.3        0.865  0.343  0.865     0.865      0.982        2.0\n",
       "0.4        0.872  0.353  0.872     0.872      0.982        2.0"
      ]
     },
     "execution_count": 7,
     "metadata": {},
     "output_type": "execute_result"
    }
   ],
   "source": [
    "# save dropout2 comparison table\n",
    "with open('evals/d2_comparison.json', 'r') as f:\n",
    "    model_metrics = json.load(f)\n",
    "\n",
    "table = c2t.eval_table(model_metrics, 'Dropout 2')\n",
    "table.to_csv('figures/d2_comparison_table.csv')\n",
    "table"
   ]
  },
  {
   "cell_type": "code",
   "execution_count": 14,
   "metadata": {},
   "outputs": [
    {
     "name": "stdout",
     "output_type": "stream",
     "text": [
      "Building image generator...\n",
      "Found 20000 images belonging to 5 classes.\n",
      "Loading models/downsample_model_1.h5\n",
      "Evaluating models/downsample_model_1.h5\n",
      "Loading models/full_set_model.h5\n",
      "Evaluating models/full_set_model.h5\n",
      "Loading models/full_set_model_balanced.h5\n",
      "Evaluating models/full_set_model_balanced.h5\n",
      "Loading models/combined_model.h5\n",
      "Evaluating models/combined_model.h5\n",
      "Loading models/hybrid_training_model.h5\n",
      "Evaluating models/hybrid_training_model.h5\n",
      "Loading models/hybrid_training_model_sqrt.h5\n",
      "Evaluating models/hybrid_training_model_sqrt.h5\n",
      "Saving evaluation to evals/class_imbalance.json\n",
      "Evaluation complete.\n",
      "\n"
     ]
    },
    {
     "data": {
      "text/plain": [
       "8"
      ]
     },
     "execution_count": 14,
     "metadata": {},
     "output_type": "execute_result"
    }
   ],
   "source": [
    "# evaluate different class imbalance approaches on full validation set\n",
    "model_paths = {'Downsampled': 'models/downsample_model_1.h5', \n",
    "               'Full-Unbalanced': 'models/full_set_model.h5', \n",
    "               'Full-Balanced': 'models/full_set_model_balanced.h5', \n",
    "               'Combined': 'models/combined_model.h5',\n",
    "               'Hybrid-Balanced': 'models/hybrid_training_model.h5', \n",
    "               'Hybrid-Root': 'models/hybrid_training_model_sqrt.h5'}\n",
    "\n",
    "valid_path = 'H:/springboard/other_data/yelp/Photos/final_photos/val'\n",
    "save_path = 'evals/class_imbalance.json'\n",
    "model_metrics = c2t.eval_models(model_paths, valid_path, save_path=save_path)\n",
    "\n",
    "gc.collect()"
   ]
  },
  {
   "cell_type": "code",
   "execution_count": 10,
   "metadata": {},
   "outputs": [
    {
     "data": {
      "text/html": [
       "<div>\n",
       "<style scoped>\n",
       "    .dataframe tbody tr th:only-of-type {\n",
       "        vertical-align: middle;\n",
       "    }\n",
       "\n",
       "    .dataframe tbody tr th {\n",
       "        vertical-align: top;\n",
       "    }\n",
       "\n",
       "    .dataframe thead th {\n",
       "        text-align: right;\n",
       "    }\n",
       "</style>\n",
       "<table border=\"1\" class=\"dataframe\">\n",
       "  <thead>\n",
       "    <tr style=\"text-align: right;\">\n",
       "      <th></th>\n",
       "      <th>Accuracy</th>\n",
       "      <th>MacR</th>\n",
       "      <th>MacF1</th>\n",
       "      <th>MacAUC</th>\n",
       "      <th>Drink</th>\n",
       "      <th>Food</th>\n",
       "      <th>Inside</th>\n",
       "      <th>Menu</th>\n",
       "      <th>Outside</th>\n",
       "    </tr>\n",
       "    <tr>\n",
       "      <th>Model</th>\n",
       "      <th></th>\n",
       "      <th></th>\n",
       "      <th></th>\n",
       "      <th></th>\n",
       "      <th></th>\n",
       "      <th></th>\n",
       "      <th></th>\n",
       "      <th></th>\n",
       "      <th></th>\n",
       "    </tr>\n",
       "  </thead>\n",
       "  <tbody>\n",
       "    <tr>\n",
       "      <th>Downsampled</th>\n",
       "      <td>88.945</td>\n",
       "      <td>0.892</td>\n",
       "      <td>0.747</td>\n",
       "      <td>0.986</td>\n",
       "      <td>0.594</td>\n",
       "      <td>0.954</td>\n",
       "      <td>0.846</td>\n",
       "      <td>0.595</td>\n",
       "      <td>0.746</td>\n",
       "    </tr>\n",
       "    <tr>\n",
       "      <th>Full-Unbalanced</th>\n",
       "      <td>93.100</td>\n",
       "      <td>0.678</td>\n",
       "      <td>0.721</td>\n",
       "      <td>0.986</td>\n",
       "      <td>0.607</td>\n",
       "      <td>0.983</td>\n",
       "      <td>0.879</td>\n",
       "      <td>0.346</td>\n",
       "      <td>0.790</td>\n",
       "    </tr>\n",
       "    <tr>\n",
       "      <th>Full-Balanced</th>\n",
       "      <td>85.975</td>\n",
       "      <td>0.841</td>\n",
       "      <td>0.688</td>\n",
       "      <td>0.976</td>\n",
       "      <td>0.468</td>\n",
       "      <td>0.942</td>\n",
       "      <td>0.824</td>\n",
       "      <td>0.523</td>\n",
       "      <td>0.682</td>\n",
       "    </tr>\n",
       "    <tr>\n",
       "      <th>Combined</th>\n",
       "      <td>90.430</td>\n",
       "      <td>0.904</td>\n",
       "      <td>0.759</td>\n",
       "      <td>0.990</td>\n",
       "      <td>0.641</td>\n",
       "      <td>0.963</td>\n",
       "      <td>0.860</td>\n",
       "      <td>0.552</td>\n",
       "      <td>0.781</td>\n",
       "    </tr>\n",
       "    <tr>\n",
       "      <th>Hybrid-Balanced</th>\n",
       "      <td>90.240</td>\n",
       "      <td>0.902</td>\n",
       "      <td>0.772</td>\n",
       "      <td>0.989</td>\n",
       "      <td>0.649</td>\n",
       "      <td>0.960</td>\n",
       "      <td>0.859</td>\n",
       "      <td>0.628</td>\n",
       "      <td>0.764</td>\n",
       "    </tr>\n",
       "    <tr>\n",
       "      <th>Hybrid-Root</th>\n",
       "      <td>93.610</td>\n",
       "      <td>0.901</td>\n",
       "      <td>0.855</td>\n",
       "      <td>0.991</td>\n",
       "      <td>0.773</td>\n",
       "      <td>0.979</td>\n",
       "      <td>0.888</td>\n",
       "      <td>0.824</td>\n",
       "      <td>0.811</td>\n",
       "    </tr>\n",
       "  </tbody>\n",
       "</table>\n",
       "</div>"
      ],
      "text/plain": [
       "                 Accuracy   MacR  MacF1  MacAUC  Drink   Food  Inside   Menu  \\\n",
       "Model                                                                          \n",
       "Downsampled        88.945  0.892  0.747   0.986  0.594  0.954   0.846  0.595   \n",
       "Full-Unbalanced    93.100  0.678  0.721   0.986  0.607  0.983   0.879  0.346   \n",
       "Full-Balanced      85.975  0.841  0.688   0.976  0.468  0.942   0.824  0.523   \n",
       "Combined           90.430  0.904  0.759   0.990  0.641  0.963   0.860  0.552   \n",
       "Hybrid-Balanced    90.240  0.902  0.772   0.989  0.649  0.960   0.859  0.628   \n",
       "Hybrid-Root        93.610  0.901  0.855   0.991  0.773  0.979   0.888  0.824   \n",
       "\n",
       "                 Outside  \n",
       "Model                     \n",
       "Downsampled        0.746  \n",
       "Full-Unbalanced    0.790  \n",
       "Full-Balanced      0.682  \n",
       "Combined           0.781  \n",
       "Hybrid-Balanced    0.764  \n",
       "Hybrid-Root        0.811  "
      ]
     },
     "execution_count": 10,
     "metadata": {},
     "output_type": "execute_result"
    }
   ],
   "source": [
    "# save class imbalance approach comparison table\n",
    "with open('evals/class_imbalance.json', 'r') as f:\n",
    "    model_metrics = json.load(f)\n",
    "    \n",
    "table = c2t.comp_table(model_metrics)\n",
    "table.to_csv('figures/class_imbalance_comparison.csv')\n",
    "table"
   ]
  },
  {
   "cell_type": "code",
   "execution_count": 17,
   "metadata": {
    "scrolled": true
   },
   "outputs": [
    {
     "data": {
      "image/png": "[encoded data removed]",
      "text/plain": [
       "<Figure size 432x432 with 1 Axes>"
      ]
     },
     "metadata": {},
     "output_type": "display_data"
    },
    {
     "data": {
      "image/png": "[encoded data removed]",
      "text/plain": [
       "<Figure size 432x432 with 1 Axes>"
      ]
     },
     "metadata": {},
     "output_type": "display_data"
    },
    {
     "data": {
      "image/png": "[encoded data removed]",
      "text/plain": [
       "<Figure size 432x432 with 1 Axes>"
      ]
     },
     "metadata": {},
     "output_type": "display_data"
    },
    {
     "data": {
      "image/png": "[encoded data removed]",
      "text/plain": [
       "<Figure size 432x432 with 1 Axes>"
      ]
     },
     "metadata": {},
     "output_type": "display_data"
    },
    {
     "data": {
      "image/png": "[encoded data removed]",
      "text/plain": [
       "<Figure size 432x432 with 1 Axes>"
      ]
     },
     "metadata": {},
     "output_type": "display_data"
    },
    {
     "data": {
      "image/png": "[encoded data removed]",
      "text/plain": [
       "<Figure size 432x432 with 1 Axes>"
      ]
     },
     "metadata": {},
     "output_type": "display_data"
    }
   ],
   "source": [
    "# formatted confusion matrix for each model\n",
    "for model, metrics in model_metrics.items():\n",
    "    # compute normalized confusion matrix\n",
    "    cm = np.array(metrics['cm'])\n",
    "    cm = cm/cm.sum(axis=1, keepdims=True) # normalize to class count\n",
    "    cm = np.round(cm, 3)\n",
    "    \n",
    "    # plot confusion matrix\n",
    "    fig, ax = plt.subplots(figsize=(6,6))\n",
    "    sns.heatmap(data=cm, cmap='YlOrRd', annot=True, cbar=False, \n",
    "                annot_kws={\"size\": 13})\n",
    "    plt.suptitle('Confusion matrix: {}'.format(model), y=0.95, fontsize=16)\n",
    "    plt.xlabel('Predicted class')\n",
    "    plt.ylabel('True class')\n",
    "    \n",
    "    # decode class labels\n",
    "    tick_labels = ['drink', 'food', 'inside', 'menu', 'outside']\n",
    "    ax.set_xticklabels(tick_labels, ha='center')\n",
    "    ax.set_yticklabels(tick_labels, va='center')\n",
    "    \n",
    "    # format axes\n",
    "    ax.xaxis.set_ticks_position('top')\n",
    "    ax.xaxis.set_label_position('top')\n",
    "    ax.title.set_fontsize(16)\n",
    "    ax.xaxis.label.set_fontsize(14)\n",
    "    ax.yaxis.label.set_fontsize(14)\n",
    "    for item in (ax.get_xticklabels() + ax.get_yticklabels()):\n",
    "        item.set_fontsize(13)\n",
    "    \n",
    "    plt.tight_layout()\n",
    "    plt.subplots_adjust(top=0.8)\n",
    "    \n",
    "    \n",
    "    plt.savefig('figures/val_cm_{}_model.png'.format(model.lower()))\n",
    "    plt.show()"
   ]
  },
  {
   "cell_type": "code",
   "execution_count": 32,
   "metadata": {},
   "outputs": [
    {
     "name": "stdout",
     "output_type": "stream",
     "text": [
      "Building image generator...\n",
      "Found 30000 images belonging to 5 classes.\n",
      "Loading models/hybrid_training_model_sqrt.h5\n",
      "Evaluating models/hybrid_training_model_sqrt.h5\n",
      "Saving evaluation to evals/hybrid_root_on_test.json\n",
      "Evaluation complete.\n",
      "\n"
     ]
    }
   ],
   "source": [
    "# evaluate hybrid-root on the test set\n",
    "model_paths = {'Hybrid-Root': 'models/hybrid_training_model_sqrt.h5'}\n",
    "test_path = 'H:/springboard/other_data/yelp/Photos/final_photos/test'\n",
    "save_path = 'evals/hybrid_root_on_test.json'\n",
    "model_metrics = c2t.eval_models(model_paths, test_path, save_path=save_path)"
   ]
  },
  {
   "cell_type": "code",
   "execution_count": 2,
   "metadata": {},
   "outputs": [
    {
     "name": "stdout",
     "output_type": "stream",
     "text": [
      "accuracy:  93.43%\n",
      "loss:  0.1851\n",
      "recalls:  [0.8131 0.9712 0.8782 0.9669 0.8445]\n",
      "macro recall:  89.48%\n",
      "f1s:  [0.7738 0.9792 0.8894 0.8089 0.7931]\n",
      "macro f1:  0.8489\n",
      "aucs:  [0.9865 0.9965 0.987  0.9996 0.9836]\n",
      "macro auc:  0.9906\n",
      "confusion matrix: \n"
     ]
    },
    {
     "data": {
      "text/plain": [
       "[[905, 106, 72, 2, 28],\n",
       " [243, 19061, 226, 27, 69],\n",
       " [72, 125, 5860, 21, 595],\n",
       " [0, 2, 0, 146, 3],\n",
       " [6, 13, 346, 14, 2058]]"
      ]
     },
     "execution_count": 2,
     "metadata": {},
     "output_type": "execute_result"
    }
   ],
   "source": [
    "# save class imbalance approach comparison table\n",
    "with open('evals/hybrid_root_on_test.json', 'r') as f:\n",
    "    model_metrics = json.load(f)\n",
    "    \n",
    "c2t.print_eval(model_metrics['Hybrid-Root'])    "
   ]
  },
  {
   "cell_type": "code",
   "execution_count": 14,
   "metadata": {},
   "outputs": [
    {
     "data": {
      "text/html": [
       "<div>\n",
       "<style scoped>\n",
       "    .dataframe tbody tr th:only-of-type {\n",
       "        vertical-align: middle;\n",
       "    }\n",
       "\n",
       "    .dataframe tbody tr th {\n",
       "        vertical-align: top;\n",
       "    }\n",
       "\n",
       "    .dataframe thead th {\n",
       "        text-align: right;\n",
       "    }\n",
       "</style>\n",
       "<table border=\"1\" class=\"dataframe\">\n",
       "  <thead>\n",
       "    <tr style=\"text-align: right;\">\n",
       "      <th></th>\n",
       "      <th>Accuracy</th>\n",
       "      <th>MacR</th>\n",
       "      <th>MacF1</th>\n",
       "      <th>MacAUC</th>\n",
       "      <th>Drink</th>\n",
       "      <th>Food</th>\n",
       "      <th>Inside</th>\n",
       "      <th>Menu</th>\n",
       "      <th>Outside</th>\n",
       "    </tr>\n",
       "    <tr>\n",
       "      <th>Model</th>\n",
       "      <th></th>\n",
       "      <th></th>\n",
       "      <th></th>\n",
       "      <th></th>\n",
       "      <th></th>\n",
       "      <th></th>\n",
       "      <th></th>\n",
       "      <th></th>\n",
       "      <th></th>\n",
       "    </tr>\n",
       "  </thead>\n",
       "  <tbody>\n",
       "    <tr>\n",
       "      <th>Hybrid-Root</th>\n",
       "      <td>93.433</td>\n",
       "      <td>0.895</td>\n",
       "      <td>0.849</td>\n",
       "      <td>0.991</td>\n",
       "      <td>0.774</td>\n",
       "      <td>0.979</td>\n",
       "      <td>0.889</td>\n",
       "      <td>0.809</td>\n",
       "      <td>0.793</td>\n",
       "    </tr>\n",
       "  </tbody>\n",
       "</table>\n",
       "</div>"
      ],
      "text/plain": [
       "             Accuracy   MacR  MacF1  MacAUC  Drink   Food  Inside   Menu  \\\n",
       "Model                                                                      \n",
       "Hybrid-Root    93.433  0.895  0.849   0.991  0.774  0.979   0.889  0.809   \n",
       "\n",
       "             Outside  \n",
       "Model                 \n",
       "Hybrid-Root    0.793  "
      ]
     },
     "execution_count": 14,
     "metadata": {},
     "output_type": "execute_result"
    }
   ],
   "source": [
    "table = c2t.comp_table(model_metrics)\n",
    "table.to_csv('figures/hybrid-root_test_performance.csv')\n",
    "table"
   ]
  },
  {
   "cell_type": "code",
   "execution_count": 10,
   "metadata": {},
   "outputs": [
    {
     "data": {
      "image/png": "[encoded data removed]",
      "text/plain": [
       "<Figure size 432x432 with 1 Axes>"
      ]
     },
     "metadata": {},
     "output_type": "display_data"
    }
   ],
   "source": [
    "# formatted confusion matrix for each model\n",
    "for model, metrics in model_metrics.items():\n",
    "    # compute normalized confusion matrix\n",
    "    cm = np.array(metrics['cm'])\n",
    "    cm = cm/cm.sum(axis=1, keepdims=True) # normalize to class count\n",
    "    cm = np.round(cm, 3)\n",
    "    \n",
    "    # plot confusion matrix\n",
    "    fig, ax = plt.subplots(figsize=(6,6))\n",
    "    sns.heatmap(data=cm, cmap='YlOrRd', annot=True, cbar=False, \n",
    "                annot_kws={\"size\": 13})\n",
    "    plt.suptitle('Confusion matrix: {}'.format(model), y=0.95, fontsize=16)\n",
    "    plt.xlabel('Predicted class')\n",
    "    plt.ylabel('True class')\n",
    "    \n",
    "    # decode class labels\n",
    "    tick_labels = ['drink', 'food', 'inside', 'menu', 'outside']\n",
    "    ax.set_xticklabels(tick_labels, ha='center')\n",
    "    ax.set_yticklabels(tick_labels, va='center')\n",
    "    \n",
    "    # format axes\n",
    "    ax.xaxis.set_ticks_position('top')\n",
    "    ax.xaxis.set_label_position('top')\n",
    "    ax.title.set_fontsize(16)\n",
    "    ax.xaxis.label.set_fontsize(14)\n",
    "    ax.yaxis.label.set_fontsize(14)\n",
    "    for item in (ax.get_xticklabels() + ax.get_yticklabels()):\n",
    "        item.set_fontsize(13)\n",
    "    \n",
    "    plt.tight_layout()\n",
    "    plt.subplots_adjust(top=0.8)\n",
    "    \n",
    "    \n",
    "    plt.savefig('figures/test_cm_{}_model.png'.format(model.lower()))\n",
    "    plt.show()"
   ]
  },
  {
   "cell_type": "code",
   "execution_count": 11,
   "metadata": {},
   "outputs": [
    {
     "data": {
      "image/png": "[encoded data removed]",
      "text/plain": [
       "<Figure size 432x432 with 1 Axes>"
      ]
     },
     "metadata": {},
     "output_type": "display_data"
    }
   ],
   "source": [
    "# formatted confusion matrix for each model\n",
    "for model, metrics in model_metrics.items():\n",
    "    # compute normalized confusion matrix\n",
    "    cm = np.array(metrics['cm'])\n",
    "    \n",
    "    # plot confusion matrix\n",
    "    fig, ax = plt.subplots(figsize=(6,6))\n",
    "    sns.heatmap(data=cm, cmap='Blues', annot=True, cbar=False, fmt='g',\n",
    "                annot_kws={\"size\": 13})\n",
    "    plt.suptitle('Confusion matrix: {}'.format(model), y=0.95, fontsize=16)\n",
    "    plt.xlabel('Predicted class')\n",
    "    plt.ylabel('True class')\n",
    "    \n",
    "    # decode class labels\n",
    "    tick_labels = ['drink', 'food', 'inside', 'menu', 'outside']\n",
    "    ax.set_xticklabels(tick_labels, ha='center')\n",
    "    ax.set_yticklabels(tick_labels, va='center')\n",
    "    \n",
    "    # format axes\n",
    "    ax.xaxis.set_ticks_position('top')\n",
    "    ax.xaxis.set_label_position('top')\n",
    "    ax.title.set_fontsize(16)\n",
    "    ax.xaxis.label.set_fontsize(14)\n",
    "    ax.yaxis.label.set_fontsize(14)\n",
    "    for item in (ax.get_xticklabels() + ax.get_yticklabels()):\n",
    "        item.set_fontsize(13)\n",
    "    \n",
    "    plt.tight_layout()\n",
    "    plt.subplots_adjust(top=0.8)\n",
    "    \n",
    "    \n",
    "    plt.savefig('figures/test_cm_{}_model_raw.png'.format(model.lower()))\n",
    "    plt.show()"
   ]
  },
  {
   "cell_type": "code",
   "execution_count": 22,
   "metadata": {},
   "outputs": [
    {
     "data": {
      "text/html": [
       "<div>\n",
       "<style scoped>\n",
       "    .dataframe tbody tr th:only-of-type {\n",
       "        vertical-align: middle;\n",
       "    }\n",
       "\n",
       "    .dataframe tbody tr th {\n",
       "        vertical-align: top;\n",
       "    }\n",
       "\n",
       "    .dataframe thead th {\n",
       "        text-align: right;\n",
       "    }\n",
       "</style>\n",
       "<table border=\"1\" class=\"dataframe\">\n",
       "  <thead>\n",
       "    <tr style=\"text-align: right;\">\n",
       "      <th></th>\n",
       "      <th>drink</th>\n",
       "      <th>food</th>\n",
       "      <th>inside</th>\n",
       "      <th>menu</th>\n",
       "      <th>outside</th>\n",
       "    </tr>\n",
       "  </thead>\n",
       "  <tbody>\n",
       "    <tr>\n",
       "      <th>drink</th>\n",
       "      <td>905</td>\n",
       "      <td>106</td>\n",
       "      <td>72</td>\n",
       "      <td>2</td>\n",
       "      <td>28</td>\n",
       "    </tr>\n",
       "    <tr>\n",
       "      <th>food</th>\n",
       "      <td>243</td>\n",
       "      <td>19061</td>\n",
       "      <td>226</td>\n",
       "      <td>27</td>\n",
       "      <td>69</td>\n",
       "    </tr>\n",
       "    <tr>\n",
       "      <th>inside</th>\n",
       "      <td>72</td>\n",
       "      <td>125</td>\n",
       "      <td>5860</td>\n",
       "      <td>21</td>\n",
       "      <td>595</td>\n",
       "    </tr>\n",
       "    <tr>\n",
       "      <th>menu</th>\n",
       "      <td>0</td>\n",
       "      <td>2</td>\n",
       "      <td>0</td>\n",
       "      <td>146</td>\n",
       "      <td>3</td>\n",
       "    </tr>\n",
       "    <tr>\n",
       "      <th>outside</th>\n",
       "      <td>6</td>\n",
       "      <td>13</td>\n",
       "      <td>346</td>\n",
       "      <td>14</td>\n",
       "      <td>2058</td>\n",
       "    </tr>\n",
       "  </tbody>\n",
       "</table>\n",
       "</div>"
      ],
      "text/plain": [
       "         drink   food  inside  menu  outside\n",
       "drink      905    106      72     2       28\n",
       "food       243  19061     226    27       69\n",
       "inside      72    125    5860    21      595\n",
       "menu         0      2       0   146        3\n",
       "outside      6     13     346    14     2058"
      ]
     },
     "execution_count": 22,
     "metadata": {},
     "output_type": "execute_result"
    }
   ],
   "source": [
    "# combine inside and outside to get projected 4-class performance\n",
    "cm_setting = pd.DataFrame(model_metrics['Hybrid-Root']['cm'])\n",
    "classes = ['drink', 'food', 'inside', 'menu', 'outside']\n",
    "cm_setting.columns = classes\n",
    "cm_setting.index = classes\n",
    "cm_setting"
   ]
  },
  {
   "cell_type": "code",
   "execution_count": 23,
   "metadata": {},
   "outputs": [
    {
     "data": {
      "text/html": [
       "<div>\n",
       "<style scoped>\n",
       "    .dataframe tbody tr th:only-of-type {\n",
       "        vertical-align: middle;\n",
       "    }\n",
       "\n",
       "    .dataframe tbody tr th {\n",
       "        vertical-align: top;\n",
       "    }\n",
       "\n",
       "    .dataframe thead th {\n",
       "        text-align: right;\n",
       "    }\n",
       "</style>\n",
       "<table border=\"1\" class=\"dataframe\">\n",
       "  <thead>\n",
       "    <tr style=\"text-align: right;\">\n",
       "      <th></th>\n",
       "      <th>drink</th>\n",
       "      <th>food</th>\n",
       "      <th>menu</th>\n",
       "      <th>setting</th>\n",
       "    </tr>\n",
       "  </thead>\n",
       "  <tbody>\n",
       "    <tr>\n",
       "      <th>drink</th>\n",
       "      <td>905</td>\n",
       "      <td>106</td>\n",
       "      <td>2</td>\n",
       "      <td>100</td>\n",
       "    </tr>\n",
       "    <tr>\n",
       "      <th>food</th>\n",
       "      <td>243</td>\n",
       "      <td>19061</td>\n",
       "      <td>27</td>\n",
       "      <td>295</td>\n",
       "    </tr>\n",
       "    <tr>\n",
       "      <th>menu</th>\n",
       "      <td>0</td>\n",
       "      <td>2</td>\n",
       "      <td>146</td>\n",
       "      <td>3</td>\n",
       "    </tr>\n",
       "    <tr>\n",
       "      <th>setting</th>\n",
       "      <td>78</td>\n",
       "      <td>138</td>\n",
       "      <td>35</td>\n",
       "      <td>8859</td>\n",
       "    </tr>\n",
       "  </tbody>\n",
       "</table>\n",
       "</div>"
      ],
      "text/plain": [
       "         drink   food  menu  setting\n",
       "drink      905    106     2      100\n",
       "food       243  19061    27      295\n",
       "menu         0      2   146        3\n",
       "setting     78    138    35     8859"
      ]
     },
     "execution_count": 23,
     "metadata": {},
     "output_type": "execute_result"
    }
   ],
   "source": [
    "# combine columns\n",
    "cm_setting['setting'] = cm_setting.inside + cm_setting.outside\n",
    "cm_setting.drop(['inside', 'outside'], inplace=True, axis=1)\n",
    "\n",
    "#combine rows\n",
    "cm_setting = cm_setting.transpose()\n",
    "cm_setting['setting'] = cm_setting.inside + cm_setting.outside\n",
    "cm_setting.drop(['inside', 'outside'], inplace=True, axis=1)\n",
    "cm_setting = cm_setting.transpose()\n",
    "\n",
    "cm_setting"
   ]
  },
  {
   "cell_type": "code",
   "execution_count": 26,
   "metadata": {},
   "outputs": [
    {
     "name": "stdout",
     "output_type": "stream",
     "text": [
      "accuracy:  0.9657\n",
      "MacR:  0.930916158657111\n"
     ]
    }
   ],
   "source": [
    "cm_np = cm_setting.values\n",
    "print('accuracy: ', cm_np.diagonal().sum()/cm_np.sum())\n",
    "print('MacR: ', (cm_np.diagonal()/cm_np.sum(axis=1)).mean())"
   ]
  },
  {
   "cell_type": "code",
   "execution_count": 28,
   "metadata": {},
   "outputs": [
    {
     "data": {
      "image/png": "[encoded data removed]",
      "text/plain": [
       "<Figure size 432x432 with 1 Axes>"
      ]
     },
     "metadata": {},
     "output_type": "display_data"
    }
   ],
   "source": [
    "# compute normalized confusion matrix\n",
    "cm = cm_np\n",
    "\n",
    "# plot confusion matrix\n",
    "fig, ax = plt.subplots(figsize=(6,6))\n",
    "sns.heatmap(data=cm, cmap='Blues', annot=True, cbar=False, fmt='g',\n",
    "            annot_kws={\"size\": 13})\n",
    "plt.suptitle('Confusion matrix: {}'.format(model), y=0.95, fontsize=16)\n",
    "plt.xlabel('Predicted class')\n",
    "plt.ylabel('True class')\n",
    "\n",
    "# decode class labels\n",
    "tick_labels = ['drink', 'food', 'menu', 'setting']\n",
    "ax.set_xticklabels(tick_labels, ha='center')\n",
    "ax.set_yticklabels(tick_labels, va='center')\n",
    "\n",
    "# format axes\n",
    "ax.xaxis.set_ticks_position('top')\n",
    "ax.xaxis.set_label_position('top')\n",
    "ax.title.set_fontsize(16)\n",
    "ax.xaxis.label.set_fontsize(14)\n",
    "ax.yaxis.label.set_fontsize(14)\n",
    "for item in (ax.get_xticklabels() + ax.get_yticklabels()):\n",
    "    item.set_fontsize(13)\n",
    "\n",
    "plt.tight_layout()\n",
    "plt.subplots_adjust(top=0.8)\n",
    "\n",
    "plt.savefig('figures/test_cm_{}_model_raw_setting.png'.format(model.lower()))\n",
    "plt.show()"
   ]
  },
  {
   "cell_type": "code",
   "execution_count": null,
   "metadata": {},
   "outputs": [],
   "source": []
  }
 ],
 "metadata": {
  "kernelspec": {
   "display_name": "Python 3",
   "language": "python",
   "name": "python3"
  },
  "language_info": {
   "codemirror_mode": {
    "name": "ipython",
    "version": 3
   },
   "file_extension": ".py",
   "mimetype": "text/x-python",
   "name": "python",
   "nbconvert_exporter": "python",
   "pygments_lexer": "ipython3",
   "version": "3.6.6"
  }
 },
 "nbformat": 4,
 "nbformat_minor": 2
}
