{
 "cells": [
  {
   "cell_type": "markdown",
   "metadata": {},
   "source": [
    "### Moving image files\n",
    "\n",
    "Keras models expect image files to be separated into different directories based on their classification. Since all the Yelp dataset images start in one directory when downloaded, a script is needed to automatically sort them into the appropriate directories."
   ]
  },
  {
   "cell_type": "code",
   "execution_count": 1,
   "metadata": {},
   "outputs": [],
   "source": [
    "import shutil\n",
    "import pandas as pd"
   ]
  },
  {
   "cell_type": "code",
   "execution_count": 2,
   "metadata": {},
   "outputs": [],
   "source": [
    "# load photos label dataframe\n",
    "photos_sample = pd.read_csv('photo_labels_sample.csv', index_col=0)"
   ]
  },
  {
   "cell_type": "code",
   "execution_count": 3,
   "metadata": {},
   "outputs": [],
   "source": [
    "# copy sampled photos into new directories for training the model\n",
    "orig_dir = 'H:/springboard/other_data/yelp/Photos/yelp_academic_dataset_photos/'\n",
    "dest_dir = 'C:/Users/Nils/Documents/GitHub/Springboard-Capstone-2-local-yelp/sampled_photos/'\n",
    "\n",
    "for index, row in photos_sample.iterrows():\n",
    "    filepath = orig_dir + row['photo_id'] + '.jpg'\n",
    "    filedest = dest_dir + row['set'] + '/' + row['label']\n",
    "    _ = shutil.copy(filepath, filedest)"
   ]
  },
  {
   "cell_type": "code",
   "execution_count": 3,
   "metadata": {},
   "outputs": [
    {
     "name": "stdout",
     "output_type": "stream",
     "text": [
      "<class 'pandas.core.frame.DataFrame'>\n",
      "Int64Index: 10000 entries, 0 to 9999\n",
      "Data columns (total 3 columns):\n",
      "photo_id    10000 non-null object\n",
      "label       10000 non-null object\n",
      "set         10000 non-null object\n",
      "dtypes: object(3)\n",
      "memory usage: 312.5+ KB\n"
     ]
    }
   ],
   "source": [
    "photos_sample.info()"
   ]
  },
  {
   "cell_type": "code",
   "execution_count": null,
   "metadata": {},
   "outputs": [],
   "source": []
  }
 ],
 "metadata": {
  "kernelspec": {
   "display_name": "Python 3",
   "language": "python",
   "name": "python3"
  },
  "language_info": {
   "codemirror_mode": {
    "name": "ipython",
    "version": 3
   },
   "file_extension": ".py",
   "mimetype": "text/x-python",
   "name": "python",
   "nbconvert_exporter": "python",
   "pygments_lexer": "ipython3",
   "version": "3.6.6"
  }
 },
 "nbformat": 4,
 "nbformat_minor": 2
}
