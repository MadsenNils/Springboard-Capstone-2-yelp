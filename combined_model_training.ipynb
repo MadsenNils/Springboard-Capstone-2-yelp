{
 "cells": [
  {
   "cell_type": "code",
   "execution_count": 1,
   "metadata": {},
   "outputs": [
    {
     "name": "stderr",
     "output_type": "stream",
     "text": [
      "Using TensorFlow backend.\n"
     ]
    },
    {
     "data": {
      "text/plain": [
       "<module 'cap2tools' from 'C:\\\\Users\\\\Nils\\\\Documents\\\\GitHub\\\\Springboard-Capstone-2-local-yelp\\\\cap2tools.py'>"
      ]
     },
     "execution_count": 1,
     "metadata": {},
     "output_type": "execute_result"
    }
   ],
   "source": [
    "import pandas as pd\n",
    "import numpy as np\n",
    "import matplotlib.pyplot as plt\n",
    "import tensorflow as tf\n",
    "import keras.backend as K\n",
    "from keras.applications import VGG16\n",
    "from keras.models import load_model, Model\n",
    "from keras.layers import Dense, concatenate, Input, Flatten, Dropout\n",
    "from keras.optimizers import Adam\n",
    "from keras.callbacks import ModelCheckpoint, EarlyStopping\n",
    "from keras.preprocessing.image import ImageDataGenerator\n",
    "import importlib as imp\n",
    "\n",
    "# custom module for capstone 2\n",
    "import cap2tools as c2t\n",
    "imp.reload(c2t)"
   ]
  },
  {
   "cell_type": "code",
   "execution_count": 2,
   "metadata": {},
   "outputs": [],
   "source": [
    "K.clear_session()"
   ]
  },
  {
   "cell_type": "code",
   "execution_count": 3,
   "metadata": {},
   "outputs": [],
   "source": [
    "# configure GPU memory usage by tensorflow\n",
    "config = K.tf.ConfigProto()\n",
    "config.gpu_options.allow_growth = True\n",
    "config.gpu_options.per_process_gpu_memory_fraction = 0.90\n",
    "K.tensorflow_backend.set_session(K.tf.Session(config=config))"
   ]
  },
  {
   "cell_type": "code",
   "execution_count": 4,
   "metadata": {},
   "outputs": [
    {
     "name": "stdout",
     "output_type": "stream",
     "text": [
      "Found 5435 images belonging to 5 classes.\n",
      "Found 455 images belonging to 5 classes.\n"
     ]
    }
   ],
   "source": [
    "# define paths to image directories\n",
    "photos_path = 'C:/Users/Nils/Documents/GitHub/Springboard-Capstone-2-local-yelp/downsampled/'\n",
    "train_path = photos_path + 'train'\n",
    "valid_path = photos_path + 'val'\n",
    "\n",
    "# build image generators to feed CNN\n",
    "batch_size = 8\n",
    "target_size = (224, 224)\n",
    "shuffle = True\n",
    "shift = 0.2\n",
    "\n",
    "# training datagen includes real-time image augmentation\n",
    "train_datagen = ImageDataGenerator(horizontal_flip=True, \n",
    "                                   width_shift_range=shift, \n",
    "                                   height_shift_range=shift, \n",
    "                                   zoom_range=0.2, \n",
    "                                   fill_mode='reflect')\n",
    "\n",
    "train_batches = train_datagen.flow_from_directory(train_path, \n",
    "                                                  target_size=target_size, \n",
    "                                                  batch_size=batch_size, \n",
    "                                                  shuffle=shuffle)\n",
    "\n",
    "# validation set datagen\n",
    "valid_datagen = ImageDataGenerator()\n",
    "\n",
    "valid_batches = valid_datagen.flow_from_directory(valid_path, \n",
    "                                                  target_size=target_size, \n",
    "                                                  batch_size=batch_size, \n",
    "                                                  shuffle=shuffle)"
   ]
  },
  {
   "cell_type": "code",
   "execution_count": 5,
   "metadata": {},
   "outputs": [],
   "source": [
    "# save weights only for base models\n",
    "base_model_large = load_model('models/final_model.h5')\n",
    "base_model_large.save_weights('models/final_model_weights.h5')\n",
    "del base_model_large\n",
    "\n",
    "base_model_downsample = load_model('models/downsample_model2.h5')\n",
    "base_model_downsample.save_weights('models/downsample_model2_weights.h5')\n",
    "del base_model_downsample"
   ]
  },
  {
   "cell_type": "code",
   "execution_count": 5,
   "metadata": {},
   "outputs": [],
   "source": [
    "# rebuild large-dataset model architecture\n",
    "width = 800\n",
    "dropout1 = 0\n",
    "dropout2 = 0.1\n",
    "\n",
    "base_model = VGG16(include_top=False, \n",
    "                   weights=None, \n",
    "                   input_shape=(224, 224, 3))\n",
    "\n",
    "inputs = base_model.output\n",
    "x = Flatten()(inputs)\n",
    "x = Dense(width, activation='relu')(x)\n",
    "x = Dropout(dropout1)(x)\n",
    "x = Dense(width, activation='relu')(x)\n",
    "x = Dropout(dropout2)(x)\n",
    "preds = Dense(5, activation='relu')(x)\n",
    "\n",
    "base_model_large = Model(inputs=base_model.inputs, outputs=preds)\n",
    "base_model_large.name = 'large'\n",
    "del base_model\n",
    "\n",
    "# load trained weights into model\n",
    "base_model_large.load_weights('models/final_model_weights.h5')\n",
    "\n",
    "# set weights to untrainable\n",
    "for layer in base_model_large.layers:\n",
    "    layer.trainable = False"
   ]
  },
  {
   "cell_type": "code",
   "execution_count": 6,
   "metadata": {},
   "outputs": [],
   "source": [
    "# rebuild downsampled model architecture\n",
    "width = 800\n",
    "dropout1 = 0\n",
    "dropout2 = 0\n",
    "\n",
    "base_model = VGG16(include_top=False, \n",
    "                   weights=None, \n",
    "                   input_shape=(224, 224, 3))\n",
    "\n",
    "inputs = base_model.output\n",
    "x = Flatten()(inputs)\n",
    "x = Dense(width, activation='relu')(x)\n",
    "x = Dropout(dropout1)(x)\n",
    "x = Dense(width, activation='relu')(x)\n",
    "x = Dropout(dropout2)(x)\n",
    "preds = Dense(5, activation='relu')(x)\n",
    "\n",
    "base_model_downsample = Model(inputs=base_model.inputs, outputs=preds)\n",
    "base_model_downsample.name = 'downsample'\n",
    "del base_model\n",
    "\n",
    "# load trained weights into model\n",
    "base_model_downsample.load_weights('models/downsample_model2_weights.h5')\n",
    "\n",
    "# set weights to untrainable\n",
    "for layer in base_model_downsample.layers:\n",
    "    layer.trainable = False"
   ]
  },
  {
   "cell_type": "code",
   "execution_count": 7,
   "metadata": {},
   "outputs": [],
   "source": [
    "# construct combined model\n",
    "inputs = Input(shape=(224, 224, 3,), name='main_input')\n",
    "large_out = base_model_large(inputs)\n",
    "downsample_out = base_model_downsample(inputs)\n",
    "\n",
    "# combine outputs of base models into one layer\n",
    "x = concatenate([large_out, downsample_out])\n",
    "\n",
    "# new output layer\n",
    "preds = Dense(5, activation='softmax')(x)\n",
    "\n",
    "# compile model\n",
    "model = Model(inputs=inputs, outputs=preds)\n",
    "model.compile(optimizer=Adam(lr=0.1, decay=0.1), \n",
    "              loss='categorical_crossentropy', \n",
    "              metrics=['accuracy'])\n",
    "\n",
    "# clear other models from memory\n",
    "del base_model_large\n",
    "del base_model_downsample"
   ]
  },
  {
   "cell_type": "code",
   "execution_count": 8,
   "metadata": {},
   "outputs": [
    {
     "name": "stdout",
     "output_type": "stream",
     "text": [
      "__________________________________________________________________________________________________\n",
      "Layer (type)                    Output Shape         Param #     Connected to                     \n",
      "==================================================================================================\n",
      "main_input (InputLayer)         (None, 224, 224, 3)  0                                            \n",
      "__________________________________________________________________________________________________\n",
      "large (Model)                   (None, 5)            35430693    main_input[0][0]                 \n",
      "__________________________________________________________________________________________________\n",
      "downsample (Model)              (None, 5)            35430693    main_input[0][0]                 \n",
      "__________________________________________________________________________________________________\n",
      "concatenate_1 (Concatenate)     (None, 10)           0           large[1][0]                      \n",
      "                                                                 downsample[1][0]                 \n",
      "__________________________________________________________________________________________________\n",
      "dense_7 (Dense)                 (None, 5)            55          concatenate_1[0][0]              \n",
      "==================================================================================================\n",
      "Total params: 70,861,441\n",
      "Trainable params: 55\n",
      "Non-trainable params: 70,861,386\n",
      "__________________________________________________________________________________________________\n"
     ]
    }
   ],
   "source": [
    "model.summary()"
   ]
  },
  {
   "cell_type": "code",
   "execution_count": 9,
   "metadata": {},
   "outputs": [
    {
     "name": "stdout",
     "output_type": "stream",
     "text": [
      "Epoch 1/20\n",
      "680/680 [==============================] - 98s 144ms/step - loss: 0.2885 - acc: 0.8983 - val_loss: 0.2382 - val_acc: 0.9209\n",
      "\n",
      "Epoch 00001: val_loss improved from inf to 0.23824, saving model to models/combined_model.h5\n",
      "Epoch 2/20\n",
      "680/680 [==============================] - 99s 146ms/step - loss: 0.2575 - acc: 0.9072 - val_loss: 0.2368 - val_acc: 0.9165\n",
      "\n",
      "Epoch 00002: val_loss improved from 0.23824 to 0.23676, saving model to models/combined_model.h5\n",
      "Epoch 3/20\n",
      "680/680 [==============================] - 97s 142ms/step - loss: 0.2499 - acc: 0.9063 - val_loss: 0.2393 - val_acc: 0.9209\n",
      "\n",
      "Epoch 00003: val_loss did not improve from 0.23676\n",
      "Epoch 4/20\n",
      "680/680 [==============================] - 95s 139ms/step - loss: 0.2494 - acc: 0.9074 - val_loss: 0.2412 - val_acc: 0.9209\n",
      "\n",
      "Epoch 00004: val_loss did not improve from 0.23676\n",
      "Epoch 00004: early stopping\n"
     ]
    }
   ],
   "source": [
    "# define callbacks\n",
    "savepath = 'models/combined_model.h5'\n",
    "saver = ModelCheckpoint(savepath,\n",
    "                        monitor='val_loss',\n",
    "                        verbose=1,\n",
    "                        save_best_only=True)\n",
    "\n",
    "stopper = EarlyStopping(monitor='val_loss', \n",
    "                        patience=2, \n",
    "                        verbose=1)\n",
    "\n",
    "# train model\n",
    "n_epochs = 20\n",
    "\n",
    "history = model.fit_generator(train_batches, \n",
    "                              validation_data=valid_batches,\n",
    "                              epochs=n_epochs, \n",
    "                              verbose=1, \n",
    "                              callbacks=[saver, stopper])"
   ]
  },
  {
   "cell_type": "code",
   "execution_count": 10,
   "metadata": {},
   "outputs": [
    {
     "data": {
      "image/png": "[encoded data removed]",
      "text/plain": [
       "<Figure size 720x504 with 1 Axes>"
      ]
     },
     "metadata": {},
     "output_type": "display_data"
    },
    {
     "data": {
      "image/png": "[encoded data removed]",
      "text/plain": [
       "<Figure size 720x504 with 1 Axes>"
      ]
     },
     "metadata": {},
     "output_type": "display_data"
    }
   ],
   "source": [
    "# plot model training history\n",
    "c2t.plot_history(history)"
   ]
  },
  {
   "cell_type": "code",
   "execution_count": 11,
   "metadata": {},
   "outputs": [
    {
     "name": "stdout",
     "output_type": "stream",
     "text": [
      "Building image generator...\n",
      "Found 455 images belonging to 5 classes.\n",
      "Loading model models/combined_model.h5\n",
      "Evaluating model models/combined_model.h5\n",
      "Evaluation complete.\n",
      "\n"
     ]
    }
   ],
   "source": [
    "# evaluate model on downsampled val set\n",
    "model_paths = {'model': savepath}\n",
    "model_metrics = c2t.eval_models(model_paths, valid_path)['model']"
   ]
  },
  {
   "cell_type": "code",
   "execution_count": 12,
   "metadata": {},
   "outputs": [
    {
     "name": "stdout",
     "output_type": "stream",
     "text": [
      "accuracy: 0.9164835166145157\n",
      "loss: 0.2367583004123247\n",
      "pcr: [0.86813187 0.95604396 0.91208791 0.98901099 0.85714286]\n",
      "mean pcr: 0.9164835164835164\n",
      "confusion matrix:\n"
     ]
    },
    {
     "data": {
      "text/plain": [
       "[[79, 6, 5, 0, 1],\n",
       " [2, 87, 0, 1, 1],\n",
       " [3, 2, 83, 1, 2],\n",
       " [0, 0, 1, 90, 0],\n",
       " [0, 1, 12, 0, 78]]"
      ]
     },
     "execution_count": 12,
     "metadata": {},
     "output_type": "execute_result"
    }
   ],
   "source": [
    "c2t.print_eval(model_metrics)"
   ]
  },
  {
   "cell_type": "code",
   "execution_count": 13,
   "metadata": {},
   "outputs": [
    {
     "name": "stdout",
     "output_type": "stream",
     "text": [
      "Building image generator...\n",
      "Found 20000 images belonging to 5 classes.\n",
      "Loading model models/combined_model.h5\n",
      "Evaluating model models/combined_model.h5\n",
      "Evaluation complete.\n",
      "\n"
     ]
    }
   ],
   "source": [
    "# evaluate model on larger validation set\n",
    "valid_path_large = 'H:/springboard/other_data/yelp/Photos/final_photos/val'\n",
    "model_metrics_large = c2t.eval_models(model_paths, valid_path_large)['model']"
   ]
  },
  {
   "cell_type": "code",
   "execution_count": 14,
   "metadata": {
    "scrolled": true
   },
   "outputs": [
    {
     "name": "stdout",
     "output_type": "stream",
     "text": [
      "accuracy: 0.92055\n",
      "loss: 0.2234197325780282\n",
      "pcr: [0.91954023 0.94653992 0.85904977 0.98901099 0.8746196 ]\n",
      "mean pcr: 0.9177521029803751\n",
      "confusion matrix:\n"
     ]
    },
    {
     "data": {
      "text/plain": [
       "[[640, 28, 24, 1, 3],\n",
       " [416, 12447, 162, 33, 92],\n",
       " [70, 56, 3797, 20, 477],\n",
       " [0, 0, 1, 90, 0],\n",
       " [6, 7, 182, 11, 1437]]"
      ]
     },
     "execution_count": 14,
     "metadata": {},
     "output_type": "execute_result"
    }
   ],
   "source": [
    "c2t.print_eval(model_metrics_large)"
   ]
  },
  {
   "cell_type": "code",
   "execution_count": 15,
   "metadata": {},
   "outputs": [
    {
     "name": "stdout",
     "output_type": "stream",
     "text": [
      "Building image generator...\n",
      "Found 20000 images belonging to 5 classes.\n",
      "Loading model models/final_model.h5\n",
      "Evaluating model models/final_model.h5\n",
      "Evaluation complete.\n",
      "\n"
     ]
    }
   ],
   "source": [
    "# evaluate large model on large validation set, for comparison\n",
    "model_paths_large = {'model': 'models/final_model.h5'}\n",
    "model_metrics_large = c2t.eval_models(model_paths_large, valid_path_large)['model']"
   ]
  },
  {
   "cell_type": "code",
   "execution_count": 16,
   "metadata": {},
   "outputs": [
    {
     "name": "stdout",
     "output_type": "stream",
     "text": [
      "accuracy: 0.9418\n",
      "loss: 0.1670943652353014\n",
      "pcr: [0.67097701 0.98859316 0.92466063 0.47252747 0.75410834]\n",
      "mean pcr: 0.7621733223609561\n",
      "confusion matrix:\n"
     ]
    },
    {
     "data": {
      "text/plain": [
       "[[467, 155, 63, 1, 10],\n",
       " [77, 13000, 66, 1, 6],\n",
       " [27, 122, 4087, 4, 180],\n",
       " [1, 13, 16, 43, 18],\n",
       " [6, 23, 373, 2, 1239]]"
      ]
     },
     "execution_count": 16,
     "metadata": {},
     "output_type": "execute_result"
    }
   ],
   "source": [
    "c2t.print_eval(model_metrics_large)"
   ]
  },
  {
   "cell_type": "code",
   "execution_count": 17,
   "metadata": {},
   "outputs": [
    {
     "name": "stdout",
     "output_type": "stream",
     "text": [
      "Building image generator...\n",
      "Found 20000 images belonging to 5 classes.\n",
      "Loading model models/downsample_model.h5\n",
      "Evaluating model models/downsample_model.h5\n",
      "Evaluation complete.\n",
      "\n"
     ]
    }
   ],
   "source": [
    "# evaluate downsampled model on large validation set, for comparison\n",
    "model_paths_down = {'model': 'models/downsample_model.h5'}\n",
    "model_metrics_down = c2t.eval_models(model_paths_down, valid_path_large)['model']"
   ]
  },
  {
   "cell_type": "code",
   "execution_count": 18,
   "metadata": {},
   "outputs": [
    {
     "name": "stdout",
     "output_type": "stream",
     "text": [
      "accuracy: 0.88075\n",
      "loss: 0.32189788192114427\n",
      "pcr: [0.9066092  0.90547529 0.81153846 0.95604396 0.85392575]\n",
      "mean pcr: 0.886718528748632\n",
      "confusion matrix:\n"
     ]
    },
    {
     "data": {
      "text/plain": [
       "[[631, 23, 35, 4, 3],\n",
       " [856, 11907, 190, 85, 112],\n",
       " [79, 60, 3587, 33, 661],\n",
       " [2, 0, 0, 87, 2],\n",
       " [12, 4, 208, 16, 1403]]"
      ]
     },
     "execution_count": 18,
     "metadata": {},
     "output_type": "execute_result"
    }
   ],
   "source": [
    "c2t.print_eval(model_metrics_down)"
   ]
  },
  {
   "cell_type": "code",
   "execution_count": null,
   "metadata": {},
   "outputs": [],
   "source": []
  }
 ],
 "metadata": {
  "kernelspec": {
   "display_name": "Python 3",
   "language": "python",
   "name": "python3"
  },
  "language_info": {
   "codemirror_mode": {
    "name": "ipython",
    "version": 3
   },
   "file_extension": ".py",
   "mimetype": "text/x-python",
   "name": "python",
   "nbconvert_exporter": "python",
   "pygments_lexer": "ipython3",
   "version": "3.6.6"
  }
 },
 "nbformat": 4,
 "nbformat_minor": 2
}
