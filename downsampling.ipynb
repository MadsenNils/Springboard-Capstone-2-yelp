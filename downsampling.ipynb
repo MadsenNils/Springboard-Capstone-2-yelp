{
 "cells": [
  {
   "cell_type": "markdown",
   "metadata": {},
   "source": [
    "## Downsampling\n",
    "___\n",
    "\n",
    "The model is not performing optimally due to class imbalance in the dataset. While performing at 99% accuracy on the highest representation class (food), the model's accuracy drops to an abysmal 47% on the least represented class (menu). One way to work around the presence of class imbalance in the dataset is to take a random sample of the more represented classes, to bring all the classes into balance with the least represented class. While this will greatly reduce the total amount of data that the model is trained on, the elimination of class imbalance may lead to the model performing better anyway."
   ]
  },
  {
   "cell_type": "code",
   "execution_count": 13,
   "metadata": {},
   "outputs": [],
   "source": [
    "import pandas as pd\n",
    "import shutil"
   ]
  },
  {
   "cell_type": "code",
   "execution_count": 14,
   "metadata": {},
   "outputs": [
    {
     "name": "stdout",
     "output_type": "stream",
     "text": [
      "<class 'pandas.core.frame.DataFrame'>\n",
      "Index: 220992 entries, vhnZ58_1shy9HNVdZgtMLw to HOl4tj5PJc5siu1GE_vDWg\n",
      "Data columns (total 2 columns):\n",
      "label    220992 non-null object\n",
      "set      220992 non-null object\n",
      "dtypes: object(2)\n",
      "memory usage: 5.1+ MB\n"
     ]
    }
   ],
   "source": [
    "df = pd.read_csv('photo_labels_final.csv', index_col=0)\n",
    "df_train = df[df.set == 'train']\n",
    "df_val = df[df.set == 'val']\n",
    "\n",
    "df_train.info()"
   ]
  },
  {
   "cell_type": "code",
   "execution_count": 15,
   "metadata": {},
   "outputs": [
    {
     "data": {
      "text/plain": [
       "food       144885\n",
       "inside      48551\n",
       "outside     18266\n",
       "drink        8203\n",
       "menu         1087\n",
       "Name: label, dtype: int64"
      ]
     },
     "execution_count": 15,
     "metadata": {},
     "output_type": "execute_result"
    }
   ],
   "source": [
    "# class imbalance in the larger train dataset\n",
    "df_train.label.value_counts()"
   ]
  },
  {
   "cell_type": "code",
   "execution_count": 16,
   "metadata": {},
   "outputs": [
    {
     "data": {
      "text/plain": [
       "food       13150\n",
       "inside      4420\n",
       "outside     1643\n",
       "drink        696\n",
       "menu          91\n",
       "Name: label, dtype: int64"
      ]
     },
     "execution_count": 16,
     "metadata": {},
     "output_type": "execute_result"
    }
   ],
   "source": [
    "# class imbalance in the larger val dataset\n",
    "df_val.label.value_counts()"
   ]
  },
  {
   "cell_type": "code",
   "execution_count": 17,
   "metadata": {},
   "outputs": [],
   "source": [
    "# collect all images of menu class\n",
    "menu_train = df_train[df_train.label == 'menu']\n",
    "train_n = len(menu_train.label)\n",
    "\n",
    "menu_val = df_val[df_val.label == 'menu']\n",
    "val_n = len(menu_val.label)\n",
    "\n",
    "# downsample other classes\n",
    "food_train = df_train[df_train.label == 'food'].sample(n=train_n, replace=False, random_state=12)\n",
    "food_val = df_val[df_val.label == 'food'].sample(n=val_n, replace=False, random_state=123)\n",
    "\n",
    "inside_train = df_train[df_train.label == 'inside'].sample(n=train_n, replace=False, random_state=23)\n",
    "inside_val = df_val[df_val.label == 'inside'].sample(n=val_n, replace=False, random_state=234)\n",
    "\n",
    "outside_train = df_train[df_train.label == 'outside'].sample(n=train_n, replace=False, random_state=34)\n",
    "outside_val = df_val[df_val.label == 'outside'].sample(n=val_n, replace=False, random_state=345)\n",
    "\n",
    "drink_train = df_train[df_train.label == 'drink'].sample(n=train_n, replace=False, random_state=45)\n",
    "drink_val = df_val[df_val.label == 'drink'].sample(n=val_n, replace=False, random_state=456)"
   ]
  },
  {
   "cell_type": "code",
   "execution_count": 18,
   "metadata": {},
   "outputs": [],
   "source": [
    "# combine all samples\n",
    "train = pd.concat([menu_train, food_train, inside_train, outside_train, drink_train], axis=0)\n",
    "val = pd.concat([menu_val, food_val, inside_val, outside_val, drink_val], axis=0)"
   ]
  },
  {
   "cell_type": "code",
   "execution_count": 19,
   "metadata": {},
   "outputs": [
    {
     "name": "stdout",
     "output_type": "stream",
     "text": [
      "food       1087\n",
      "drink      1087\n",
      "outside    1087\n",
      "menu       1087\n",
      "inside     1087\n",
      "Name: label, dtype: int64\n",
      "drink      91\n",
      "food       91\n",
      "inside     91\n",
      "menu       91\n",
      "outside    91\n",
      "Name: label, dtype: int64\n"
     ]
    }
   ],
   "source": [
    "# classes are now balanced in the downsampled dataset\n",
    "print(train.label.value_counts())\n",
    "print(val.label.value_counts())"
   ]
  },
  {
   "cell_type": "code",
   "execution_count": 20,
   "metadata": {},
   "outputs": [
    {
     "data": {
      "text/plain": [
       "train    5435\n",
       "val       455\n",
       "Name: set, dtype: int64"
      ]
     },
     "execution_count": 20,
     "metadata": {},
     "output_type": "execute_result"
    }
   ],
   "source": [
    "train['set'] = 'train'\n",
    "val['set'] = 'val'\n",
    "downsampled = pd.concat([train, val], axis=0)\n",
    "downsampled.set.value_counts()"
   ]
  },
  {
   "cell_type": "code",
   "execution_count": 21,
   "metadata": {},
   "outputs": [],
   "source": [
    "downsampled.to_csv('photo_labels_downsampled.csv')"
   ]
  },
  {
   "cell_type": "code",
   "execution_count": 22,
   "metadata": {},
   "outputs": [],
   "source": [
    "# copy photos into new directories\n",
    "orig_dir = 'H:/springboard/other_data/yelp/Photos/yelp_academic_dataset_photos/'\n",
    "dest_dir = 'C:/Users/Nils/Documents/GitHub/Springboard-Capstone-2-local-yelp/downsampled/'\n",
    "\n",
    "for index, row in downsampled.iterrows():\n",
    "    filepath = orig_dir + index + '.jpg'\n",
    "    filedest = dest_dir + row['set'] + '/' + row['label']\n",
    "    _ = shutil.copy(filepath, filedest)"
   ]
  },
  {
   "cell_type": "code",
   "execution_count": null,
   "metadata": {},
   "outputs": [],
   "source": []
  }
 ],
 "metadata": {
  "kernelspec": {
   "display_name": "Python 3",
   "language": "python",
   "name": "python3"
  },
  "language_info": {
   "codemirror_mode": {
    "name": "ipython",
    "version": 3
   },
   "file_extension": ".py",
   "mimetype": "text/x-python",
   "name": "python",
   "nbconvert_exporter": "python",
   "pygments_lexer": "ipython3",
   "version": "3.6.6"
  }
 },
 "nbformat": 4,
 "nbformat_minor": 2
}
