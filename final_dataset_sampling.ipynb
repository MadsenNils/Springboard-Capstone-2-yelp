{
 "cells": [
  {
   "cell_type": "code",
   "execution_count": 1,
   "metadata": {},
   "outputs": [],
   "source": [
    "import pandas as pd"
   ]
  },
  {
   "cell_type": "code",
   "execution_count": 2,
   "metadata": {},
   "outputs": [
    {
     "name": "stdout",
     "output_type": "stream",
     "text": [
      "<class 'pandas.core.frame.DataFrame'>\n",
      "Index: 280992 entries, IuXwafFH3fZlTyXA-poz0w to HOl4tj5PJc5siu1GE_vDWg\n",
      "Data columns (total 1 columns):\n",
      "label    280992 non-null object\n",
      "dtypes: object(1)\n",
      "memory usage: 4.3+ MB\n"
     ]
    }
   ],
   "source": [
    "# import label dataframes\n",
    "all_images = pd.read_csv('photo_labels_all.csv', index_col=1).drop('Unnamed: 0', axis=1)\n",
    "design_images = pd.read_csv('photo_labels_sample.csv', index_col=1).drop('Unnamed: 0', axis=1)\n",
    "all_images.info()"
   ]
  },
  {
   "cell_type": "code",
   "execution_count": 3,
   "metadata": {},
   "outputs": [],
   "source": [
    "# select out images that are not in design set\n",
    "final_images = all_images[~all_images.index.isin(design_images.index)]\n",
    "\n",
    "# select validation photos\n",
    "validation = final_images.sample(n=20000, replace=False, weights=None, random_state=234)\n",
    "validation['set'] = 'val'\n",
    "\n",
    "# remove validation images from set\n",
    "train = final_images[~final_images.index.isin(validation.index)]\n",
    "\n",
    "# select test photos\n",
    "test = train.sample(n=30000, replace=False, weights=None, random_state=345)\n",
    "test['set'] = 'test'\n",
    "\n",
    "# remove test images from set\n",
    "train = train[~train.index.isin(test.index)]\n",
    "train['set'] = 'train'"
   ]
  },
  {
   "cell_type": "code",
   "execution_count": 4,
   "metadata": {},
   "outputs": [
    {
     "data": {
      "text/plain": [
       "train    220992\n",
       "test      30000\n",
       "val       20000\n",
       "Name: set, dtype: int64"
      ]
     },
     "execution_count": 4,
     "metadata": {},
     "output_type": "execute_result"
    }
   ],
   "source": [
    "# combine sets back together\n",
    "final = pd.concat([train, validation, test], axis=0)\n",
    "final['set'].value_counts()"
   ]
  },
  {
   "cell_type": "code",
   "execution_count": 5,
   "metadata": {},
   "outputs": [],
   "source": [
    "# confirm that all photo IDs are still unique\n",
    "assert final.index.nunique() == len(final.index)"
   ]
  },
  {
   "cell_type": "code",
   "execution_count": 6,
   "metadata": {},
   "outputs": [],
   "source": [
    "final.to_csv('photo_labels_final.csv')"
   ]
  }
 ],
 "metadata": {
  "kernelspec": {
   "display_name": "Python 3",
   "language": "python",
   "name": "python3"
  },
  "language_info": {
   "codemirror_mode": {
    "name": "ipython",
    "version": 3
   },
   "file_extension": ".py",
   "mimetype": "text/x-python",
   "name": "python",
   "nbconvert_exporter": "python",
   "pygments_lexer": "ipython3",
   "version": "3.6.6"
  }
 },
 "nbformat": 4,
 "nbformat_minor": 2
}
