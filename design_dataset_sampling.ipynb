{
 "cells": [
  {
   "cell_type": "markdown",
   "metadata": {},
   "source": [
    "# Springboard Capstone Project 2\n",
    "\n",
    "## Sampling photos for algorithm design\n",
    "___\n",
    "\n",
    "The full Yelp dataset contains more than 280,000 photos. To use the full dataset for the design of a deep learning algorithm would require a prohibitive amount of processing power and would lead to a long time between iterations. Instead, a subset of the photos will be sampled, and the algorithm will be designed to perform well on this subset. Then, for a final evaluation of the success of the algorithm, it will be trained once on the full dataset."
   ]
  },
  {
   "cell_type": "code",
   "execution_count": 1,
   "metadata": {},
   "outputs": [],
   "source": [
    "import pandas as pd"
   ]
  },
  {
   "cell_type": "code",
   "execution_count": 2,
   "metadata": {},
   "outputs": [
    {
     "data": {
      "text/html": [
       "<div>\n",
       "<style scoped>\n",
       "    .dataframe tbody tr th:only-of-type {\n",
       "        vertical-align: middle;\n",
       "    }\n",
       "\n",
       "    .dataframe tbody tr th {\n",
       "        vertical-align: top;\n",
       "    }\n",
       "\n",
       "    .dataframe thead th {\n",
       "        text-align: right;\n",
       "    }\n",
       "</style>\n",
       "<table border=\"1\" class=\"dataframe\">\n",
       "  <thead>\n",
       "    <tr style=\"text-align: right;\">\n",
       "      <th></th>\n",
       "      <th>business_id</th>\n",
       "      <th>caption</th>\n",
       "      <th>label</th>\n",
       "      <th>photo_id</th>\n",
       "    </tr>\n",
       "  </thead>\n",
       "  <tbody>\n",
       "    <tr>\n",
       "      <th>0</th>\n",
       "      <td>wRKYaVXTks43GVSI2awTQA</td>\n",
       "      <td></td>\n",
       "      <td>food</td>\n",
       "      <td>IuXwafFH3fZlTyXA-poz0w</td>\n",
       "    </tr>\n",
       "    <tr>\n",
       "      <th>1</th>\n",
       "      <td>wRKYaVXTks43GVSI2awTQA</td>\n",
       "      <td></td>\n",
       "      <td>food</td>\n",
       "      <td>vhnZ58_1shy9HNVdZgtMLw</td>\n",
       "    </tr>\n",
       "    <tr>\n",
       "      <th>2</th>\n",
       "      <td>wRKYaVXTks43GVSI2awTQA</td>\n",
       "      <td></td>\n",
       "      <td>food</td>\n",
       "      <td>j9ad7H2IBEzhfNCuJu4ukg</td>\n",
       "    </tr>\n",
       "    <tr>\n",
       "      <th>3</th>\n",
       "      <td>wRKYaVXTks43GVSI2awTQA</td>\n",
       "      <td></td>\n",
       "      <td>food</td>\n",
       "      <td>du-5X44HccQ9Zo3pQPiFgQ</td>\n",
       "    </tr>\n",
       "    <tr>\n",
       "      <th>4</th>\n",
       "      <td>wRKYaVXTks43GVSI2awTQA</td>\n",
       "      <td>The classic Farmer's Choice Breakfast has a li...</td>\n",
       "      <td>food</td>\n",
       "      <td>u7Tt1nvclYNoq3UOToP-GA</td>\n",
       "    </tr>\n",
       "  </tbody>\n",
       "</table>\n",
       "</div>"
      ],
      "text/plain": [
       "              business_id                                            caption  \\\n",
       "0  wRKYaVXTks43GVSI2awTQA                                                      \n",
       "1  wRKYaVXTks43GVSI2awTQA                                                      \n",
       "2  wRKYaVXTks43GVSI2awTQA                                                      \n",
       "3  wRKYaVXTks43GVSI2awTQA                                                      \n",
       "4  wRKYaVXTks43GVSI2awTQA  The classic Farmer's Choice Breakfast has a li...   \n",
       "\n",
       "  label                photo_id  \n",
       "0  food  IuXwafFH3fZlTyXA-poz0w  \n",
       "1  food  vhnZ58_1shy9HNVdZgtMLw  \n",
       "2  food  j9ad7H2IBEzhfNCuJu4ukg  \n",
       "3  food  du-5X44HccQ9Zo3pQPiFgQ  \n",
       "4  food  u7Tt1nvclYNoq3UOToP-GA  "
      ]
     },
     "execution_count": 2,
     "metadata": {},
     "output_type": "execute_result"
    }
   ],
   "source": [
    "# read json into pandas dataframe\n",
    "photos_df = pd.read_json('yelp_academic_dataset_photo.json', lines=True)\n",
    "photos_df.head()"
   ]
  },
  {
   "cell_type": "code",
   "execution_count": 3,
   "metadata": {},
   "outputs": [
    {
     "name": "stdout",
     "output_type": "stream",
     "text": [
      "<class 'pandas.core.frame.DataFrame'>\n",
      "RangeIndex: 280992 entries, 0 to 280991\n",
      "Data columns (total 4 columns):\n",
      "business_id    280992 non-null object\n",
      "caption        280992 non-null object\n",
      "label          280992 non-null object\n",
      "photo_id       280992 non-null object\n",
      "dtypes: object(4)\n",
      "memory usage: 8.6+ MB\n",
      "None\n",
      "['food' 'drink' 'outside' 'inside' 'menu']\n"
     ]
    }
   ],
   "source": [
    "# ensure there are no missing data from label field (nan or empty strings)\n",
    "print(photos_df.info())\n",
    "print(photos_df['label'].unique())\n",
    "\n",
    "# ensure all photo IDs are unique\n",
    "assert photos_df.photo_id.nunique() == len(photos_df.photo_id)"
   ]
  },
  {
   "cell_type": "code",
   "execution_count": 4,
   "metadata": {},
   "outputs": [
    {
     "name": "stdout",
     "output_type": "stream",
     "text": [
      "<class 'pandas.core.frame.DataFrame'>\n",
      "RangeIndex: 280992 entries, 0 to 280991\n",
      "Data columns (total 2 columns):\n",
      "photo_id    280992 non-null object\n",
      "label       280992 non-null object\n",
      "dtypes: object(2)\n",
      "memory usage: 4.3+ MB\n"
     ]
    }
   ],
   "source": [
    "# trim dataframe\n",
    "photos_df = photos_df[['photo_id', 'label']]\n",
    "photos_df.info()"
   ]
  },
  {
   "cell_type": "code",
   "execution_count": 5,
   "metadata": {},
   "outputs": [
    {
     "name": "stdout",
     "output_type": "stream",
     "text": [
      "<class 'pandas.core.frame.DataFrame'>\n",
      "Int64Index: 10000 entries, 9462 to 12831\n",
      "Data columns (total 2 columns):\n",
      "photo_id    10000 non-null object\n",
      "label       10000 non-null object\n",
      "dtypes: object(2)\n",
      "memory usage: 234.4+ KB\n"
     ]
    }
   ],
   "source": [
    "# sample photos\n",
    "photos_sample = photos_df.sample(n=10000, replace=False, weights=None, random_state=123)\n",
    "photos_sample.info()"
   ]
  },
  {
   "cell_type": "code",
   "execution_count": 6,
   "metadata": {},
   "outputs": [
    {
     "name": "stdout",
     "output_type": "stream",
     "text": [
      "label_props\n",
      " food       0.656446\n",
      "inside     0.219294\n",
      "outside    0.082614\n",
      "drink      0.036834\n",
      "menu       0.004812\n",
      "Name: label, dtype: float64\n",
      "\n",
      "label_props_sample\n",
      " food       0.6587\n",
      "inside     0.2224\n",
      "outside    0.0790\n",
      "drink      0.0363\n",
      "menu       0.0036\n",
      "Name: label, dtype: float64\n"
     ]
    }
   ],
   "source": [
    "# compare label proportions between sample and entire dataset\n",
    "label_props = photos_df.label.value_counts()/len(photos_df.label)\n",
    "print('label_props\\n', label_props)\n",
    "\n",
    "label_props_sample = photos_sample.label.value_counts()/len(photos_sample.label)\n",
    "print('\\nlabel_props_sample\\n', label_props_sample)"
   ]
  },
  {
   "cell_type": "code",
   "execution_count": 7,
   "metadata": {},
   "outputs": [
    {
     "data": {
      "text/plain": [
       "train    9000\n",
       "val      1000\n",
       "Name: set, dtype: int64"
      ]
     },
     "execution_count": 7,
     "metadata": {},
     "output_type": "execute_result"
    }
   ],
   "source": [
    "# randomly assign sampled photos to train and validation sets\n",
    "photos_sample_val = photos_sample.sample(frac=0.1, replace=False, weights=None, random_state=123)\n",
    "photos_sample_val['set'] = 'val'\n",
    "photos_sample = photos_sample.merge(photos_sample_val, how='left')\n",
    "photos_sample.fillna(value='train', inplace=True)\n",
    "photos_sample.set.value_counts()"
   ]
  },
  {
   "cell_type": "code",
   "execution_count": 8,
   "metadata": {},
   "outputs": [],
   "source": [
    "# save photo dataframes as csv files\n",
    "photos_df.to_csv('photo_labels_all.csv')\n",
    "photos_sample.to_csv('photo_labels_sample.csv')"
   ]
  },
  {
   "cell_type": "code",
   "execution_count": null,
   "metadata": {},
   "outputs": [],
   "source": []
  }
 ],
 "metadata": {
  "kernelspec": {
   "display_name": "Python 3",
   "language": "python",
   "name": "python3"
  },
  "language_info": {
   "codemirror_mode": {
    "name": "ipython",
    "version": 3
   },
   "file_extension": ".py",
   "mimetype": "text/x-python",
   "name": "python",
   "nbconvert_exporter": "python",
   "pygments_lexer": "ipython3",
   "version": "3.6.6"
  }
 },
 "nbformat": 4,
 "nbformat_minor": 2
}
