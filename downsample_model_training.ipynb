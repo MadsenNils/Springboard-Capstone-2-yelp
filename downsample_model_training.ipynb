{
 "cells": [
  {
   "cell_type": "code",
   "execution_count": 1,
   "metadata": {},
   "outputs": [
    {
     "name": "stderr",
     "output_type": "stream",
     "text": [
      "Using TensorFlow backend.\n"
     ]
    },
    {
     "data": {
      "text/plain": [
       "<module 'cap2tools' from 'C:\\\\Users\\\\Nils\\\\Documents\\\\GitHub\\\\Springboard-Capstone-2-local-yelp\\\\cap2tools.py'>"
      ]
     },
     "execution_count": 1,
     "metadata": {},
     "output_type": "execute_result"
    }
   ],
   "source": [
    "import pandas as pd\n",
    "import numpy as np\n",
    "import matplotlib.pyplot as plt\n",
    "import tensorflow as tf\n",
    "import keras.backend as K\n",
    "from keras.preprocessing.image import ImageDataGenerator\n",
    "from keras.callbacks import ModelCheckpoint, EarlyStopping\n",
    "import importlib as imp\n",
    "\n",
    "# custom module for capstone 2\n",
    "import cap2tools as c2t\n",
    "imp.reload(c2t)"
   ]
  },
  {
   "cell_type": "code",
   "execution_count": 2,
   "metadata": {},
   "outputs": [],
   "source": [
    "# configure GPU memory usage by tensorflow\n",
    "config = K.tf.ConfigProto()\n",
    "config.gpu_options.allow_growth = True\n",
    "config.gpu_options.per_process_gpu_memory_fraction = 0.90\n",
    "K.tensorflow_backend.set_session(K.tf.Session(config=config))"
   ]
  },
  {
   "cell_type": "code",
   "execution_count": 3,
   "metadata": {},
   "outputs": [
    {
     "name": "stdout",
     "output_type": "stream",
     "text": [
      "Found 5435 images belonging to 5 classes.\n",
      "Found 455 images belonging to 5 classes.\n"
     ]
    }
   ],
   "source": [
    "# define paths to image directories\n",
    "photos_path = 'C:/Users/Nils/Documents/GitHub/Springboard-Capstone-2-local-yelp/downsampled/'\n",
    "train_path = photos_path + 'train'\n",
    "valid_path = photos_path + 'val'\n",
    "\n",
    "# build image generators to feed CNN\n",
    "batch_size = 8\n",
    "target_size = (224, 224)\n",
    "shuffle = True\n",
    "shift = 0.2\n",
    "\n",
    "# training datagen includes real-time image augmentation\n",
    "train_datagen = ImageDataGenerator(horizontal_flip=True, \n",
    "                                   width_shift_range=shift, \n",
    "                                   height_shift_range=shift, \n",
    "                                   zoom_range=0.2, \n",
    "                                   fill_mode='reflect')\n",
    "\n",
    "train_batches = train_datagen.flow_from_directory(train_path, \n",
    "                                                  target_size=target_size, \n",
    "                                                  batch_size=batch_size, \n",
    "                                                  shuffle=shuffle)\n",
    "\n",
    "# validation set datagen\n",
    "valid_datagen = ImageDataGenerator()\n",
    "\n",
    "valid_batches = valid_datagen.flow_from_directory(valid_path, \n",
    "                                                  target_size=target_size, \n",
    "                                                  batch_size=batch_size, \n",
    "                                                  shuffle=shuffle)\n",
    "\n"
   ]
  },
  {
   "cell_type": "code",
   "execution_count": 4,
   "metadata": {},
   "outputs": [],
   "source": [
    "# build model\n",
    "model = c2t.build_VGG16(width=800, \n",
    "                        new_weights=False, \n",
    "                        trainable=True, \n",
    "                        learning_rate=0.0001, \n",
    "                        dropout1=0, \n",
    "                        dropout2=0)"
   ]
  },
  {
   "cell_type": "code",
   "execution_count": 5,
   "metadata": {},
   "outputs": [
    {
     "name": "stdout",
     "output_type": "stream",
     "text": [
      "Epoch 1/20\n",
      "680/680 [==============================] - 154s 226ms/step - loss: 0.6370 - acc: 0.7737 - val_loss: 0.3964 - val_acc: 0.8484\n",
      "\n",
      "Epoch 00001: val_loss improved from inf to 0.39636, saving model to models/downsample_model2.h5\n",
      "Epoch 2/20\n",
      "680/680 [==============================] - 148s 218ms/step - loss: 0.4053 - acc: 0.8460 - val_loss: 0.3518 - val_acc: 0.8681\n",
      "\n",
      "Epoch 00002: val_loss improved from 0.39636 to 0.35176, saving model to models/downsample_model2.h5\n",
      "Epoch 3/20\n",
      "680/680 [==============================] - 148s 218ms/step - loss: 0.3638 - acc: 0.8593 - val_loss: 0.3322 - val_acc: 0.8835\n",
      "\n",
      "Epoch 00003: val_loss improved from 0.35176 to 0.33224, saving model to models/downsample_model2.h5\n",
      "Epoch 4/20\n",
      "680/680 [==============================] - 148s 218ms/step - loss: 0.3397 - acc: 0.8684 - val_loss: 0.3139 - val_acc: 0.8835\n",
      "\n",
      "Epoch 00004: val_loss improved from 0.33224 to 0.31385, saving model to models/downsample_model2.h5\n",
      "Epoch 5/20\n",
      "680/680 [==============================] - 148s 218ms/step - loss: 0.3245 - acc: 0.8829 - val_loss: 0.3065 - val_acc: 0.8857\n",
      "\n",
      "Epoch 00005: val_loss improved from 0.31385 to 0.30646, saving model to models/downsample_model2.h5\n",
      "Epoch 6/20\n",
      "680/680 [==============================] - 148s 218ms/step - loss: 0.3185 - acc: 0.8770 - val_loss: 0.3056 - val_acc: 0.8945\n",
      "\n",
      "Epoch 00006: val_loss improved from 0.30646 to 0.30558, saving model to models/downsample_model2.h5\n",
      "Epoch 7/20\n",
      "680/680 [==============================] - 148s 218ms/step - loss: 0.3028 - acc: 0.8863 - val_loss: 0.3060 - val_acc: 0.8923\n",
      "\n",
      "Epoch 00007: val_loss did not improve from 0.30558\n",
      "Epoch 8/20\n",
      "680/680 [==============================] - 148s 218ms/step - loss: 0.3021 - acc: 0.8807 - val_loss: 0.3037 - val_acc: 0.8945\n",
      "\n",
      "Epoch 00008: val_loss improved from 0.30558 to 0.30374, saving model to models/downsample_model2.h5\n",
      "Epoch 9/20\n",
      "680/680 [==============================] - 148s 218ms/step - loss: 0.2979 - acc: 0.8853 - val_loss: 0.2971 - val_acc: 0.8901\n",
      "\n",
      "Epoch 00009: val_loss improved from 0.30374 to 0.29709, saving model to models/downsample_model2.h5\n",
      "Epoch 10/20\n",
      "680/680 [==============================] - 148s 218ms/step - loss: 0.2880 - acc: 0.8925 - val_loss: 0.2949 - val_acc: 0.8879\n",
      "\n",
      "Epoch 00010: val_loss improved from 0.29709 to 0.29491, saving model to models/downsample_model2.h5\n",
      "Epoch 11/20\n",
      "680/680 [==============================] - 148s 218ms/step - loss: 0.2835 - acc: 0.8939 - val_loss: 0.2910 - val_acc: 0.8945\n",
      "\n",
      "Epoch 00011: val_loss improved from 0.29491 to 0.29099, saving model to models/downsample_model2.h5\n",
      "Epoch 12/20\n",
      "680/680 [==============================] - 148s 218ms/step - loss: 0.2800 - acc: 0.8930 - val_loss: 0.2884 - val_acc: 0.8945\n",
      "\n",
      "Epoch 00012: val_loss improved from 0.29099 to 0.28838, saving model to models/downsample_model2.h5\n",
      "Epoch 13/20\n",
      "680/680 [==============================] - 148s 218ms/step - loss: 0.2828 - acc: 0.8939 - val_loss: 0.2854 - val_acc: 0.9033\n",
      "\n",
      "Epoch 00013: val_loss improved from 0.28838 to 0.28539, saving model to models/downsample_model2.h5\n",
      "Epoch 14/20\n",
      "680/680 [==============================] - 148s 218ms/step - loss: 0.2801 - acc: 0.8907 - val_loss: 0.2850 - val_acc: 0.9055\n",
      "\n",
      "Epoch 00014: val_loss improved from 0.28539 to 0.28504, saving model to models/downsample_model2.h5\n",
      "Epoch 15/20\n",
      "680/680 [==============================] - 148s 218ms/step - loss: 0.2798 - acc: 0.8908 - val_loss: 0.2891 - val_acc: 0.9033\n",
      "\n",
      "Epoch 00015: val_loss did not improve from 0.28504\n",
      "Epoch 16/20\n",
      "680/680 [==============================] - 148s 218ms/step - loss: 0.2782 - acc: 0.8937 - val_loss: 0.2844 - val_acc: 0.9055\n",
      "\n",
      "Epoch 00016: val_loss improved from 0.28504 to 0.28439, saving model to models/downsample_model2.h5\n",
      "Epoch 17/20\n",
      "680/680 [==============================] - 148s 218ms/step - loss: 0.2775 - acc: 0.8954 - val_loss: 0.2849 - val_acc: 0.9011\n",
      "\n",
      "Epoch 00017: val_loss did not improve from 0.28439\n",
      "Epoch 18/20\n",
      "680/680 [==============================] - 148s 218ms/step - loss: 0.2746 - acc: 0.8937 - val_loss: 0.2835 - val_acc: 0.9011\n",
      "\n",
      "Epoch 00018: val_loss improved from 0.28439 to 0.28347, saving model to models/downsample_model2.h5\n",
      "Epoch 19/20\n",
      "680/680 [==============================] - 148s 218ms/step - loss: 0.2589 - acc: 0.9018 - val_loss: 0.2853 - val_acc: 0.9011\n",
      "\n",
      "Epoch 00019: val_loss did not improve from 0.28347\n",
      "Epoch 20/20\n",
      "680/680 [==============================] - 148s 218ms/step - loss: 0.2615 - acc: 0.8974 - val_loss: 0.2829 - val_acc: 0.8989\n",
      "\n",
      "Epoch 00020: val_loss improved from 0.28347 to 0.28292, saving model to models/downsample_model2.h5\n"
     ]
    }
   ],
   "source": [
    "# define callbacks\n",
    "filepath = 'models/downsample_model2.h5'\n",
    "saver = ModelCheckpoint(filepath,\n",
    "                        monitor='val_loss',\n",
    "                        verbose=1,\n",
    "                        save_best_only=True)\n",
    "\n",
    "stopper = EarlyStopping(monitor='val_loss', \n",
    "                        patience=2, \n",
    "                        verbose=1)\n",
    "\n",
    "# train model\n",
    "n_epochs = 20\n",
    "\n",
    "history = model.fit_generator(train_batches, \n",
    "                              validation_data=valid_batches,\n",
    "                              epochs=n_epochs, \n",
    "                              verbose=1, \n",
    "                              callbacks=[saver, stopper])"
   ]
  },
  {
   "cell_type": "code",
   "execution_count": 6,
   "metadata": {},
   "outputs": [
    {
     "data": {
      "image/png": "[encoded data removed]",
      "text/plain": [
       "<Figure size 720x504 with 1 Axes>"
      ]
     },
     "metadata": {},
     "output_type": "display_data"
    },
    {
     "data": {
      "image/png": "[encoded data removed]",
      "text/plain": [
       "<Figure size 720x504 with 1 Axes>"
      ]
     },
     "metadata": {},
     "output_type": "display_data"
    }
   ],
   "source": [
    "# plot model training history\n",
    "c2t.plot_history(history)"
   ]
  },
  {
   "cell_type": "code",
   "execution_count": 7,
   "metadata": {},
   "outputs": [
    {
     "name": "stdout",
     "output_type": "stream",
     "text": [
      "Building image generator...\n",
      "Found 455 images belonging to 5 classes.\n",
      "Loading model models/downsample_model2.h5\n",
      "Evaluating model models/downsample_model2.h5\n",
      "Evaluation complete.\n",
      "\n"
     ]
    }
   ],
   "source": [
    "# evaluate model on downsampled val set\n",
    "model_paths = {'model': filepath}\n",
    "model_metrics = c2t.eval_models(model_paths, valid_path)['model']"
   ]
  },
  {
   "cell_type": "code",
   "execution_count": 8,
   "metadata": {},
   "outputs": [
    {
     "name": "stdout",
     "output_type": "stream",
     "text": [
      "accuracy: 0.8989010990320981\n",
      "loss: 0.28292308404330757\n",
      "pcr: [0.86813187 0.93406593 0.86813187 0.97802198 0.84615385]\n",
      "mean pcr: 0.8989010989010989\n",
      "confusion matrix:\n"
     ]
    },
    {
     "data": {
      "text/plain": [
       "[[79, 7, 4, 0, 1],\n",
       " [3, 85, 1, 1, 1],\n",
       " [3, 3, 79, 1, 5],\n",
       " [1, 0, 1, 89, 0],\n",
       " [0, 1, 12, 1, 77]]"
      ]
     },
     "execution_count": 8,
     "metadata": {},
     "output_type": "execute_result"
    }
   ],
   "source": [
    "c2t.print_eval(model_metrics)"
   ]
  },
  {
   "cell_type": "code",
   "execution_count": 9,
   "metadata": {},
   "outputs": [
    {
     "name": "stdout",
     "output_type": "stream",
     "text": [
      "Building image generator...\n",
      "Found 20000 images belonging to 5 classes.\n",
      "Loading model models/downsample_model2.h5\n",
      "Evaluating model models/downsample_model2.h5\n",
      "Evaluation complete.\n",
      "\n"
     ]
    }
   ],
   "source": [
    "# evaluate model on larger validation set\n",
    "valid_path_large = 'H:/springboard/other_data/yelp/Photos/final_photos/val'\n",
    "model_metrics_large = c2t.eval_models(model_paths, valid_path_large)['model']"
   ]
  },
  {
   "cell_type": "code",
   "execution_count": 10,
   "metadata": {},
   "outputs": [
    {
     "name": "stdout",
     "output_type": "stream",
     "text": [
      "accuracy: 0.90045\n",
      "loss: 0.2741796498821016\n",
      "pcr: [0.90948276 0.92958175 0.83235294 0.97802198 0.84236153]\n",
      "mean pcr: 0.8983601921296479\n",
      "confusion matrix:\n"
     ]
    },
    {
     "data": {
      "text/plain": [
       "[[633, 31, 28, 2, 2],\n",
       " [525, 12224, 181, 57, 163],\n",
       " [71, 66, 3679, 23, 581],\n",
       " [1, 0, 1, 89, 0],\n",
       " [3, 8, 234, 14, 1384]]"
      ]
     },
     "execution_count": 10,
     "metadata": {},
     "output_type": "execute_result"
    }
   ],
   "source": [
    "c2t.print_eval(model_metrics_large)"
   ]
  },
  {
   "cell_type": "code",
   "execution_count": null,
   "metadata": {},
   "outputs": [],
   "source": []
  }
 ],
 "metadata": {
  "kernelspec": {
   "display_name": "Python 3",
   "language": "python",
   "name": "python3"
  },
  "language_info": {
   "codemirror_mode": {
    "name": "ipython",
    "version": 3
   },
   "file_extension": ".py",
   "mimetype": "text/x-python",
   "name": "python",
   "nbconvert_exporter": "python",
   "pygments_lexer": "ipython3",
   "version": "3.6.6"
  }
 },
 "nbformat": 4,
 "nbformat_minor": 2
}
