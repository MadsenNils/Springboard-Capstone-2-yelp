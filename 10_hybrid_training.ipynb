{
 "cells": [
  {
   "cell_type": "markdown",
   "metadata": {},
   "source": [
    "# Springboard Capstone Project 2\n",
    "## Hybrid (two-phase) training\n",
    "___\n",
    "\n",
    "Another way to gain the benefits of both the downsampled and full image sets is to train the same model on both. In this technique, the model is first trained to convergence on the downsampled image set to establish decent performance on all classes. Then, the model is trained on the full image set to gain the benefits of the large set size for boosting performance on the higher-representation classes. In this implementation of hybrid training, all layers were allowed to update during the second phase. Balanced class weights were used in the second phase to prevent the decay in performance on the lower-representation classes that would occur if the higher-representation classes were mostly driving the gradient descent of the loss function.\n",
    "\n",
    "A milder weighting scheme was also tested, where the weight of each class in the second training phase was the square root of its weight in the balanced case. "
   ]
  },
  {
   "cell_type": "code",
   "execution_count": 1,
   "metadata": {},
   "outputs": [
    {
     "name": "stderr",
     "output_type": "stream",
     "text": [
      "Using TensorFlow backend.\n"
     ]
    },
    {
     "data": {
      "text/plain": [
       "<module 'cap2tools' from 'C:\\\\Users\\\\Nils\\\\Documents\\\\GitHub\\\\Springboard-Capstone-2-local-yelp\\\\cap2tools.py'>"
      ]
     },
     "execution_count": 1,
     "metadata": {},
     "output_type": "execute_result"
    }
   ],
   "source": [
    "import pandas as pd\n",
    "import numpy as np\n",
    "import matplotlib.pyplot as plt\n",
    "import tensorflow as tf\n",
    "import keras.backend as K\n",
    "from keras.models import load_model\n",
    "from keras.callbacks import ModelCheckpoint, EarlyStopping\n",
    "from keras.preprocessing.image import ImageDataGenerator\n",
    "import importlib as imp\n",
    "import gc\n",
    "\n",
    "# custom module for capstone 2\n",
    "import cap2tools as c2t\n",
    "imp.reload(c2t)"
   ]
  },
  {
   "cell_type": "code",
   "execution_count": 2,
   "metadata": {},
   "outputs": [],
   "source": [
    "# configure GPU memory usage by tensorflow\n",
    "config = K.tf.ConfigProto()\n",
    "config.gpu_options.allow_growth = True\n",
    "config.gpu_options.per_process_gpu_memory_fraction = 0.90\n",
    "K.tensorflow_backend.set_session(K.tf.Session(config=config))"
   ]
  },
  {
   "cell_type": "code",
   "execution_count": 3,
   "metadata": {},
   "outputs": [
    {
     "name": "stdout",
     "output_type": "stream",
     "text": [
      "Found 230992 images belonging to 5 classes.\n",
      "Found 20000 images belonging to 5 classes.\n"
     ]
    }
   ],
   "source": [
    "# define paths to image directories\n",
    "photos_path = 'H:/springboard/other_data/yelp/Photos/final_photos/'\n",
    "train_path = photos_path + 'train'\n",
    "valid_path = photos_path + 'val'\n",
    "\n",
    "# build image generators to feed CNN\n",
    "train_batches, valid_batches = c2t.build_datagens(train_path, valid_path, augment=True)"
   ]
  },
  {
   "cell_type": "code",
   "execution_count": 5,
   "metadata": {},
   "outputs": [],
   "source": [
    "# load model\n",
    "model = load_model('models/downsample_model_1.h5')"
   ]
  },
  {
   "cell_type": "code",
   "execution_count": 4,
   "metadata": {},
   "outputs": [],
   "source": [
    "# set balanced class weights\n",
    "images_df = pd.read_csv('photo_labels_all.csv')\n",
    "train_df = images_df[images_df.set == 'train']\n",
    "counts = train_df.label.value_counts()\n",
    "weights = counts.food/counts\n",
    "weights_df = pd.DataFrame(counts)\n",
    "weights_df.columns = ['count']\n",
    "weights_df['weight'] = weights\n",
    "weights_df['i'] = [1, 2, 4, 0, 3]\n",
    "weights_df.set_index('i', inplace=True)\n",
    "weights_dict = weights_df.weight.to_dict()"
   ]
  },
  {
   "cell_type": "code",
   "execution_count": 7,
   "metadata": {
    "scrolled": true
   },
   "outputs": [
    {
     "name": "stdout",
     "output_type": "stream",
     "text": [
      "Epoch 1/5\n",
      "28874/28874 [==============================] - 6502s 225ms/step - loss: 1.2230 - acc: 0.8664 - val_loss: 0.2918 - val_acc: 0.8932\n",
      "\n",
      "Epoch 00001: val_loss improved from inf to 0.29182, saving model to models/hybrid_training_model.h5\n",
      "Epoch 2/5\n",
      "28874/28874 [==============================] - 6489s 225ms/step - loss: 1.1548 - acc: 0.8728 - val_loss: 0.2890 - val_acc: 0.8950\n",
      "\n",
      "Epoch 00002: val_loss improved from 0.29182 to 0.28900, saving model to models/hybrid_training_model.h5\n",
      "Epoch 3/5\n",
      "28874/28874 [==============================] - 6489s 225ms/step - loss: 1.1501 - acc: 0.8736 - val_loss: 0.2725 - val_acc: 0.9005\n",
      "\n",
      "Epoch 00003: val_loss improved from 0.28900 to 0.27248, saving model to models/hybrid_training_model.h5\n",
      "Epoch 4/5\n",
      "28874/28874 [==============================] - 6492s 225ms/step - loss: 1.1202 - acc: 0.8758 - val_loss: 0.2716 - val_acc: 0.9012\n",
      "\n",
      "Epoch 00004: val_loss improved from 0.27248 to 0.27164, saving model to models/hybrid_training_model.h5\n",
      "Epoch 5/5\n",
      "28874/28874 [==============================] - 6492s 225ms/step - loss: 1.1173 - acc: 0.8774 - val_loss: 0.2693 - val_acc: 0.9024\n",
      "\n",
      "Epoch 00005: val_loss improved from 0.27164 to 0.26929, saving model to models/hybrid_training_model.h5\n"
     ]
    },
    {
     "data": {
      "text/plain": [
       "18534"
      ]
     },
     "execution_count": 7,
     "metadata": {},
     "output_type": "execute_result"
    }
   ],
   "source": [
    "# define callbacks\n",
    "filepath = 'models/hybrid_training_model.h5'\n",
    "saver = ModelCheckpoint(filepath,\n",
    "                        monitor='val_loss',\n",
    "                        verbose=1,\n",
    "                        save_best_only=True)\n",
    "\n",
    "stopper = EarlyStopping(monitor='val_loss', \n",
    "                        patience=2, \n",
    "                        verbose=1)\n",
    "\n",
    "# train model\n",
    "n_epochs = 5\n",
    "\n",
    "history = model.fit_generator(train_batches, \n",
    "                              validation_data=valid_batches,\n",
    "                              epochs=n_epochs,\n",
    "                              class_weight=weights_dict,\n",
    "                              verbose=1, \n",
    "                              callbacks=[saver, stopper])\n",
    "\n",
    "# clear clutter from memory\n",
    "del model\n",
    "K.clear_session()\n",
    "gc.collect()"
   ]
  },
  {
   "cell_type": "code",
   "execution_count": 8,
   "metadata": {
    "collapsed": true
   },
   "outputs": [
    {
     "data": {
      "image/png": "[encoded data removed]",
      "text/plain": [
       "<Figure size 720x504 with 1 Axes>"
      ]
     },
     "metadata": {},
     "output_type": "display_data"
    },
    {
     "data": {
      "image/png": "[encoded data removed]",
      "text/plain": [
       "<Figure size 720x504 with 1 Axes>"
      ]
     },
     "metadata": {},
     "output_type": "display_data"
    }
   ],
   "source": [
    "# plot model training history\n",
    "c2t.plot_history(history)"
   ]
  },
  {
   "cell_type": "code",
   "execution_count": 9,
   "metadata": {
    "collapsed": true
   },
   "outputs": [
    {
     "name": "stdout",
     "output_type": "stream",
     "text": [
      "Building image generator...\n",
      "Found 20000 images belonging to 5 classes.\n",
      "Loading models/hybrid_training_model.h5\n",
      "Evaluating models/hybrid_training_model.h5\n",
      "Evaluation complete.\n",
      "\n",
      "accuracy:  90.24%\n",
      "loss:  0.2693\n",
      "pcr:  [0.8828 0.9295 0.8292 0.9905 0.8774]\n",
      "mean pcr:  90.19%\n",
      "confusion matrix: \n"
     ]
    },
    {
     "data": {
      "text/plain": [
       "[[663, 17, 42, 5, 24],\n",
       " [538, 12308, 219, 64, 113],\n",
       " [80, 64, 3535, 35, 549],\n",
       " [0, 0, 0, 104, 1],\n",
       " [12, 0, 171, 18, 1438]]"
      ]
     },
     "execution_count": 9,
     "metadata": {},
     "output_type": "execute_result"
    }
   ],
   "source": [
    "# evaluate model on validation set\n",
    "model_paths = {'model': filepath}\n",
    "model_metrics = c2t.eval_models(model_paths, valid_path)['model']\n",
    "c2t.print_eval(model_metrics)"
   ]
  },
  {
   "cell_type": "code",
   "execution_count": 5,
   "metadata": {},
   "outputs": [],
   "source": [
    "# reload model\n",
    "model = load_model('models/downsample_model_1.h5')"
   ]
  },
  {
   "cell_type": "code",
   "execution_count": 6,
   "metadata": {},
   "outputs": [],
   "source": [
    "# try square root of relative abundance for weights\n",
    "weights_df['sqrt'] = np.sqrt(weights_df.weight)\n",
    "weights_dict = weights_df.sqrt.to_dict()"
   ]
  },
  {
   "cell_type": "code",
   "execution_count": 7,
   "metadata": {
    "scrolled": true
   },
   "outputs": [
    {
     "name": "stdout",
     "output_type": "stream",
     "text": [
      "Epoch 1/5\n",
      "28874/28874 [==============================] - 6534s 226ms/step - loss: 0.5160 - acc: 0.9042 - val_loss: 0.2010 - val_acc: 0.9308\n",
      "\n",
      "Epoch 00001: val_loss improved from inf to 0.20103, saving model to models/hybrid_training_model_sqrt.h5\n",
      "Epoch 2/5\n",
      "28874/28874 [==============================] - 6473s 224ms/step - loss: 0.4878 - acc: 0.9107 - val_loss: 0.1945 - val_acc: 0.9316\n",
      "\n",
      "Epoch 00002: val_loss improved from 0.20103 to 0.19451, saving model to models/hybrid_training_model_sqrt.h5\n",
      "Epoch 3/5\n",
      "28874/28874 [==============================] - 6472s 224ms/step - loss: 0.4763 - acc: 0.9123 - val_loss: 0.1872 - val_acc: 0.9348\n",
      "\n",
      "Epoch 00003: val_loss improved from 0.19451 to 0.18719, saving model to models/hybrid_training_model_sqrt.h5\n",
      "Epoch 4/5\n",
      "28874/28874 [==============================] - 6472s 224ms/step - loss: 0.4666 - acc: 0.9147 - val_loss: 0.1859 - val_acc: 0.9354\n",
      "\n",
      "Epoch 00004: val_loss improved from 0.18719 to 0.18587, saving model to models/hybrid_training_model_sqrt.h5\n",
      "Epoch 5/5\n",
      "28874/28874 [==============================] - 6472s 224ms/step - loss: 0.4624 - acc: 0.9154 - val_loss: 0.1830 - val_acc: 0.9361\n",
      "\n",
      "Epoch 00005: val_loss improved from 0.18587 to 0.18298, saving model to models/hybrid_training_model_sqrt.h5\n"
     ]
    },
    {
     "data": {
      "text/plain": [
       "18105"
      ]
     },
     "execution_count": 7,
     "metadata": {},
     "output_type": "execute_result"
    }
   ],
   "source": [
    "# define callbacks\n",
    "filepath = 'models/hybrid_training_model_sqrt.h5'\n",
    "saver = ModelCheckpoint(filepath,\n",
    "                        monitor='val_loss',\n",
    "                        verbose=1,\n",
    "                        save_best_only=True)\n",
    "\n",
    "stopper = EarlyStopping(monitor='val_loss', \n",
    "                        patience=2, \n",
    "                        verbose=1)\n",
    "\n",
    "# train model\n",
    "n_epochs = 5\n",
    "\n",
    "history = model.fit_generator(train_batches, \n",
    "                              validation_data=valid_batches,\n",
    "                              epochs=n_epochs,\n",
    "                              class_weight=weights_dict,\n",
    "                              verbose=1, \n",
    "                              callbacks=[saver, stopper])\n",
    "\n",
    "# clear clutter from memory\n",
    "del model\n",
    "K.clear_session()\n",
    "gc.collect()"
   ]
  },
  {
   "cell_type": "code",
   "execution_count": 8,
   "metadata": {},
   "outputs": [
    {
     "name": "stdout",
     "output_type": "stream",
     "text": [
      "Building image generator...\n",
      "Found 20000 images belonging to 5 classes.\n",
      "Loading models/hybrid_training_model_sqrt.h5\n",
      "Evaluating models/hybrid_training_model_sqrt.h5\n",
      "Evaluation complete.\n",
      "\n",
      "accuracy:  93.61%\n",
      "loss:  0.183\n",
      "pcr:  [0.8123 0.9698 0.8813 0.981  0.8603]\n",
      "mean pcr:  90.09%\n",
      "confusion matrix: \n"
     ]
    },
    {
     "data": {
      "text/plain": [
       "[[610, 50, 63, 4, 24],\n",
       " [172, 12842, 161, 15, 52],\n",
       " [42, 97, 3757, 16, 351],\n",
       " [0, 0, 1, 103, 1],\n",
       " [4, 6, 212, 7, 1410]]"
      ]
     },
     "execution_count": 8,
     "metadata": {},
     "output_type": "execute_result"
    }
   ],
   "source": [
    "# evaluate model on validation set\n",
    "model_paths = {'model': filepath}\n",
    "model_metrics = c2t.eval_models(model_paths, valid_path)['model']\n",
    "c2t.print_eval(model_metrics)"
   ]
  },
  {
   "cell_type": "code",
   "execution_count": 9,
   "metadata": {},
   "outputs": [
    {
     "name": "stdout",
     "output_type": "stream",
     "text": [
      "Building image generator...\n",
      "Found 30000 images belonging to 5 classes.\n",
      "Loading models/hybrid_training_model_sqrt.h5\n",
      "Evaluating models/hybrid_training_model_sqrt.h5\n",
      "Evaluation complete.\n",
      "\n",
      "accuracy:  93.43%\n",
      "loss:  0.1851\n",
      "pcr:  [0.8131 0.9712 0.8782 0.9669 0.8445]\n",
      "mean pcr:  89.48%\n",
      "confusion matrix: \n"
     ]
    },
    {
     "data": {
      "text/plain": [
       "[[905, 106, 72, 2, 28],\n",
       " [243, 19061, 226, 27, 69],\n",
       " [72, 125, 5860, 21, 595],\n",
       " [0, 2, 0, 146, 3],\n",
       " [6, 13, 346, 14, 2058]]"
      ]
     },
     "execution_count": 9,
     "metadata": {},
     "output_type": "execute_result"
    }
   ],
   "source": [
    "# evaluate hybrid-root on the test set\n",
    "test_path = 'H:/springboard/other_data/yelp/Photos/final_photos/test'\n",
    "model_metrics = c2t.eval_models(model_paths, test_path)['model']\n",
    "c2t.print_eval(model_metrics)"
   ]
  },
  {
   "cell_type": "code",
   "execution_count": null,
   "metadata": {},
   "outputs": [],
   "source": []
  }
 ],
 "metadata": {
  "kernelspec": {
   "display_name": "Python 3",
   "language": "python",
   "name": "python3"
  },
  "language_info": {
   "codemirror_mode": {
    "name": "ipython",
    "version": 3
   },
   "file_extension": ".py",
   "mimetype": "text/x-python",
   "name": "python",
   "nbconvert_exporter": "python",
   "pygments_lexer": "ipython3",
   "version": "3.6.6"
  }
 },
 "nbformat": 4,
 "nbformat_minor": 2
}
