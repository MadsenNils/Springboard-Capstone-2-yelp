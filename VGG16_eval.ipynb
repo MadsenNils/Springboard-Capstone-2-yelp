{
 "cells": [
  {
   "cell_type": "code",
   "execution_count": 1,
   "metadata": {},
   "outputs": [
    {
     "name": "stderr",
     "output_type": "stream",
     "text": [
      "Using TensorFlow backend.\n"
     ]
    }
   ],
   "source": [
    "import pandas as pd\n",
    "import numpy as np\n",
    "import matplotlib.pyplot as plt\n",
    "import tensorflow as tf\n",
    "import keras.backend as K\n",
    "import gc\n",
    "\n",
    "# custom module for Capstone 2 project\n",
    "import cap2tools as c2t"
   ]
  },
  {
   "cell_type": "code",
   "execution_count": 2,
   "metadata": {},
   "outputs": [],
   "source": [
    "# configure GPU memory usage by tensorflow\n",
    "config = K.tf.ConfigProto()\n",
    "config.gpu_options.allow_growth = True\n",
    "config.gpu_options.per_process_gpu_memory_fraction = 0.90\n",
    "K.tensorflow_backend.set_session(K.tf.Session(config=config))"
   ]
  },
  {
   "cell_type": "code",
   "execution_count": 3,
   "metadata": {},
   "outputs": [
    {
     "name": "stdout",
     "output_type": "stream",
     "text": [
      "Building image generator...\n",
      "Found 1000 images belonging to 5 classes.\n",
      "Loading model vgg16_dropout1_0_1.h5\n",
      "Evaluating model vgg16_dropout1_0_1.h5\n",
      "Loading model vgg16_dropout1_0-1_1.h5\n",
      "Evaluating model vgg16_dropout1_0-1_1.h5\n",
      "Loading model vgg16_dropout1_0-2_1.h5\n",
      "Evaluating model vgg16_dropout1_0-2_1.h5\n",
      "Loading model vgg16_dropout1_0-3_1.h5\n",
      "Evaluating model vgg16_dropout1_0-3_1.h5\n",
      "Loading model vgg16_dropout1_0-4_1.h5\n",
      "Evaluating model vgg16_dropout1_0-4_1.h5\n",
      "Loading model vgg16_dropout1_0-5_1.h5\n",
      "Evaluating model vgg16_dropout1_0-5_1.h5\n",
      "Loading model vgg16_dropout1_0-6_1.h5\n",
      "Evaluating model vgg16_dropout1_0-6_1.h5\n",
      "Loading model vgg16_dropout1_0-7_1.h5\n",
      "Evaluating model vgg16_dropout1_0-7_1.h5\n",
      "Loading model vgg16_dropout1_0-8_1.h5\n",
      "Evaluating model vgg16_dropout1_0-8_1.h5\n",
      "Evaluation complete.\n",
      "\n"
     ]
    }
   ],
   "source": [
    "# run model evaluation\n",
    "data_path = 'sampled_photos/val'\n",
    "\n",
    "model_paths = {'0':'vgg16_dropout1_0_1.h5', \n",
    "               '0.1':'vgg16_dropout1_0-1_1.h5', \n",
    "               '0.2':'vgg16_dropout1_0-2_1.h5', \n",
    "               '0.3':'vgg16_dropout1_0-3_1.h5', \n",
    "               '0.4':'vgg16_dropout1_0-4_1.h5', \n",
    "               '0.5':'vgg16_dropout1_0-5_1.h5', \n",
    "               '0.6':'vgg16_dropout1_0-6_1.h5', \n",
    "               '0.7':'vgg16_dropout1_0-7_1.h5', \n",
    "               '0.8':'vgg16_dropout1_0-8_1.h5'}\n",
    "\n",
    "model_metrics = c2t.eval_models(model_paths, data_path)"
   ]
  },
  {
   "cell_type": "code",
   "execution_count": 4,
   "metadata": {},
   "outputs": [],
   "source": [
    "# create table of evaluation results\n",
    "table = c2t.eval_table(model_metrics, 'Dropout1', decimals=3)"
   ]
  },
  {
   "cell_type": "code",
   "execution_count": 5,
   "metadata": {},
   "outputs": [
    {
     "data": {
      "text/html": [
       "<div>\n",
       "<style scoped>\n",
       "    .dataframe tbody tr th:only-of-type {\n",
       "        vertical-align: middle;\n",
       "    }\n",
       "\n",
       "    .dataframe tbody tr th {\n",
       "        vertical-align: top;\n",
       "    }\n",
       "\n",
       "    .dataframe thead th {\n",
       "        text-align: right;\n",
       "    }\n",
       "</style>\n",
       "<table border=\"1\" class=\"dataframe\">\n",
       "  <thead>\n",
       "    <tr style=\"text-align: right;\">\n",
       "      <th></th>\n",
       "      <th>acc</th>\n",
       "      <th>loss</th>\n",
       "      <th>mpcr</th>\n",
       "    </tr>\n",
       "    <tr>\n",
       "      <th>Dropout 1</th>\n",
       "      <th></th>\n",
       "      <th></th>\n",
       "      <th></th>\n",
       "    </tr>\n",
       "  </thead>\n",
       "  <tbody>\n",
       "    <tr>\n",
       "      <th>0</th>\n",
       "      <td>0.923</td>\n",
       "      <td>0.201</td>\n",
       "      <td>0.628</td>\n",
       "    </tr>\n",
       "    <tr>\n",
       "      <th>0.1</th>\n",
       "      <td>0.928</td>\n",
       "      <td>0.228</td>\n",
       "      <td>0.623</td>\n",
       "    </tr>\n",
       "    <tr>\n",
       "      <th>0.2</th>\n",
       "      <td>0.662</td>\n",
       "      <td>5.448</td>\n",
       "      <td>0.200</td>\n",
       "    </tr>\n",
       "    <tr>\n",
       "      <th>0.3</th>\n",
       "      <td>0.662</td>\n",
       "      <td>5.448</td>\n",
       "      <td>0.200</td>\n",
       "    </tr>\n",
       "    <tr>\n",
       "      <th>0.4</th>\n",
       "      <td>0.662</td>\n",
       "      <td>5.448</td>\n",
       "      <td>0.200</td>\n",
       "    </tr>\n",
       "    <tr>\n",
       "      <th>0.5</th>\n",
       "      <td>0.912</td>\n",
       "      <td>0.250</td>\n",
       "      <td>0.541</td>\n",
       "    </tr>\n",
       "    <tr>\n",
       "      <th>0.6</th>\n",
       "      <td>0.906</td>\n",
       "      <td>0.279</td>\n",
       "      <td>0.494</td>\n",
       "    </tr>\n",
       "    <tr>\n",
       "      <th>0.7</th>\n",
       "      <td>0.904</td>\n",
       "      <td>0.288</td>\n",
       "      <td>0.498</td>\n",
       "    </tr>\n",
       "    <tr>\n",
       "      <th>0.8</th>\n",
       "      <td>0.862</td>\n",
       "      <td>0.366</td>\n",
       "      <td>0.386</td>\n",
       "    </tr>\n",
       "  </tbody>\n",
       "</table>\n",
       "</div>"
      ],
      "text/plain": [
       "             acc   loss   mpcr\n",
       "Dropout 1                     \n",
       "0          0.923  0.201  0.628\n",
       "0.1        0.928  0.228  0.623\n",
       "0.2        0.662  5.448  0.200\n",
       "0.3        0.662  5.448  0.200\n",
       "0.4        0.662  5.448  0.200\n",
       "0.5        0.912  0.250  0.541\n",
       "0.6        0.906  0.279  0.494\n",
       "0.7        0.904  0.288  0.498\n",
       "0.8        0.862  0.366  0.386"
      ]
     },
     "execution_count": 5,
     "metadata": {},
     "output_type": "execute_result"
    }
   ],
   "source": [
    "table"
   ]
  },
  {
   "cell_type": "code",
   "execution_count": 6,
   "metadata": {},
   "outputs": [
    {
     "data": {
      "text/plain": [
       "142880"
      ]
     },
     "execution_count": 6,
     "metadata": {},
     "output_type": "execute_result"
    }
   ],
   "source": [
    "# run garbage collection after execution\n",
    "gc.collect()"
   ]
  }
 ],
 "metadata": {
  "kernelspec": {
   "display_name": "Python 3",
   "language": "python",
   "name": "python3"
  },
  "language_info": {
   "codemirror_mode": {
    "name": "ipython",
    "version": 3
   },
   "file_extension": ".py",
   "mimetype": "text/x-python",
   "name": "python",
   "nbconvert_exporter": "python",
   "pygments_lexer": "ipython3",
   "version": "3.6.6"
  }
 },
 "nbformat": 4,
 "nbformat_minor": 2
}
