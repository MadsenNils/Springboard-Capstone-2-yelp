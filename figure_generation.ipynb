{
 "cells": [
  {
   "cell_type": "code",
   "execution_count": 1,
   "metadata": {},
   "outputs": [
    {
     "name": "stderr",
     "output_type": "stream",
     "text": [
      "Using TensorFlow backend.\n"
     ]
    },
    {
     "data": {
      "text/plain": [
       "<module 'cap2tools' from 'C:\\\\Users\\\\Nils\\\\Documents\\\\GitHub\\\\Springboard-Capstone-2-local-yelp\\\\cap2tools.py'>"
      ]
     },
     "execution_count": 1,
     "metadata": {},
     "output_type": "execute_result"
    }
   ],
   "source": [
    "import pandas as pd\n",
    "import numpy as np\n",
    "import matplotlib as plt\n",
    "import tensorflow as tf\n",
    "import keras.backend as K\n",
    "from keras.optimizers import Adam\n",
    "from keras.callbacks import EarlyStopping, ModelCheckpoint\n",
    "from importlib import reload\n",
    "\n",
    "# custom module for capstone 2\n",
    "import cap2tools as c2t\n",
    "reload(c2t)"
   ]
  },
  {
   "cell_type": "code",
   "execution_count": 2,
   "metadata": {},
   "outputs": [],
   "source": [
    "# configure GPU memory usage by tensorflow\n",
    "config = K.tf.ConfigProto()\n",
    "config.gpu_options.allow_growth = True\n",
    "config.gpu_options.per_process_gpu_memory_fraction = 0.80\n",
    "K.tensorflow_backend.set_session(K.tf.Session(config=config))"
   ]
  },
  {
   "cell_type": "code",
   "execution_count": 3,
   "metadata": {},
   "outputs": [
    {
     "name": "stdout",
     "output_type": "stream",
     "text": [
      "Found 5480 images belonging to 5 classes.\n",
      "Found 525 images belonging to 5 classes.\n"
     ]
    }
   ],
   "source": [
    "# define paths to image directories\n",
    "valid_path = 'downsampled/val'"
   ]
  },
  {
   "cell_type": "code",
   "execution_count": 4,
   "metadata": {},
   "outputs": [
    {
     "data": {
      "text/html": [
       "<div>\n",
       "<style scoped>\n",
       "    .dataframe tbody tr th:only-of-type {\n",
       "        vertical-align: middle;\n",
       "    }\n",
       "\n",
       "    .dataframe tbody tr th {\n",
       "        vertical-align: top;\n",
       "    }\n",
       "\n",
       "    .dataframe thead th {\n",
       "        text-align: right;\n",
       "    }\n",
       "</style>\n",
       "<table border=\"1\" class=\"dataframe\">\n",
       "  <thead>\n",
       "    <tr style=\"text-align: right;\">\n",
       "      <th></th>\n",
       "      <th>photo_id</th>\n",
       "      <th>label</th>\n",
       "      <th>set</th>\n",
       "    </tr>\n",
       "  </thead>\n",
       "  <tbody>\n",
       "    <tr>\n",
       "      <th>0</th>\n",
       "      <td>gVvL0bqKrOuBhuuaXdF47Q</td>\n",
       "      <td>food</td>\n",
       "      <td>test</td>\n",
       "    </tr>\n",
       "    <tr>\n",
       "      <th>1</th>\n",
       "      <td>DwBK2MSbxvGizFJ16d_sqQ</td>\n",
       "      <td>food</td>\n",
       "      <td>test</td>\n",
       "    </tr>\n",
       "    <tr>\n",
       "      <th>2</th>\n",
       "      <td>y1itUxrDBEEywoB49XEvFw</td>\n",
       "      <td>food</td>\n",
       "      <td>test</td>\n",
       "    </tr>\n",
       "    <tr>\n",
       "      <th>3</th>\n",
       "      <td>HZpQjwcMQJOBmYpr8Ds-rA</td>\n",
       "      <td>food</td>\n",
       "      <td>test</td>\n",
       "    </tr>\n",
       "    <tr>\n",
       "      <th>4</th>\n",
       "      <td>SLw-nStWXfaYqlSfzIwyIQ</td>\n",
       "      <td>inside</td>\n",
       "      <td>test</td>\n",
       "    </tr>\n",
       "  </tbody>\n",
       "</table>\n",
       "</div>"
      ],
      "text/plain": [
       "                 photo_id   label   set\n",
       "0  gVvL0bqKrOuBhuuaXdF47Q    food  test\n",
       "1  DwBK2MSbxvGizFJ16d_sqQ    food  test\n",
       "2  y1itUxrDBEEywoB49XEvFw    food  test\n",
       "3  HZpQjwcMQJOBmYpr8Ds-rA    food  test\n",
       "4  SLw-nStWXfaYqlSfzIwyIQ  inside  test"
      ]
     },
     "execution_count": 4,
     "metadata": {},
     "output_type": "execute_result"
    }
   ],
   "source": [
    "# load image information\n",
    "data = pd.read_csv('photo_labels_all.csv')\n",
    "data.head()"
   ]
  },
  {
   "cell_type": "code",
   "execution_count": 5,
   "metadata": {},
   "outputs": [
    {
     "data": {
      "text/html": [
       "<div>\n",
       "<style scoped>\n",
       "    .dataframe tbody tr th:only-of-type {\n",
       "        vertical-align: middle;\n",
       "    }\n",
       "\n",
       "    .dataframe tbody tr th {\n",
       "        vertical-align: top;\n",
       "    }\n",
       "\n",
       "    .dataframe thead th {\n",
       "        text-align: right;\n",
       "    }\n",
       "</style>\n",
       "<table border=\"1\" class=\"dataframe\">\n",
       "  <thead>\n",
       "    <tr style=\"text-align: right;\">\n",
       "      <th></th>\n",
       "      <th>Image Count</th>\n",
       "    </tr>\n",
       "    <tr>\n",
       "      <th>Class</th>\n",
       "      <th></th>\n",
       "    </tr>\n",
       "  </thead>\n",
       "  <tbody>\n",
       "    <tr>\n",
       "      <th>food</th>\n",
       "      <td>184456</td>\n",
       "    </tr>\n",
       "    <tr>\n",
       "      <th>inside</th>\n",
       "      <td>61620</td>\n",
       "    </tr>\n",
       "    <tr>\n",
       "      <th>outside</th>\n",
       "      <td>23214</td>\n",
       "    </tr>\n",
       "    <tr>\n",
       "      <th>drink</th>\n",
       "      <td>10350</td>\n",
       "    </tr>\n",
       "    <tr>\n",
       "      <th>menu</th>\n",
       "      <td>1352</td>\n",
       "    </tr>\n",
       "  </tbody>\n",
       "</table>\n",
       "</div>"
      ],
      "text/plain": [
       "         Image Count\n",
       "Class               \n",
       "food          184456\n",
       "inside         61620\n",
       "outside        23214\n",
       "drink          10350\n",
       "menu            1352"
      ]
     },
     "execution_count": 5,
     "metadata": {},
     "output_type": "execute_result"
    }
   ],
   "source": [
    "# make class imbalance table\n",
    "table = pd.DataFrame(data.label.value_counts())\n",
    "table.columns = ['Image Count']\n",
    "table.index.name = 'Class'\n",
    "table.to_csv('figures/class_imba_table.csv')\n",
    "table"
   ]
  },
  {
   "cell_type": "code",
   "execution_count": 6,
   "metadata": {},
   "outputs": [
    {
     "data": {
      "text/html": [
       "<div>\n",
       "<style scoped>\n",
       "    .dataframe tbody tr th:only-of-type {\n",
       "        vertical-align: middle;\n",
       "    }\n",
       "\n",
       "    .dataframe tbody tr th {\n",
       "        vertical-align: top;\n",
       "    }\n",
       "\n",
       "    .dataframe thead th {\n",
       "        text-align: right;\n",
       "    }\n",
       "</style>\n",
       "<table border=\"1\" class=\"dataframe\">\n",
       "  <thead>\n",
       "    <tr style=\"text-align: right;\">\n",
       "      <th></th>\n",
       "      <th>Image Count</th>\n",
       "      <th>Weight</th>\n",
       "    </tr>\n",
       "    <tr>\n",
       "      <th>Class</th>\n",
       "      <th></th>\n",
       "      <th></th>\n",
       "    </tr>\n",
       "  </thead>\n",
       "  <tbody>\n",
       "    <tr>\n",
       "      <th>food</th>\n",
       "      <td>151588</td>\n",
       "      <td>1.00</td>\n",
       "    </tr>\n",
       "    <tr>\n",
       "      <th>inside</th>\n",
       "      <td>50684</td>\n",
       "      <td>2.99</td>\n",
       "    </tr>\n",
       "    <tr>\n",
       "      <th>outside</th>\n",
       "      <td>19138</td>\n",
       "      <td>7.92</td>\n",
       "    </tr>\n",
       "    <tr>\n",
       "      <th>drink</th>\n",
       "      <td>8486</td>\n",
       "      <td>17.86</td>\n",
       "    </tr>\n",
       "    <tr>\n",
       "      <th>menu</th>\n",
       "      <td>1096</td>\n",
       "      <td>138.31</td>\n",
       "    </tr>\n",
       "  </tbody>\n",
       "</table>\n",
       "</div>"
      ],
      "text/plain": [
       "         Image Count  Weight\n",
       "Class                       \n",
       "food          151588    1.00\n",
       "inside         50684    2.99\n",
       "outside        19138    7.92\n",
       "drink           8486   17.86\n",
       "menu            1096  138.31"
      ]
     },
     "execution_count": 6,
     "metadata": {},
     "output_type": "execute_result"
    }
   ],
   "source": [
    "# make class weights table\n",
    "train_df = data[data.set == 'train']\n",
    "counts = train_df.label.value_counts()\n",
    "weights = counts.food/counts\n",
    "weights_df = pd.DataFrame(counts)\n",
    "weights_df.columns = ['Image Count']\n",
    "weights_df['Weight'] = round(weights, 2)\n",
    "weights_df.index.name = 'Class'\n",
    "weights_df.to_csv('figures/class_weights_table.csv')\n",
    "weights_df"
   ]
  },
  {
   "cell_type": "code",
   "execution_count": 7,
   "metadata": {
    "collapsed": true
   },
   "outputs": [
    {
     "name": "stdout",
     "output_type": "stream",
     "text": [
      "Building image generator...\n",
      "Found 525 images belonging to 5 classes.\n",
      "Loading models/vgg16_width_400_1.h5\n",
      "Evaluating models/vgg16_width_400_1.h5\n",
      "Loading models/vgg16_width_400_2.h5\n",
      "Evaluating models/vgg16_width_400_2.h5\n",
      "Loading models/vgg16_width_400_3.h5\n",
      "Evaluating models/vgg16_width_400_3.h5\n",
      "Loading models/vgg16_width_600_1.h5\n",
      "Evaluating models/vgg16_width_600_1.h5\n",
      "Loading models/vgg16_width_600_2.h5\n",
      "Evaluating models/vgg16_width_600_2.h5\n",
      "Loading models/vgg16_width_600_3.h5\n",
      "Evaluating models/vgg16_width_600_3.h5\n",
      "Loading models/vgg16_width_800_1.h5\n",
      "Evaluating models/vgg16_width_800_1.h5\n",
      "Loading models/vgg16_width_800_2.h5\n",
      "Evaluating models/vgg16_width_800_2.h5\n",
      "Loading models/vgg16_width_800_3.h5\n",
      "Evaluating models/vgg16_width_800_3.h5\n",
      "Loading models/vgg16_width_1000_1.h5\n",
      "Evaluating models/vgg16_width_1000_1.h5\n",
      "Loading models/vgg16_width_1000_2.h5\n",
      "Evaluating models/vgg16_width_1000_2.h5\n",
      "Loading models/vgg16_width_1000_3.h5\n",
      "Evaluating models/vgg16_width_1000_3.h5\n",
      "Loading models/vgg16_width_1200_1.h5\n",
      "Evaluating models/vgg16_width_1200_1.h5\n",
      "Loading models/vgg16_width_1200_2.h5\n",
      "Evaluating models/vgg16_width_1200_2.h5\n",
      "Loading models/vgg16_width_1200_3.h5\n",
      "Evaluating models/vgg16_width_1200_3.h5\n",
      "Loading models/vgg16_width_1400_1.h5\n",
      "Evaluating models/vgg16_width_1400_1.h5\n",
      "Loading models/vgg16_width_1400_2.h5\n",
      "Evaluating models/vgg16_width_1400_2.h5\n",
      "Loading models/vgg16_width_1400_3.h5\n",
      "Evaluating models/vgg16_width_1400_3.h5\n",
      "Loading models/vgg16_width_1600_1.h5\n",
      "Evaluating models/vgg16_width_1600_1.h5\n",
      "Loading models/vgg16_width_1600_2.h5\n",
      "Evaluating models/vgg16_width_1600_2.h5\n",
      "Loading models/vgg16_width_1600_3.h5\n",
      "Evaluating models/vgg16_width_1600_3.h5\n",
      "Evaluation complete.\n",
      "\n"
     ]
    }
   ],
   "source": [
    "# evaluate width conditions\n",
    "widths = [400, 600, 800, 1000, 1200, 1400, 1600]\n",
    "replicates = 3\n",
    "\n",
    "model_paths = dict()\n",
    "\n",
    "for width in widths:\n",
    "    condition = 'width_{}'.format(str(width))\n",
    "    \n",
    "    # add key-value pairs to model_paths\n",
    "    for i in range(1, replicates+1):\n",
    "        key = condition + ' - ' + str(i)\n",
    "        value = 'models/vgg16_{}_{}.h5'.format(condition, str(i))\n",
    "        model_paths[key] = value\n",
    "        \n",
    "model_metrics = c2t.eval_models(model_paths, valid_path)"
   ]
  },
  {
   "cell_type": "code",
   "execution_count": 11,
   "metadata": {},
   "outputs": [],
   "source": [
    "# save width comparison table\n",
    "c2t.eval_table(model_metrics, index_name='Width').to_csv('figures/width_comparison_table.csv')"
   ]
  },
  {
   "cell_type": "code",
   "execution_count": 4,
   "metadata": {
    "collapsed": true
   },
   "outputs": [
    {
     "name": "stdout",
     "output_type": "stream",
     "text": [
      "Building image generator...\n",
      "Found 525 images belonging to 5 classes.\n",
      "Loading H:/springboard/other_data/yelp/models/vgg16_learning_rate_0-0005_1.h5\n",
      "Evaluating H:/springboard/other_data/yelp/models/vgg16_learning_rate_0-0005_1.h5\n",
      "Loading H:/springboard/other_data/yelp/models/vgg16_learning_rate_0-0005_2.h5\n",
      "Evaluating H:/springboard/other_data/yelp/models/vgg16_learning_rate_0-0005_2.h5\n",
      "Loading H:/springboard/other_data/yelp/models/vgg16_learning_rate_0-0005_3.h5\n",
      "Evaluating H:/springboard/other_data/yelp/models/vgg16_learning_rate_0-0005_3.h5\n",
      "Loading H:/springboard/other_data/yelp/models/vgg16_learning_rate_0-0002_1.h5\n",
      "Evaluating H:/springboard/other_data/yelp/models/vgg16_learning_rate_0-0002_1.h5\n",
      "Loading H:/springboard/other_data/yelp/models/vgg16_learning_rate_0-0002_2.h5\n",
      "Evaluating H:/springboard/other_data/yelp/models/vgg16_learning_rate_0-0002_2.h5\n",
      "Loading H:/springboard/other_data/yelp/models/vgg16_learning_rate_0-0002_3.h5\n",
      "Evaluating H:/springboard/other_data/yelp/models/vgg16_learning_rate_0-0002_3.h5\n",
      "Loading H:/springboard/other_data/yelp/models/vgg16_learning_rate_0-0001_1.h5\n",
      "Evaluating H:/springboard/other_data/yelp/models/vgg16_learning_rate_0-0001_1.h5\n",
      "Loading H:/springboard/other_data/yelp/models/vgg16_learning_rate_0-0001_2.h5\n",
      "Evaluating H:/springboard/other_data/yelp/models/vgg16_learning_rate_0-0001_2.h5\n",
      "Loading H:/springboard/other_data/yelp/models/vgg16_learning_rate_0-0001_3.h5\n",
      "Evaluating H:/springboard/other_data/yelp/models/vgg16_learning_rate_0-0001_3.h5\n",
      "Loading H:/springboard/other_data/yelp/models/vgg16_learning_rate_5e-05_1.h5\n",
      "Evaluating H:/springboard/other_data/yelp/models/vgg16_learning_rate_5e-05_1.h5\n",
      "Loading H:/springboard/other_data/yelp/models/vgg16_learning_rate_5e-05_2.h5\n",
      "Evaluating H:/springboard/other_data/yelp/models/vgg16_learning_rate_5e-05_2.h5\n",
      "Loading H:/springboard/other_data/yelp/models/vgg16_learning_rate_5e-05_3.h5\n",
      "Evaluating H:/springboard/other_data/yelp/models/vgg16_learning_rate_5e-05_3.h5\n",
      "Loading H:/springboard/other_data/yelp/models/vgg16_learning_rate_2e-05_1.h5\n",
      "Evaluating H:/springboard/other_data/yelp/models/vgg16_learning_rate_2e-05_1.h5\n",
      "Loading H:/springboard/other_data/yelp/models/vgg16_learning_rate_2e-05_2.h5\n",
      "Evaluating H:/springboard/other_data/yelp/models/vgg16_learning_rate_2e-05_2.h5\n",
      "Loading H:/springboard/other_data/yelp/models/vgg16_learning_rate_2e-05_3.h5\n",
      "Evaluating H:/springboard/other_data/yelp/models/vgg16_learning_rate_2e-05_3.h5\n",
      "Evaluation complete.\n",
      "\n"
     ]
    }
   ],
   "source": [
    "# evaluate learning rate conditions\n",
    "rates = [0.0005, 0.0002, 0.0001, 0.00005, 0.00002]\n",
    "replicates = 3\n",
    "\n",
    "model_paths = dict()\n",
    "dir_path = 'H:/springboard/other_data/yelp/models'\n",
    "\n",
    "for rate in rates:\n",
    "    condition = 'learning_rate_{}'.format(str(rate).replace('.', '-'))\n",
    "    \n",
    "    # add key-value pairs to model_paths\n",
    "    for i in range(1, replicates+1):\n",
    "        key = condition + ' - ' + str(i)\n",
    "        value = '{}/vgg16_{}_{}.h5'.format(dir_path, condition, str(i))\n",
    "        model_paths[key] = value\n",
    "\n",
    "model_metrics = c2t.eval_models(model_paths, valid_path)"
   ]
  },
  {
   "cell_type": "code",
   "execution_count": 22,
   "metadata": {},
   "outputs": [],
   "source": [
    "# save learn rate comparison table\n",
    "c2t.eval_table(model_metrics, index_name='Learning Rate').to_csv('figures/lr_comparison_table.csv')"
   ]
  },
  {
   "cell_type": "code",
   "execution_count": 5,
   "metadata": {
    "collapsed": true
   },
   "outputs": [
    {
     "name": "stdout",
     "output_type": "stream",
     "text": [
      "Building image generator...\n",
      "Found 525 images belonging to 5 classes.\n",
      "Loading H:/springboard/other_data/yelp/models/vgg16_dropout1_0-0_1.h5\n",
      "Evaluating H:/springboard/other_data/yelp/models/vgg16_dropout1_0-0_1.h5\n",
      "Loading H:/springboard/other_data/yelp/models/vgg16_dropout1_0-0_2.h5\n",
      "Evaluating H:/springboard/other_data/yelp/models/vgg16_dropout1_0-0_2.h5\n",
      "Loading H:/springboard/other_data/yelp/models/vgg16_dropout1_0-0_3.h5\n",
      "Evaluating H:/springboard/other_data/yelp/models/vgg16_dropout1_0-0_3.h5\n",
      "Loading H:/springboard/other_data/yelp/models/vgg16_dropout1_0-1_1.h5\n",
      "Evaluating H:/springboard/other_data/yelp/models/vgg16_dropout1_0-1_1.h5\n",
      "Loading H:/springboard/other_data/yelp/models/vgg16_dropout1_0-1_2.h5\n",
      "Evaluating H:/springboard/other_data/yelp/models/vgg16_dropout1_0-1_2.h5\n",
      "Loading H:/springboard/other_data/yelp/models/vgg16_dropout1_0-1_3.h5\n",
      "Evaluating H:/springboard/other_data/yelp/models/vgg16_dropout1_0-1_3.h5\n",
      "Loading H:/springboard/other_data/yelp/models/vgg16_dropout1_0-2_1.h5\n",
      "Evaluating H:/springboard/other_data/yelp/models/vgg16_dropout1_0-2_1.h5\n",
      "Loading H:/springboard/other_data/yelp/models/vgg16_dropout1_0-2_2.h5\n",
      "Evaluating H:/springboard/other_data/yelp/models/vgg16_dropout1_0-2_2.h5\n",
      "Loading H:/springboard/other_data/yelp/models/vgg16_dropout1_0-2_3.h5\n",
      "Evaluating H:/springboard/other_data/yelp/models/vgg16_dropout1_0-2_3.h5\n",
      "Loading H:/springboard/other_data/yelp/models/vgg16_dropout1_0-3_1.h5\n",
      "Evaluating H:/springboard/other_data/yelp/models/vgg16_dropout1_0-3_1.h5\n",
      "Loading H:/springboard/other_data/yelp/models/vgg16_dropout1_0-3_2.h5\n",
      "Evaluating H:/springboard/other_data/yelp/models/vgg16_dropout1_0-3_2.h5\n",
      "Loading H:/springboard/other_data/yelp/models/vgg16_dropout1_0-3_3.h5\n",
      "Evaluating H:/springboard/other_data/yelp/models/vgg16_dropout1_0-3_3.h5\n",
      "Loading H:/springboard/other_data/yelp/models/vgg16_dropout1_0-4_1.h5\n",
      "Evaluating H:/springboard/other_data/yelp/models/vgg16_dropout1_0-4_1.h5\n",
      "Loading H:/springboard/other_data/yelp/models/vgg16_dropout1_0-4_2.h5\n",
      "Evaluating H:/springboard/other_data/yelp/models/vgg16_dropout1_0-4_2.h5\n",
      "Loading H:/springboard/other_data/yelp/models/vgg16_dropout1_0-4_3.h5\n",
      "Evaluating H:/springboard/other_data/yelp/models/vgg16_dropout1_0-4_3.h5\n",
      "Evaluation complete.\n",
      "\n"
     ]
    }
   ],
   "source": [
    "# evaluate dropout1 conditions\n",
    "d1s = np.array([0, 0.1, 0.2, 0.3, 0.4])\n",
    "replicates = 3\n",
    "\n",
    "model_paths = dict()\n",
    "dir_path = 'H:/springboard/other_data/yelp/models'\n",
    "\n",
    "for d1 in d1s:\n",
    "    condition = 'dropout1_{}'.format(str(d1).replace('.', '-'))\n",
    "    \n",
    "    # add key-value pairs to model_paths\n",
    "    for i in range(1, replicates+1):\n",
    "        key = condition + ' - ' + str(i)\n",
    "        value = '{}/vgg16_{}_{}.h5'.format(dir_path, condition, str(i))\n",
    "        model_paths[key] = value\n",
    "        \n",
    "model_metrics = c2t.eval_models(model_paths, valid_path)"
   ]
  },
  {
   "cell_type": "code",
   "execution_count": 6,
   "metadata": {},
   "outputs": [],
   "source": [
    "# save dropout1 comparison table\n",
    "c2t.eval_table(model_metrics, index_name='Dropout 1').to_csv('figures/d1_comparison_table.csv')"
   ]
  },
  {
   "cell_type": "code",
   "execution_count": 4,
   "metadata": {
    "collapsed": true
   },
   "outputs": [
    {
     "name": "stdout",
     "output_type": "stream",
     "text": [
      "Building image generator...\n",
      "Found 525 images belonging to 5 classes.\n",
      "Loading H:/springboard/other_data/yelp/models/vgg16_dropout2_0-0_1.h5\n",
      "Evaluating H:/springboard/other_data/yelp/models/vgg16_dropout2_0-0_1.h5\n",
      "Loading H:/springboard/other_data/yelp/models/vgg16_dropout2_0-0_2.h5\n",
      "Evaluating H:/springboard/other_data/yelp/models/vgg16_dropout2_0-0_2.h5\n",
      "Loading H:/springboard/other_data/yelp/models/vgg16_dropout2_0-0_3.h5\n",
      "Evaluating H:/springboard/other_data/yelp/models/vgg16_dropout2_0-0_3.h5\n",
      "Loading H:/springboard/other_data/yelp/models/vgg16_dropout2_0-1_1.h5\n",
      "Evaluating H:/springboard/other_data/yelp/models/vgg16_dropout2_0-1_1.h5\n",
      "Loading H:/springboard/other_data/yelp/models/vgg16_dropout2_0-1_2.h5\n",
      "Evaluating H:/springboard/other_data/yelp/models/vgg16_dropout2_0-1_2.h5\n",
      "Loading H:/springboard/other_data/yelp/models/vgg16_dropout2_0-1_3.h5\n",
      "Evaluating H:/springboard/other_data/yelp/models/vgg16_dropout2_0-1_3.h5\n",
      "Loading H:/springboard/other_data/yelp/models/vgg16_dropout2_0-2_1.h5\n",
      "Evaluating H:/springboard/other_data/yelp/models/vgg16_dropout2_0-2_1.h5\n",
      "Loading H:/springboard/other_data/yelp/models/vgg16_dropout2_0-2_2.h5\n",
      "Evaluating H:/springboard/other_data/yelp/models/vgg16_dropout2_0-2_2.h5\n",
      "Loading H:/springboard/other_data/yelp/models/vgg16_dropout2_0-2_3.h5\n",
      "Evaluating H:/springboard/other_data/yelp/models/vgg16_dropout2_0-2_3.h5\n",
      "Loading H:/springboard/other_data/yelp/models/vgg16_dropout2_0-3_1.h5\n",
      "Evaluating H:/springboard/other_data/yelp/models/vgg16_dropout2_0-3_1.h5\n",
      "Loading H:/springboard/other_data/yelp/models/vgg16_dropout2_0-3_2.h5\n",
      "Evaluating H:/springboard/other_data/yelp/models/vgg16_dropout2_0-3_2.h5\n",
      "Loading H:/springboard/other_data/yelp/models/vgg16_dropout2_0-3_3.h5\n",
      "Evaluating H:/springboard/other_data/yelp/models/vgg16_dropout2_0-3_3.h5\n",
      "Loading H:/springboard/other_data/yelp/models/vgg16_dropout2_0-4_1.h5\n",
      "Evaluating H:/springboard/other_data/yelp/models/vgg16_dropout2_0-4_1.h5\n",
      "Loading H:/springboard/other_data/yelp/models/vgg16_dropout2_0-4_2.h5\n",
      "Evaluating H:/springboard/other_data/yelp/models/vgg16_dropout2_0-4_2.h5\n",
      "Loading H:/springboard/other_data/yelp/models/vgg16_dropout2_0-4_3.h5\n",
      "Evaluating H:/springboard/other_data/yelp/models/vgg16_dropout2_0-4_3.h5\n",
      "Evaluation complete.\n",
      "\n"
     ]
    }
   ],
   "source": [
    "# evaluate dropout2 conditions\n",
    "d2s = np.array([0, 0.1, 0.2, 0.3, 0.4])\n",
    "replicates = 3\n",
    "\n",
    "model_paths = dict()\n",
    "dir_path = 'H:/springboard/other_data/yelp/models'\n",
    "\n",
    "for d2 in d2s:\n",
    "    condition = 'dropout2_{}'.format(str(d2).replace('.', '-'))\n",
    "    \n",
    "    # add key-value pairs to model_paths\n",
    "    for i in range(1, replicates+1):\n",
    "        key = condition + ' - ' + str(i)\n",
    "        value = '{}/vgg16_{}_{}.h5'.format(dir_path, condition, str(i))\n",
    "        model_paths[key] = value\n",
    "        \n",
    "model_metrics = c2t.eval_models(model_paths, valid_path)"
   ]
  },
  {
   "cell_type": "code",
   "execution_count": 5,
   "metadata": {},
   "outputs": [],
   "source": [
    "# save dropout2 comparison table\n",
    "c2t.eval_table(model_metrics, index_name='Dropout 2').to_csv('figures/d2_comparison_table.csv')"
   ]
  },
  {
   "cell_type": "code",
   "execution_count": 6,
   "metadata": {},
   "outputs": [
    {
     "name": "stdout",
     "output_type": "stream",
     "text": [
      "Building image generator...\n",
      "Found 20000 images belonging to 5 classes.\n",
      "Loading models/full_set_model.h5\n",
      "Evaluating models/full_set_model.h5\n",
      "Evaluation complete.\n",
      "\n"
     ]
    }
   ],
   "source": [
    "# evaluate full image set model on full validation set\n",
    "photos_path = 'H:/springboard/other_data/yelp/Photos/final_photos/'\n",
    "valid_path = photos_path + 'val'\n",
    "\n",
    "model_paths = {'model': 'models/full_set_model.h5'}\n",
    "model_metrics = c2t.eval_models(model_paths, valid_path)"
   ]
  },
  {
   "cell_type": "code",
   "execution_count": 7,
   "metadata": {},
   "outputs": [
    {
     "name": "stdout",
     "output_type": "stream",
     "text": [
      "accuracy:  93.1%\n",
      "loss:  0.1931\n",
      "pcr:  [0.4727 0.9859 0.9024 0.2095 0.8182]\n",
      "mean pcr:  67.77%\n",
      "confusion matrix: \n"
     ]
    },
    {
     "data": {
      "text/plain": [
       "[[355, 168, 199, 0, 29],\n",
       " [40, 13055, 110, 0, 37],\n",
       " [19, 83, 3847, 0, 314],\n",
       " [3, 4, 39, 22, 37],\n",
       " [1, 6, 291, 0, 1341]]"
      ]
     },
     "execution_count": 7,
     "metadata": {},
     "output_type": "execute_result"
    }
   ],
   "source": [
    "c2t.print_eval(model_metrics['model'])"
   ]
  },
  {
   "cell_type": "code",
   "execution_count": null,
   "metadata": {},
   "outputs": [],
   "source": []
  }
 ],
 "metadata": {
  "kernelspec": {
   "display_name": "Python 3",
   "language": "python",
   "name": "python3"
  },
  "language_info": {
   "codemirror_mode": {
    "name": "ipython",
    "version": 3
   },
   "file_extension": ".py",
   "mimetype": "text/x-python",
   "name": "python",
   "nbconvert_exporter": "python",
   "pygments_lexer": "ipython3",
   "version": "3.6.6"
  }
 },
 "nbformat": 4,
 "nbformat_minor": 2
}
