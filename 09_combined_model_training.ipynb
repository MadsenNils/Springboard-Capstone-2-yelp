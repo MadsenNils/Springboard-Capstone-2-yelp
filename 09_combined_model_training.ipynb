{
 "cells": [
  {
   "cell_type": "markdown",
   "metadata": {},
   "source": [
    "# Springboard Capstone Project 2\n",
    "## Combined Model Training\n",
    "___\n",
    "\n",
    "Another potential solution to the class imbalance problem is to combine both the model trained on the full image set and that trained on the downsampled image set. A new Keras model was created such that the input was fed into both models, and the outputs of the models were combined into a 10-node layer. Then, a new output layer of 5 nodes was trained on the downsampled image set to learn the patterns in this 10-node layer."
   ]
  },
  {
   "cell_type": "code",
   "execution_count": 1,
   "metadata": {},
   "outputs": [
    {
     "name": "stderr",
     "output_type": "stream",
     "text": [
      "Using TensorFlow backend.\n"
     ]
    },
    {
     "data": {
      "text/plain": [
       "<module 'cap2tools' from 'C:\\\\Users\\\\Nils\\\\Documents\\\\GitHub\\\\Springboard-Capstone-2-local-yelp\\\\cap2tools.py'>"
      ]
     },
     "execution_count": 1,
     "metadata": {},
     "output_type": "execute_result"
    }
   ],
   "source": [
    "import pandas as pd\n",
    "import numpy as np\n",
    "import matplotlib.pyplot as plt\n",
    "import tensorflow as tf\n",
    "import keras.backend as K\n",
    "from keras.applications import VGG16\n",
    "from keras.models import load_model, Model\n",
    "from keras.layers import Dense, concatenate, Input, Flatten, Dropout\n",
    "from keras.optimizers import Adam\n",
    "from keras.callbacks import ModelCheckpoint, EarlyStopping\n",
    "from keras.preprocessing.image import ImageDataGenerator\n",
    "import importlib as imp\n",
    "\n",
    "# custom module for capstone 2\n",
    "import cap2tools as c2t\n",
    "imp.reload(c2t)"
   ]
  },
  {
   "cell_type": "code",
   "execution_count": 2,
   "metadata": {},
   "outputs": [],
   "source": [
    "# configure GPU memory usage by tensorflow\n",
    "config = K.tf.ConfigProto()\n",
    "config.gpu_options.allow_growth = True\n",
    "config.gpu_options.per_process_gpu_memory_fraction = 0.90\n",
    "K.tensorflow_backend.set_session(K.tf.Session(config=config))"
   ]
  },
  {
   "cell_type": "code",
   "execution_count": 3,
   "metadata": {},
   "outputs": [
    {
     "name": "stdout",
     "output_type": "stream",
     "text": [
      "Found 5480 images belonging to 5 classes.\n",
      "Found 525 images belonging to 5 classes.\n"
     ]
    }
   ],
   "source": [
    "# define paths to image directories\n",
    "photos_path = 'C:/Users/Nils/Documents/GitHub/Springboard-Capstone-2-local-yelp/downsampled/'\n",
    "train_path = photos_path + 'train'\n",
    "valid_path = photos_path + 'val'\n",
    "\n",
    "# build image generators to feed CNN\n",
    "train_batches, valid_batches = c2t.build_datagens(train_path, valid_path, augment=True)"
   ]
  },
  {
   "cell_type": "code",
   "execution_count": 4,
   "metadata": {},
   "outputs": [],
   "source": [
    "# save weights only for base models\n",
    "base_model_large = load_model('models/full_set_model.h5')\n",
    "base_model_large.save_weights('models/full_set_model_weights.h5')\n",
    "del base_model_large\n",
    "\n",
    "base_model_downsample = load_model('models/downsample_model_1.h5')\n",
    "base_model_downsample.save_weights('models/downsample_model_1_weights.h5')\n",
    "del base_model_downsample"
   ]
  },
  {
   "cell_type": "code",
   "execution_count": 5,
   "metadata": {},
   "outputs": [],
   "source": [
    "# rebuild full image set model architecture\n",
    "widths = (1000, 1250)\n",
    "dropout1 = 0\n",
    "dropout2 = 0.2\n",
    "\n",
    "base_model = VGG16(include_top=False, \n",
    "                   weights=None, \n",
    "                   input_shape=(224, 224, 3))\n",
    "\n",
    "inputs = base_model.output\n",
    "x = Flatten()(inputs)\n",
    "x = Dense(widths[0], activation='relu')(x)\n",
    "x = Dropout(dropout1)(x)\n",
    "x = Dense(widths[1], activation='relu')(x)\n",
    "x = Dropout(dropout2)(x)\n",
    "preds = Dense(5, activation='relu')(x)\n",
    "\n",
    "base_model_full = Model(inputs=base_model.inputs, outputs=preds)\n",
    "base_model_full.name = 'full'\n",
    "del base_model\n",
    "\n",
    "# load trained weights into model\n",
    "base_model_full.load_weights('models/full_set_model_weights.h5')\n",
    "\n",
    "# set weights to untrainable\n",
    "for layer in base_model_full.layers:\n",
    "    layer.trainable = False"
   ]
  },
  {
   "cell_type": "code",
   "execution_count": 6,
   "metadata": {},
   "outputs": [],
   "source": [
    "# rebuild downsampled model architecture\n",
    "widths = (1000, 1250)\n",
    "dropout1 = 0\n",
    "dropout2 = 0.2\n",
    "\n",
    "base_model = VGG16(include_top=False, \n",
    "                   weights=None, \n",
    "                   input_shape=(224, 224, 3))\n",
    "\n",
    "inputs = base_model.output\n",
    "x = Flatten()(inputs)\n",
    "x = Dense(widths[0], activation='relu')(x)\n",
    "x = Dropout(dropout1)(x)\n",
    "x = Dense(widths[1], activation='relu')(x)\n",
    "x = Dropout(dropout2)(x)\n",
    "preds = Dense(5, activation='relu')(x)\n",
    "\n",
    "base_model_down = Model(inputs=base_model.inputs, outputs=preds)\n",
    "base_model_down.name = 'down'\n",
    "del base_model\n",
    "\n",
    "# load trained weights into model\n",
    "base_model_down.load_weights('models/downsample_model_1_weights.h5')\n",
    "\n",
    "# set weights to untrainable\n",
    "for layer in base_model_down.layers:\n",
    "    layer.trainable = False"
   ]
  },
  {
   "cell_type": "code",
   "execution_count": 7,
   "metadata": {},
   "outputs": [],
   "source": [
    "# construct combined model\n",
    "inputs = Input(shape=(224, 224, 3,), name='main_input')\n",
    "full_out = base_model_full(inputs)\n",
    "down_out = base_model_down(inputs)\n",
    "\n",
    "# combine outputs of base models into one layer\n",
    "x = concatenate([full_out, down_out])\n",
    "\n",
    "# new output layer\n",
    "preds = Dense(5, activation='softmax')(x)\n",
    "\n",
    "# compile model\n",
    "model = Model(inputs=inputs, outputs=preds)\n",
    "model.compile(optimizer=Adam(lr=0.1, decay=0.1), \n",
    "              loss='categorical_crossentropy', \n",
    "              metrics=['accuracy'])\n",
    "\n",
    "# clear other models from memory\n",
    "del base_model_full\n",
    "del base_model_down"
   ]
  },
  {
   "cell_type": "code",
   "execution_count": 8,
   "metadata": {},
   "outputs": [
    {
     "name": "stdout",
     "output_type": "stream",
     "text": [
      "__________________________________________________________________________________________________\n",
      "Layer (type)                    Output Shape         Param #     Connected to                     \n",
      "==================================================================================================\n",
      "main_input (InputLayer)         (None, 224, 224, 3)  0                                            \n",
      "__________________________________________________________________________________________________\n",
      "full (Model)                    (None, 5)            41061193    main_input[0][0]                 \n",
      "__________________________________________________________________________________________________\n",
      "down (Model)                    (None, 5)            41061193    main_input[0][0]                 \n",
      "__________________________________________________________________________________________________\n",
      "concatenate_1 (Concatenate)     (None, 10)           0           full[1][0]                       \n",
      "                                                                 down[1][0]                       \n",
      "__________________________________________________________________________________________________\n",
      "dense_7 (Dense)                 (None, 5)            55          concatenate_1[0][0]              \n",
      "==================================================================================================\n",
      "Total params: 82,122,441\n",
      "Trainable params: 55\n",
      "Non-trainable params: 82,122,386\n",
      "__________________________________________________________________________________________________\n"
     ]
    }
   ],
   "source": [
    "model.summary()"
   ]
  },
  {
   "cell_type": "code",
   "execution_count": 9,
   "metadata": {},
   "outputs": [
    {
     "name": "stdout",
     "output_type": "stream",
     "text": [
      "Epoch 1/20\n",
      "685/685 [==============================] - 98s 143ms/step - loss: 0.3546 - acc: 0.8714 - val_loss: 0.2462 - val_acc: 0.9105\n",
      "\n",
      "Epoch 00001: val_loss improved from inf to 0.24620, saving model to models/combined_model.h5\n",
      "Epoch 2/20\n",
      "685/685 [==============================] - 96s 141ms/step - loss: 0.2865 - acc: 0.8956 - val_loss: 0.2401 - val_acc: 0.9086\n",
      "\n",
      "Epoch 00002: val_loss improved from 0.24620 to 0.24005, saving model to models/combined_model.h5\n",
      "Epoch 3/20\n",
      "685/685 [==============================] - 96s 140ms/step - loss: 0.2945 - acc: 0.8920 - val_loss: 0.2374 - val_acc: 0.9105\n",
      "\n",
      "Epoch 00003: val_loss improved from 0.24005 to 0.23741, saving model to models/combined_model.h5\n",
      "Epoch 4/20\n",
      "685/685 [==============================] - 96s 140ms/step - loss: 0.2896 - acc: 0.8922 - val_loss: 0.2370 - val_acc: 0.9105\n",
      "\n",
      "Epoch 00004: val_loss improved from 0.23741 to 0.23699, saving model to models/combined_model.h5\n",
      "Epoch 5/20\n",
      "685/685 [==============================] - 96s 140ms/step - loss: 0.2892 - acc: 0.8949 - val_loss: 0.2402 - val_acc: 0.9067\n",
      "\n",
      "Epoch 00005: val_loss did not improve from 0.23699\n",
      "Epoch 6/20\n",
      "685/685 [==============================] - 96s 140ms/step - loss: 0.2973 - acc: 0.8927 - val_loss: 0.2363 - val_acc: 0.9105\n",
      "\n",
      "Epoch 00006: val_loss improved from 0.23699 to 0.23632, saving model to models/combined_model.h5\n",
      "Epoch 7/20\n",
      "685/685 [==============================] - 96s 140ms/step - loss: 0.2877 - acc: 0.8934 - val_loss: 0.2359 - val_acc: 0.9086\n",
      "\n",
      "Epoch 00007: val_loss improved from 0.23632 to 0.23593, saving model to models/combined_model.h5\n",
      "Epoch 8/20\n",
      "685/685 [==============================] - 96s 140ms/step - loss: 0.2856 - acc: 0.8894 - val_loss: 0.2360 - val_acc: 0.9105\n",
      "\n",
      "Epoch 00008: val_loss did not improve from 0.23593\n",
      "Epoch 9/20\n",
      "685/685 [==============================] - 96s 140ms/step - loss: 0.2807 - acc: 0.8920 - val_loss: 0.2365 - val_acc: 0.9086\n",
      "\n",
      "Epoch 00009: val_loss did not improve from 0.23593\n",
      "Epoch 10/20\n",
      "685/685 [==============================] - 96s 140ms/step - loss: 0.2869 - acc: 0.8947 - val_loss: 0.2352 - val_acc: 0.9124\n",
      "\n",
      "Epoch 00010: val_loss improved from 0.23593 to 0.23524, saving model to models/combined_model.h5\n",
      "Epoch 11/20\n",
      "685/685 [==============================] - 96s 140ms/step - loss: 0.2981 - acc: 0.8918 - val_loss: 0.2358 - val_acc: 0.9105\n",
      "\n",
      "Epoch 00011: val_loss did not improve from 0.23524\n",
      "Epoch 12/20\n",
      "685/685 [==============================] - 96s 140ms/step - loss: 0.2929 - acc: 0.8889 - val_loss: 0.2351 - val_acc: 0.9124\n",
      "\n",
      "Epoch 00012: val_loss improved from 0.23524 to 0.23512, saving model to models/combined_model.h5\n",
      "Epoch 13/20\n",
      "685/685 [==============================] - 96s 140ms/step - loss: 0.2886 - acc: 0.8945 - val_loss: 0.2346 - val_acc: 0.9143\n",
      "\n",
      "Epoch 00013: val_loss improved from 0.23512 to 0.23460, saving model to models/combined_model.h5\n",
      "Epoch 14/20\n",
      "685/685 [==============================] - 96s 140ms/step - loss: 0.2856 - acc: 0.8909 - val_loss: 0.2349 - val_acc: 0.9143\n",
      "\n",
      "Epoch 00014: val_loss did not improve from 0.23460\n",
      "Epoch 15/20\n",
      "685/685 [==============================] - 96s 140ms/step - loss: 0.2820 - acc: 0.8912 - val_loss: 0.2353 - val_acc: 0.9124\n",
      "\n",
      "Epoch 00015: val_loss did not improve from 0.23460\n",
      "Epoch 16/20\n",
      "685/685 [==============================] - 96s 140ms/step - loss: 0.2893 - acc: 0.8889 - val_loss: 0.2347 - val_acc: 0.9124\n",
      "\n",
      "Epoch 00016: val_loss did not improve from 0.23460\n",
      "Epoch 00016: early stopping\n"
     ]
    }
   ],
   "source": [
    "# define callbacks\n",
    "savepath = 'models/combined_model.h5'\n",
    "saver = ModelCheckpoint(savepath,\n",
    "                        monitor='val_loss',\n",
    "                        verbose=1,\n",
    "                        save_best_only=True)\n",
    "\n",
    "stopper = EarlyStopping(monitor='val_loss', \n",
    "                        patience=3, \n",
    "                        verbose=1)\n",
    "\n",
    "# train model\n",
    "n_epochs = 20\n",
    "\n",
    "history = model.fit_generator(train_batches, \n",
    "                              validation_data=valid_batches,\n",
    "                              epochs=n_epochs, \n",
    "                              verbose=1, \n",
    "                              callbacks=[saver, stopper])"
   ]
  },
  {
   "cell_type": "code",
   "execution_count": 10,
   "metadata": {
    "scrolled": true
   },
   "outputs": [
    {
     "data": {
      "image/png": "[encoded data removed]",
      "text/plain": [
       "<Figure size 720x504 with 1 Axes>"
      ]
     },
     "metadata": {},
     "output_type": "display_data"
    },
    {
     "data": {
      "image/png": "[encoded data removed]",
      "text/plain": [
       "<Figure size 720x504 with 1 Axes>"
      ]
     },
     "metadata": {},
     "output_type": "display_data"
    }
   ],
   "source": [
    "# plot model training history\n",
    "c2t.plot_history(history)"
   ]
  },
  {
   "cell_type": "code",
   "execution_count": 11,
   "metadata": {
    "scrolled": false
   },
   "outputs": [
    {
     "name": "stdout",
     "output_type": "stream",
     "text": [
      "Building image generator...\n",
      "Found 20000 images belonging to 5 classes.\n",
      "Loading models/combined_model.h5\n",
      "Evaluating models/combined_model.h5\n",
      "Evaluation complete.\n",
      "\n",
      "accuracy:  90.43%\n",
      "loss:  0.2513\n",
      "pcr:  [0.8695 0.9323 0.8189 0.9905 0.9109]\n",
      "mean pcr:  90.44%\n",
      "confusion matrix: \n"
     ]
    },
    {
     "data": {
      "text/plain": [
       "[[653, 19, 52, 7, 20],\n",
       " [542, 12345, 184, 105, 66],\n",
       " [86, 39, 3491, 42, 605],\n",
       " [0, 0, 1, 104, 0],\n",
       " [6, 0, 126, 14, 1493]]"
      ]
     },
     "execution_count": 11,
     "metadata": {},
     "output_type": "execute_result"
    }
   ],
   "source": [
    "# evaluate model on full validation set\n",
    "model_paths = {'model': savepath}\n",
    "valid_path_full = 'H:/springboard/other_data/yelp/Photos/final_photos/val'\n",
    "model_metrics = c2t.eval_models(model_paths, valid_path_full)['model']\n",
    "c2t.print_eval(model_metrics)"
   ]
  },
  {
   "cell_type": "code",
   "execution_count": null,
   "metadata": {},
   "outputs": [],
   "source": []
  }
 ],
 "metadata": {
  "kernelspec": {
   "display_name": "Python 3",
   "language": "python",
   "name": "python3"
  },
  "language_info": {
   "codemirror_mode": {
    "name": "ipython",
    "version": 3
   },
   "file_extension": ".py",
   "mimetype": "text/x-python",
   "name": "python",
   "nbconvert_exporter": "python",
   "pygments_lexer": "ipython3",
   "version": "3.6.6"
  }
 },
 "nbformat": 4,
 "nbformat_minor": 2
}
